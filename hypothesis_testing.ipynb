{
 "cells": [
  {
   "cell_type": "markdown",
   "id": "23d58cc2",
   "metadata": {},
   "source": [
    "# Overview"
   ]
  },
  {
   "cell_type": "markdown",
   "id": "6debed73",
   "metadata": {},
   "source": [
    "### For each of the following questions, formulate a null and alternative hypothesis (be as specific as you can be), then give an example of what a true positive, true negative, type I and type II errors would look like. Note that some of the questions are intentionally phrased in a vague way. It is your job to reword these as more precise questions that could be tested."
   ]
  },
  {
   "cell_type": "markdown",
   "id": "7bbe6b82",
   "metadata": {},
   "source": [
    "### Has the network latency gone up since we switched internet service providers?"
   ]
  },
  {
   "cell_type": "markdown",
   "id": "c07faf50",
   "metadata": {},
   "source": [
    "$H_0$ = Average latency with new internet service provider is the same or down compared to the average latency of the old internet service provider.\n",
    "\n",
    "$H_A$ = Average latency with new internet service provider is up compared to the average latency of the old internet service provider."
   ]
  },
  {
   "cell_type": "markdown",
   "id": "09a6a9c8",
   "metadata": {},
   "source": [
    "**True Positive**: The average latency is up with the new internet service provider.\n",
    "\n",
    "**True Negative**: The average latency with new internet service provider is the same or down.\n",
    "\n",
    "**Type I Error**: The results say the average latency is the same or down, but it is really up. \n",
    "\n",
    "**Type II Error**: The results say the average latency is up, but it is really the same or down."
   ]
  },
  {
   "cell_type": "markdown",
   "id": "beed423a",
   "metadata": {},
   "source": [
    "### Is the website redesign any good?"
   ]
  },
  {
   "cell_type": "markdown",
   "id": "0ecceed2",
   "metadata": {},
   "source": [
    "$H_0$ = The average website session length was the same or down after the redesign.\n",
    "\n",
    "$H_A$ = There is a higher average website session length after  than before the redesign."
   ]
  },
  {
   "cell_type": "markdown",
   "id": "49969ac7",
   "metadata": {},
   "source": [
    "**True Positive**: The average website session length is higher after the redesign.\n",
    "\n",
    "**True Negative**: The average website session length was the same or down after the redesign.\n",
    "\n",
    "**Type I Error**: The results say there is no difference in average website session length, but there is.\n",
    "\n",
    "**Type II Error**: The results say there is a higher average, but there isn't."
   ]
  },
  {
   "cell_type": "markdown",
   "id": "9a940176",
   "metadata": {},
   "source": [
    "### Is our television ad driving more sales?"
   ]
  },
  {
   "cell_type": "markdown",
   "id": "698971de",
   "metadata": {},
   "source": [
    "$H_0$ = Sales were the same or down before and after the television add.\n",
    "\n",
    "$H_A$ = Our television ad leads to more sales."
   ]
  },
  {
   "cell_type": "markdown",
   "id": "514d1e31",
   "metadata": {},
   "source": [
    "**True Positive**: Our television ad increased sales.\n",
    "\n",
    "**True Negative**: Sales were the same or down before and after the television add.\n",
    "\n",
    "**Type I Error**: The results say that sales were the same or down after the ad, but really were up.\n",
    "\n",
    "**Type II Error**: The results say that sales were up, but the sales were actually the same or down."
   ]
  },
  {
   "cell_type": "markdown",
   "id": "3299df02",
   "metadata": {},
   "source": [
    "# T-Test"
   ]
  },
  {
   "cell_type": "markdown",
   "id": "d37af79d",
   "metadata": {},
   "source": [
    "### 1. Answer with the type of test you would use (assume normal distribution):\n",
    "- Is there a difference in grades of students on the second floor compared to grades of all students?\n",
    "- Are adults who drink milk taller than adults who dont drink milk?\n",
    "- Is the the price of gas higher in texas or in new mexico?\n",
    "- Are there differences in stress levels between students who take data science vs students who take web development vs students who take cloud academy?"
   ]
  },
  {
   "cell_type": "code",
   "execution_count": null,
   "id": "e29c4e9f",
   "metadata": {},
   "outputs": [],
   "source": []
  },
  {
   "cell_type": "markdown",
   "id": "b9cc1b22",
   "metadata": {},
   "source": [
    "### 2. Ace Realty wants to determine whether the average time it takes to sell homes is different for its two offices. A sample of 40 sales from office #1 revealed a mean of 90 days and a standard deviation of 15 days. A sample of 50 sales from office #2 revealed a mean of 100 days and a standard deviation of 20 days. Use a .05 level of significance."
   ]
  },
  {
   "cell_type": "code",
   "execution_count": null,
   "id": "cfc7c20c",
   "metadata": {},
   "outputs": [],
   "source": []
  },
  {
   "cell_type": "markdown",
   "id": "3428e2c2",
   "metadata": {},
   "source": [
    "### 3. Load the mpg dataset and use it to answer the following questions:\n",
    "- Is there a difference in fuel-efficiency in cars from 2008 vs 1999?\n",
    "- Are compact cars more fuel-efficient than the average car?\n",
    "- Do manual cars get better gas mileage than automatic cars?"
   ]
  },
  {
   "cell_type": "code",
   "execution_count": null,
   "id": "3a0afe6c",
   "metadata": {},
   "outputs": [],
   "source": []
  },
  {
   "cell_type": "markdown",
   "id": "436bf559",
   "metadata": {},
   "source": [
    "# Correlation"
   ]
  },
  {
   "cell_type": "markdown",
   "id": "2b678ae3",
   "metadata": {},
   "source": [
    "### 1. Answer with the type of stats test you would use (assume normal distribution):\n",
    "- Is there a relationship between the length of your arm and the length of your foot?\n",
    "- Do guys and gals quit their jobs at the same rate?\n",
    "- Does the length of time of the lecture correlate with a students grade?"
   ]
  },
  {
   "cell_type": "code",
   "execution_count": null,
   "id": "ec08747c",
   "metadata": {},
   "outputs": [],
   "source": []
  },
  {
   "cell_type": "markdown",
   "id": "db553fd7",
   "metadata": {},
   "source": [
    "### 2. Use the telco_churn data.\n",
    "- Does tenure correlate with monthly charges?\n",
    "- Total charges?\n",
    "- What happens if you control for phone and internet service?"
   ]
  },
  {
   "cell_type": "code",
   "execution_count": null,
   "id": "d2696d4e",
   "metadata": {},
   "outputs": [],
   "source": []
  },
  {
   "cell_type": "markdown",
   "id": "5860aabf",
   "metadata": {},
   "source": [
    "### 3. Use the employees database.\n",
    "- Is there a relationship between how long an employee has been with the company and their salary?\n",
    "- Is there a relationship between how long an employee has been with the company and the number of titles they have had?"
   ]
  },
  {
   "cell_type": "code",
   "execution_count": null,
   "id": "8f4d2325",
   "metadata": {},
   "outputs": [],
   "source": []
  },
  {
   "cell_type": "markdown",
   "id": "916330cd",
   "metadata": {},
   "source": [
    "### 4. Use the sleepstudy data.\n",
    "- Is there a relationship between days and reaction time?"
   ]
  },
  {
   "cell_type": "code",
   "execution_count": null,
   "id": "74376146",
   "metadata": {},
   "outputs": [],
   "source": []
  },
  {
   "cell_type": "markdown",
   "id": "6e403e4c",
   "metadata": {},
   "source": [
    "# Chi Square"
   ]
  },
  {
   "cell_type": "markdown",
   "id": "959b5a25",
   "metadata": {},
   "source": [
    "### 1. Answer with the type of stats test you would use (assume normal distribution):\n",
    "- Do students get better test grades if they have a rubber duck on their desk?\n",
    "- Does smoking affect when or not someone has lung cancer?\n",
    "- Is gender independent of a person’s blood type?\n",
    "- A farming company wants to know if a new fertilizer has improved crop yield or not\n",
    "- Does the length of time of the lecture correlate with a students grade?\n",
    "- Do people with dogs live in apartments more than people with cats?"
   ]
  },
  {
   "cell_type": "markdown",
   "id": "0446799d",
   "metadata": {},
   "source": [
    "### 2. Use the following contingency table to help answer the question of whether using a macbook and being a codeup student are independent of each other."
   ]
  },
  {
   "cell_type": "markdown",
   "id": "fdf016f8",
   "metadata": {},
   "source": [
    "### 3. Choose another 2 categorical variables from the mpg dataset and perform a $\\chi^2$ contingency table test with them. Be sure to state your null and alternative hypotheses."
   ]
  },
  {
   "cell_type": "markdown",
   "id": "7f24b9cd",
   "metadata": {},
   "source": [
    "### 4. Use the data from the employees database to answer these questions:\n",
    "- Is an employee's gender independent of whether an employee works in sales or marketing? (only look at current employees)\n",
    "- Is an employee's gender independent of whether or not they are or have been a manager?"
   ]
  },
  {
   "cell_type": "code",
   "execution_count": null,
   "id": "b6444db1",
   "metadata": {},
   "outputs": [],
   "source": []
  }
 ],
 "metadata": {
  "kernelspec": {
   "display_name": "Python 3 (ipykernel)",
   "language": "python",
   "name": "python3"
  },
  "language_info": {
   "codemirror_mode": {
    "name": "ipython",
    "version": 3
   },
   "file_extension": ".py",
   "mimetype": "text/x-python",
   "name": "python",
   "nbconvert_exporter": "python",
   "pygments_lexer": "ipython3",
   "version": "3.9.12"
  }
 },
 "nbformat": 4,
 "nbformat_minor": 5
}
