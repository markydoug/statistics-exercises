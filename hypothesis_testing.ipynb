{
 "cells": [
  {
   "cell_type": "markdown",
   "id": "c5082129",
   "metadata": {},
   "source": [
    "# Overview"
   ]
  },
  {
   "cell_type": "markdown",
   "id": "f9542577",
   "metadata": {},
   "source": [
    "### For each of the following questions, formulate a null and alternative hypothesis (be as specific as you can be), then give an example of what a true positive, true negative, type I and type II errors would look like. Note that some of the questions are intentionally phrased in a vague way. It is your job to reword these as more precise questions that could be tested."
   ]
  },
  {
   "cell_type": "markdown",
   "id": "cbce5554",
   "metadata": {},
   "source": [
    "### Has the network latency gone up since we switched internet service providers?"
   ]
  },
  {
   "cell_type": "markdown",
   "id": "14a96edd",
   "metadata": {},
   "source": [
    "$H_0$ = Average latency with new internet service provider is the same or down compared to the average latency of the old internet service provider.\n",
    "\n",
    "$H_a$ = Average latency with new internet service provider is up compared to the average latency of the old internet service provider."
   ]
  },
  {
   "cell_type": "markdown",
   "id": "39dc45ed",
   "metadata": {},
   "source": [
    "**True Positive**: The average latency is up with the new internet service provider.\n",
    "\n",
    "**True Negative**: The average latency with new internet service provider is the same or down.\n",
    "\n",
    "**Type I Error**: The results say the average latency is the same or down, but it is really up. \n",
    "\n",
    "**Type II Error**: The results say the average latency is up, but it is really the same or down."
   ]
  },
  {
   "cell_type": "markdown",
   "id": "4ec2092c",
   "metadata": {},
   "source": [
    "# Maggie's answers"
   ]
  },
  {
   "cell_type": "markdown",
   "id": "2aa6c231",
   "metadata": {},
   "source": [
    "$H_0$ = $\\mu_{latency_a} \\leq \\mu_{latency_b}$\n",
    "\n",
    "$H_a$ = $\\mu_{latency_a} > \\mu_{latency_b}$"
   ]
  },
  {
   "cell_type": "markdown",
   "id": "b969ffda",
   "metadata": {},
   "source": [
    "**True Positive**: latency went up and we said it did\n",
    "\n",
    "**True Negative**: latency didn't go up and we said it didn't\n",
    "\n",
    "**Type I Error**: latency didn't go up, but we said it did.\n",
    "\n",
    "**Type II Error**: latency did go up, but we said it didn't."
   ]
  },
  {
   "cell_type": "markdown",
   "id": "c3479088",
   "metadata": {},
   "source": [
    "### Is the website redesign any good?"
   ]
  },
  {
   "cell_type": "markdown",
   "id": "4dcd6f16",
   "metadata": {},
   "source": [
    "$H_0$ = The average website session length was the same or down after the redesign.\n",
    "\n",
    "$H_a$ = There is a higher average website session length after  than before the redesign."
   ]
  },
  {
   "cell_type": "markdown",
   "id": "14e142b1",
   "metadata": {},
   "source": [
    "**True Positive**: The average website session length is higher after the redesign.\n",
    "\n",
    "**True Negative**: The average website session length was the same or down after the redesign.\n",
    "\n",
    "**Type I Error**: The results say there is no difference in average website session length, but there is.\n",
    "\n",
    "**Type II Error**: The results say there is a higher average, but there isn't."
   ]
  },
  {
   "cell_type": "markdown",
   "id": "b8a7803c",
   "metadata": {},
   "source": [
    "# Maggie's answers"
   ]
  },
  {
   "cell_type": "markdown",
   "id": "06fe58ac",
   "metadata": {},
   "source": [
    "$H_0$ = $\\mu_{time_{old}} \\geq \\mu_{time_{new}}$\n",
    "\n",
    "$H_a$ = $\\mu_{time_{old}} < \\mu_{time_{new}}$"
   ]
  },
  {
   "cell_type": "markdown",
   "id": "d8226b58",
   "metadata": {},
   "source": [
    "**True Positive**: visitors spend more time and we said that\n",
    "\n",
    "**True Negative**: visitors spend less or equal time and we said that.\n",
    "\n",
    "**Type I Error**: We said the site is better, but it's not.\n",
    "\n",
    "**Type II Error**: We said the site is not better, but it is. "
   ]
  },
  {
   "cell_type": "markdown",
   "id": "f7fa6ad2",
   "metadata": {},
   "source": [
    "### Is our television ad driving more sales?"
   ]
  },
  {
   "cell_type": "markdown",
   "id": "dd17c788",
   "metadata": {},
   "source": [
    "$H_0$ = Sales were the same or down before and after the television add.\n",
    "\n",
    "$H_a$ = Our television ad leads to more sales."
   ]
  },
  {
   "cell_type": "markdown",
   "id": "8c2e0edd",
   "metadata": {},
   "source": [
    "**True Positive**: Our television ad increased sales.\n",
    "\n",
    "**True Negative**: Sales were the same or down before and after the television add.\n",
    "\n",
    "**Type I Error**: The results say that sales were the same or down after the ad, but really were up.\n",
    "\n",
    "**Type II Error**: The results say that sales were up, but the sales were actually the same or down."
   ]
  },
  {
   "cell_type": "markdown",
   "id": "59063960",
   "metadata": {},
   "source": [
    "# Maggie's answers"
   ]
  },
  {
   "cell_type": "markdown",
   "id": "497decc4",
   "metadata": {},
   "source": [
    "$H_0$ = $\\mu_{sales_{pre}} \\geq \\mu_{sales_{post}}$\n",
    "\n",
    "$H_a$ = $\\mu_{sales_{pre}} < \\mu_{sales_{post}}$"
   ]
  },
  {
   "cell_type": "markdown",
   "id": "58b77555",
   "metadata": {},
   "source": [
    "**True Positive**: Post ad sales are higher, and we said they would.\n",
    "\n",
    "**True Negative**: Post ad sales didn't increase, and we said they wouldn't \n",
    "\n",
    "**Type I Error**: Post ad sales are not higher, but we said they are\n",
    "\n",
    "**Type II Error**: Post ad sales increased, but we said it didn't"
   ]
  },
  {
   "cell_type": "markdown",
   "id": "d4e743b6",
   "metadata": {},
   "source": [
    "# T-Test"
   ]
  },
  {
   "cell_type": "code",
   "execution_count": 179,
   "id": "3944f9b8",
   "metadata": {},
   "outputs": [],
   "source": [
    "import pandas as pd\n",
    "import numpy as np\n",
    "import matplotlib.pyplot as plt\n",
    "import seaborn as sns\n",
    "import datetime\n",
    "\n",
    "from math import sqrt\n",
    "\n",
    "from scipy import stats\n",
    "from pydataset import data\n",
    "\n",
    "\n",
    "from env import get_db_url"
   ]
  },
  {
   "cell_type": "markdown",
   "id": "fff55e24",
   "metadata": {},
   "source": [
    "### 1. Answer with the type of test you would use (assume normal distribution):\n",
    "- Is there a difference in grades of students on the second floor compared to grades of all students? **One-sample ttest two-tail**"
   ]
  },
  {
   "cell_type": "markdown",
   "id": "32b94f47",
   "metadata": {},
   "source": [
    "- Are adults who drink milk taller than adults who dont drink milk? **Independent ttest one-tail**"
   ]
  },
  {
   "cell_type": "markdown",
   "id": "f1360c95",
   "metadata": {},
   "source": [
    "- Is the the price of gas higher in Texas or in New Mexico? **Independent ttest One-tail**"
   ]
  },
  {
   "cell_type": "markdown",
   "id": "d97d846f",
   "metadata": {},
   "source": [
    "- Are there differences in stress levels between students who take data science vs students who take web development vs students who take cloud academy? **ANOVA**"
   ]
  },
  {
   "cell_type": "markdown",
   "id": "76e39ac4",
   "metadata": {},
   "source": [
    "### 2. Ace Realty wants to determine whether the average time it takes to sell homes is different for its two offices. "
   ]
  },
  {
   "cell_type": "markdown",
   "id": "27ff4f5d",
   "metadata": {},
   "source": [
    "**Set Hypothesis**\n",
    "\n",
    "$H_{0}$: There is no difference in average time it takes to sell a home between offices.\n",
    "\n",
    "$H_{a}$: There is a difference in average time it takes to sell a home between offices."
   ]
  },
  {
   "cell_type": "markdown",
   "id": "2dcdb960",
   "metadata": {},
   "source": [
    "### A sample of 40 sales from office #1 revealed a mean of 90 days and a standard deviation of 15 days."
   ]
  },
  {
   "cell_type": "code",
   "execution_count": 106,
   "id": "fc0d992e",
   "metadata": {},
   "outputs": [
    {
     "data": {
      "text/plain": [
       "array([105.81969329, 109.92518818,  88.46013524,  97.44168139,\n",
       "        82.63738012,  94.68224625,  79.02691137,  87.83822428,\n",
       "       101.05330788,  66.37516821,  66.37681505,  95.72610728,\n",
       "        97.41711318, 106.41462305, 103.3162847 ,  89.51786299,\n",
       "        87.46575881,  93.38517675,  80.36260127,  98.35250976,\n",
       "       112.83910662,  76.7354813 , 108.99101723,  73.24523662,\n",
       "       110.93632566,  80.72021734,  67.71899811, 103.98043838,\n",
       "        66.49970628,  77.05241938,  86.81130827,  80.60636119,\n",
       "        88.7186356 ,  93.95921925, 108.18387826,  89.12240948,\n",
       "        97.23580232,  57.01635425, 108.26202787,  98.09858606])"
      ]
     },
     "execution_count": 106,
     "metadata": {},
     "output_type": "execute_result"
    }
   ],
   "source": [
    "office1 = stats.norm(90,15).rvs(40)\n",
    "office1"
   ]
  },
  {
   "cell_type": "markdown",
   "id": "a3e3261d",
   "metadata": {},
   "source": [
    "### A sample of 50 sales from office #2 revealed a mean of 100 days and a standard deviation of 20 days. Use a .05 level of significance."
   ]
  },
  {
   "cell_type": "code",
   "execution_count": 107,
   "id": "e4c606d5",
   "metadata": {},
   "outputs": [
    {
     "data": {
      "text/plain": [
       "array([ 71.55694729,  93.28061078,  90.35351188,  65.28502898,\n",
       "       126.86122399, 101.24965206,  97.1838577 , 108.14560788,\n",
       "       102.3794396 ,  85.20410696,  91.52544197,  95.4151588 ,\n",
       "       118.45539886,  95.77944526,  91.42214849, 106.79692154,\n",
       "       117.59479814, 157.04125821, 112.27791703,  96.48503356,\n",
       "       124.05215347, 105.29313247,  99.88761488, 118.92940188,\n",
       "       115.10461321, 111.49344677, 106.37533907, 117.72319691,\n",
       "       104.50068892, 109.90363844, 119.91798847, 127.20672163,\n",
       "       109.9967125 , 110.26598064, 124.16235407, 119.12804583,\n",
       "       103.5723138 , 142.83157292,  87.64141643,  87.59793753,\n",
       "        95.14640328, 115.17139113, 128.19887   , 106.31459267,\n",
       "        95.8726227 ,  95.32530729,  81.49509618,  85.06323786,\n",
       "        91.36707095, 119.42728087])"
      ]
     },
     "execution_count": 107,
     "metadata": {},
     "output_type": "execute_result"
    }
   ],
   "source": [
    "office2 = stats.norm(100,20).rvs(50)\n",
    "office2"
   ]
  },
  {
   "cell_type": "code",
   "execution_count": 108,
   "id": "014d0912",
   "metadata": {},
   "outputs": [
    {
     "data": {
      "text/plain": [
       "LeveneResult(statistic=0.4981026285032792, pvalue=0.4821991849867847)"
      ]
     },
     "execution_count": 108,
     "metadata": {},
     "output_type": "execute_result"
    }
   ],
   "source": [
    "stats.levene(office1, office2)"
   ]
  },
  {
   "cell_type": "code",
   "execution_count": 102,
   "id": "5200edd4",
   "metadata": {},
   "outputs": [],
   "source": [
    "alpha = 0.05"
   ]
  },
  {
   "cell_type": "code",
   "execution_count": 103,
   "id": "f6a7cc02",
   "metadata": {},
   "outputs": [
    {
     "data": {
      "text/plain": [
       "(-3.928158000468648, 0.00016987508156845514)"
      ]
     },
     "execution_count": 103,
     "metadata": {},
     "output_type": "execute_result"
    }
   ],
   "source": [
    "tstat, pval = stats.ttest_ind(office1, office2)\n",
    "\n",
    "tstat, pval"
   ]
  },
  {
   "cell_type": "markdown",
   "id": "80c3a1b0",
   "metadata": {},
   "source": [
    "**Decide**\n",
    "\n",
    "Is $p < \\alpha$ "
   ]
  },
  {
   "cell_type": "code",
   "execution_count": 109,
   "id": "0eaf35b7",
   "metadata": {},
   "outputs": [
    {
     "name": "stdout",
     "output_type": "stream",
     "text": [
      "we can reject the null hypothesis\n"
     ]
    }
   ],
   "source": [
    "if (pval < alpha):\n",
    "    print(\"we can reject the null hypothesis\")\n",
    "else:\n",
    "    print('We fail to reject the null hypothesis')"
   ]
  },
  {
   "cell_type": "markdown",
   "id": "c2f32e2a",
   "metadata": {},
   "source": [
    "**We can assume there is a difference in average time to sell a home between the two offices.**"
   ]
  },
  {
   "cell_type": "markdown",
   "id": "bc20213e",
   "metadata": {},
   "source": [
    "### 3. Load the mpg dataset and use it to answer the following questions:"
   ]
  },
  {
   "cell_type": "code",
   "execution_count": 2,
   "id": "b2e47335",
   "metadata": {},
   "outputs": [],
   "source": [
    "mpg = data('mpg')"
   ]
  },
  {
   "cell_type": "code",
   "execution_count": 3,
   "id": "16f01f42",
   "metadata": {
    "scrolled": false
   },
   "outputs": [
    {
     "data": {
      "text/html": [
       "<div>\n",
       "<style scoped>\n",
       "    .dataframe tbody tr th:only-of-type {\n",
       "        vertical-align: middle;\n",
       "    }\n",
       "\n",
       "    .dataframe tbody tr th {\n",
       "        vertical-align: top;\n",
       "    }\n",
       "\n",
       "    .dataframe thead th {\n",
       "        text-align: right;\n",
       "    }\n",
       "</style>\n",
       "<table border=\"1\" class=\"dataframe\">\n",
       "  <thead>\n",
       "    <tr style=\"text-align: right;\">\n",
       "      <th></th>\n",
       "      <th>manufacturer</th>\n",
       "      <th>model</th>\n",
       "      <th>displ</th>\n",
       "      <th>year</th>\n",
       "      <th>cyl</th>\n",
       "      <th>trans</th>\n",
       "      <th>drv</th>\n",
       "      <th>cty</th>\n",
       "      <th>hwy</th>\n",
       "      <th>fl</th>\n",
       "      <th>class</th>\n",
       "    </tr>\n",
       "  </thead>\n",
       "  <tbody>\n",
       "    <tr>\n",
       "      <th>1</th>\n",
       "      <td>audi</td>\n",
       "      <td>a4</td>\n",
       "      <td>1.8</td>\n",
       "      <td>1999</td>\n",
       "      <td>4</td>\n",
       "      <td>auto(l5)</td>\n",
       "      <td>f</td>\n",
       "      <td>18</td>\n",
       "      <td>29</td>\n",
       "      <td>p</td>\n",
       "      <td>compact</td>\n",
       "    </tr>\n",
       "    <tr>\n",
       "      <th>2</th>\n",
       "      <td>audi</td>\n",
       "      <td>a4</td>\n",
       "      <td>1.8</td>\n",
       "      <td>1999</td>\n",
       "      <td>4</td>\n",
       "      <td>manual(m5)</td>\n",
       "      <td>f</td>\n",
       "      <td>21</td>\n",
       "      <td>29</td>\n",
       "      <td>p</td>\n",
       "      <td>compact</td>\n",
       "    </tr>\n",
       "    <tr>\n",
       "      <th>3</th>\n",
       "      <td>audi</td>\n",
       "      <td>a4</td>\n",
       "      <td>2.0</td>\n",
       "      <td>2008</td>\n",
       "      <td>4</td>\n",
       "      <td>manual(m6)</td>\n",
       "      <td>f</td>\n",
       "      <td>20</td>\n",
       "      <td>31</td>\n",
       "      <td>p</td>\n",
       "      <td>compact</td>\n",
       "    </tr>\n",
       "    <tr>\n",
       "      <th>4</th>\n",
       "      <td>audi</td>\n",
       "      <td>a4</td>\n",
       "      <td>2.0</td>\n",
       "      <td>2008</td>\n",
       "      <td>4</td>\n",
       "      <td>auto(av)</td>\n",
       "      <td>f</td>\n",
       "      <td>21</td>\n",
       "      <td>30</td>\n",
       "      <td>p</td>\n",
       "      <td>compact</td>\n",
       "    </tr>\n",
       "    <tr>\n",
       "      <th>5</th>\n",
       "      <td>audi</td>\n",
       "      <td>a4</td>\n",
       "      <td>2.8</td>\n",
       "      <td>1999</td>\n",
       "      <td>6</td>\n",
       "      <td>auto(l5)</td>\n",
       "      <td>f</td>\n",
       "      <td>16</td>\n",
       "      <td>26</td>\n",
       "      <td>p</td>\n",
       "      <td>compact</td>\n",
       "    </tr>\n",
       "  </tbody>\n",
       "</table>\n",
       "</div>"
      ],
      "text/plain": [
       "  manufacturer model  displ  year  cyl       trans drv  cty  hwy fl    class\n",
       "1         audi    a4    1.8  1999    4    auto(l5)   f   18   29  p  compact\n",
       "2         audi    a4    1.8  1999    4  manual(m5)   f   21   29  p  compact\n",
       "3         audi    a4    2.0  2008    4  manual(m6)   f   20   31  p  compact\n",
       "4         audi    a4    2.0  2008    4    auto(av)   f   21   30  p  compact\n",
       "5         audi    a4    2.8  1999    6    auto(l5)   f   16   26  p  compact"
      ]
     },
     "execution_count": 3,
     "metadata": {},
     "output_type": "execute_result"
    }
   ],
   "source": [
    "mpg.head()"
   ]
  },
  {
   "cell_type": "code",
   "execution_count": 4,
   "id": "59a97704",
   "metadata": {
    "scrolled": true
   },
   "outputs": [
    {
     "name": "stdout",
     "output_type": "stream",
     "text": [
      "<class 'pandas.core.frame.DataFrame'>\n",
      "Int64Index: 234 entries, 1 to 234\n",
      "Data columns (total 11 columns):\n",
      " #   Column        Non-Null Count  Dtype  \n",
      "---  ------        --------------  -----  \n",
      " 0   manufacturer  234 non-null    object \n",
      " 1   model         234 non-null    object \n",
      " 2   displ         234 non-null    float64\n",
      " 3   year          234 non-null    int64  \n",
      " 4   cyl           234 non-null    int64  \n",
      " 5   trans         234 non-null    object \n",
      " 6   drv           234 non-null    object \n",
      " 7   cty           234 non-null    int64  \n",
      " 8   hwy           234 non-null    int64  \n",
      " 9   fl            234 non-null    object \n",
      " 10  class         234 non-null    object \n",
      "dtypes: float64(1), int64(4), object(6)\n",
      "memory usage: 21.9+ KB\n"
     ]
    }
   ],
   "source": [
    "mpg.info()"
   ]
  },
  {
   "cell_type": "code",
   "execution_count": 5,
   "id": "5006086b",
   "metadata": {
    "scrolled": false
   },
   "outputs": [
    {
     "data": {
      "text/html": [
       "<div>\n",
       "<style scoped>\n",
       "    .dataframe tbody tr th:only-of-type {\n",
       "        vertical-align: middle;\n",
       "    }\n",
       "\n",
       "    .dataframe tbody tr th {\n",
       "        vertical-align: top;\n",
       "    }\n",
       "\n",
       "    .dataframe thead th {\n",
       "        text-align: right;\n",
       "    }\n",
       "</style>\n",
       "<table border=\"1\" class=\"dataframe\">\n",
       "  <thead>\n",
       "    <tr style=\"text-align: right;\">\n",
       "      <th></th>\n",
       "      <th>displ</th>\n",
       "      <th>year</th>\n",
       "      <th>cyl</th>\n",
       "      <th>cty</th>\n",
       "      <th>hwy</th>\n",
       "    </tr>\n",
       "  </thead>\n",
       "  <tbody>\n",
       "    <tr>\n",
       "      <th>count</th>\n",
       "      <td>234.000000</td>\n",
       "      <td>234.000000</td>\n",
       "      <td>234.000000</td>\n",
       "      <td>234.000000</td>\n",
       "      <td>234.000000</td>\n",
       "    </tr>\n",
       "    <tr>\n",
       "      <th>mean</th>\n",
       "      <td>3.471795</td>\n",
       "      <td>2003.500000</td>\n",
       "      <td>5.888889</td>\n",
       "      <td>16.858974</td>\n",
       "      <td>23.440171</td>\n",
       "    </tr>\n",
       "    <tr>\n",
       "      <th>std</th>\n",
       "      <td>1.291959</td>\n",
       "      <td>4.509646</td>\n",
       "      <td>1.611534</td>\n",
       "      <td>4.255946</td>\n",
       "      <td>5.954643</td>\n",
       "    </tr>\n",
       "    <tr>\n",
       "      <th>min</th>\n",
       "      <td>1.600000</td>\n",
       "      <td>1999.000000</td>\n",
       "      <td>4.000000</td>\n",
       "      <td>9.000000</td>\n",
       "      <td>12.000000</td>\n",
       "    </tr>\n",
       "    <tr>\n",
       "      <th>25%</th>\n",
       "      <td>2.400000</td>\n",
       "      <td>1999.000000</td>\n",
       "      <td>4.000000</td>\n",
       "      <td>14.000000</td>\n",
       "      <td>18.000000</td>\n",
       "    </tr>\n",
       "    <tr>\n",
       "      <th>50%</th>\n",
       "      <td>3.300000</td>\n",
       "      <td>2003.500000</td>\n",
       "      <td>6.000000</td>\n",
       "      <td>17.000000</td>\n",
       "      <td>24.000000</td>\n",
       "    </tr>\n",
       "    <tr>\n",
       "      <th>75%</th>\n",
       "      <td>4.600000</td>\n",
       "      <td>2008.000000</td>\n",
       "      <td>8.000000</td>\n",
       "      <td>19.000000</td>\n",
       "      <td>27.000000</td>\n",
       "    </tr>\n",
       "    <tr>\n",
       "      <th>max</th>\n",
       "      <td>7.000000</td>\n",
       "      <td>2008.000000</td>\n",
       "      <td>8.000000</td>\n",
       "      <td>35.000000</td>\n",
       "      <td>44.000000</td>\n",
       "    </tr>\n",
       "  </tbody>\n",
       "</table>\n",
       "</div>"
      ],
      "text/plain": [
       "            displ         year         cyl         cty         hwy\n",
       "count  234.000000   234.000000  234.000000  234.000000  234.000000\n",
       "mean     3.471795  2003.500000    5.888889   16.858974   23.440171\n",
       "std      1.291959     4.509646    1.611534    4.255946    5.954643\n",
       "min      1.600000  1999.000000    4.000000    9.000000   12.000000\n",
       "25%      2.400000  1999.000000    4.000000   14.000000   18.000000\n",
       "50%      3.300000  2003.500000    6.000000   17.000000   24.000000\n",
       "75%      4.600000  2008.000000    8.000000   19.000000   27.000000\n",
       "max      7.000000  2008.000000    8.000000   35.000000   44.000000"
      ]
     },
     "execution_count": 5,
     "metadata": {},
     "output_type": "execute_result"
    }
   ],
   "source": [
    "mpg.describe()"
   ]
  },
  {
   "cell_type": "code",
   "execution_count": 7,
   "id": "b8e56c05",
   "metadata": {},
   "outputs": [],
   "source": [
    "#Clean up data\n",
    "mpg.rename(columns={'cty': 'city'}, inplace=True)\n",
    "mpg.rename(columns={'hwy': 'highway'}, inplace=True)"
   ]
  },
  {
   "cell_type": "code",
   "execution_count": 9,
   "id": "b930ae17",
   "metadata": {},
   "outputs": [],
   "source": [
    "#add column for overall average mpg\n",
    "mpg['average_mileage'] = round(2 / ((1/mpg.highway) + (1/mpg.city)), 2)"
   ]
  },
  {
   "cell_type": "code",
   "execution_count": 11,
   "id": "a8a4e4ef",
   "metadata": {},
   "outputs": [],
   "source": [
    "#add column for automatic = True manual = False\n",
    "mpg['is_automatic'] = mpg.trans.str.contains('auto')"
   ]
  },
  {
   "cell_type": "code",
   "execution_count": 12,
   "id": "9ecc366d",
   "metadata": {},
   "outputs": [
    {
     "data": {
      "text/html": [
       "<div>\n",
       "<style scoped>\n",
       "    .dataframe tbody tr th:only-of-type {\n",
       "        vertical-align: middle;\n",
       "    }\n",
       "\n",
       "    .dataframe tbody tr th {\n",
       "        vertical-align: top;\n",
       "    }\n",
       "\n",
       "    .dataframe thead th {\n",
       "        text-align: right;\n",
       "    }\n",
       "</style>\n",
       "<table border=\"1\" class=\"dataframe\">\n",
       "  <thead>\n",
       "    <tr style=\"text-align: right;\">\n",
       "      <th></th>\n",
       "      <th>manufacturer</th>\n",
       "      <th>model</th>\n",
       "      <th>displ</th>\n",
       "      <th>year</th>\n",
       "      <th>cyl</th>\n",
       "      <th>trans</th>\n",
       "      <th>drv</th>\n",
       "      <th>city</th>\n",
       "      <th>highway</th>\n",
       "      <th>fl</th>\n",
       "      <th>class</th>\n",
       "      <th>average_mileage</th>\n",
       "      <th>is_automatic</th>\n",
       "    </tr>\n",
       "  </thead>\n",
       "  <tbody>\n",
       "    <tr>\n",
       "      <th>1</th>\n",
       "      <td>audi</td>\n",
       "      <td>a4</td>\n",
       "      <td>1.8</td>\n",
       "      <td>1999</td>\n",
       "      <td>4</td>\n",
       "      <td>auto(l5)</td>\n",
       "      <td>f</td>\n",
       "      <td>18</td>\n",
       "      <td>29</td>\n",
       "      <td>p</td>\n",
       "      <td>compact</td>\n",
       "      <td>22.21</td>\n",
       "      <td>True</td>\n",
       "    </tr>\n",
       "    <tr>\n",
       "      <th>2</th>\n",
       "      <td>audi</td>\n",
       "      <td>a4</td>\n",
       "      <td>1.8</td>\n",
       "      <td>1999</td>\n",
       "      <td>4</td>\n",
       "      <td>manual(m5)</td>\n",
       "      <td>f</td>\n",
       "      <td>21</td>\n",
       "      <td>29</td>\n",
       "      <td>p</td>\n",
       "      <td>compact</td>\n",
       "      <td>24.36</td>\n",
       "      <td>False</td>\n",
       "    </tr>\n",
       "    <tr>\n",
       "      <th>3</th>\n",
       "      <td>audi</td>\n",
       "      <td>a4</td>\n",
       "      <td>2.0</td>\n",
       "      <td>2008</td>\n",
       "      <td>4</td>\n",
       "      <td>manual(m6)</td>\n",
       "      <td>f</td>\n",
       "      <td>20</td>\n",
       "      <td>31</td>\n",
       "      <td>p</td>\n",
       "      <td>compact</td>\n",
       "      <td>24.31</td>\n",
       "      <td>False</td>\n",
       "    </tr>\n",
       "    <tr>\n",
       "      <th>4</th>\n",
       "      <td>audi</td>\n",
       "      <td>a4</td>\n",
       "      <td>2.0</td>\n",
       "      <td>2008</td>\n",
       "      <td>4</td>\n",
       "      <td>auto(av)</td>\n",
       "      <td>f</td>\n",
       "      <td>21</td>\n",
       "      <td>30</td>\n",
       "      <td>p</td>\n",
       "      <td>compact</td>\n",
       "      <td>24.71</td>\n",
       "      <td>True</td>\n",
       "    </tr>\n",
       "    <tr>\n",
       "      <th>5</th>\n",
       "      <td>audi</td>\n",
       "      <td>a4</td>\n",
       "      <td>2.8</td>\n",
       "      <td>1999</td>\n",
       "      <td>6</td>\n",
       "      <td>auto(l5)</td>\n",
       "      <td>f</td>\n",
       "      <td>16</td>\n",
       "      <td>26</td>\n",
       "      <td>p</td>\n",
       "      <td>compact</td>\n",
       "      <td>19.81</td>\n",
       "      <td>True</td>\n",
       "    </tr>\n",
       "  </tbody>\n",
       "</table>\n",
       "</div>"
      ],
      "text/plain": [
       "  manufacturer model  displ  year  cyl       trans drv  city  highway fl  \\\n",
       "1         audi    a4    1.8  1999    4    auto(l5)   f    18       29  p   \n",
       "2         audi    a4    1.8  1999    4  manual(m5)   f    21       29  p   \n",
       "3         audi    a4    2.0  2008    4  manual(m6)   f    20       31  p   \n",
       "4         audi    a4    2.0  2008    4    auto(av)   f    21       30  p   \n",
       "5         audi    a4    2.8  1999    6    auto(l5)   f    16       26  p   \n",
       "\n",
       "     class  average_mileage  is_automatic  \n",
       "1  compact            22.21          True  \n",
       "2  compact            24.36         False  \n",
       "3  compact            24.31         False  \n",
       "4  compact            24.71          True  \n",
       "5  compact            19.81          True  "
      ]
     },
     "execution_count": 12,
     "metadata": {},
     "output_type": "execute_result"
    }
   ],
   "source": [
    "mpg.head()"
   ]
  },
  {
   "cell_type": "markdown",
   "id": "c31c9b9d",
   "metadata": {},
   "source": [
    "###  Is there a difference in fuel-efficiency in cars from 2008 vs 1999?"
   ]
  },
  {
   "cell_type": "markdown",
   "id": "4a8db8a2",
   "metadata": {},
   "source": [
    "**A. Plot Distribution**"
   ]
  },
  {
   "cell_type": "code",
   "execution_count": 14,
   "id": "1796e838",
   "metadata": {},
   "outputs": [
    {
     "data": {
      "image/png": "[encoded data removed]",
      "text/plain": [
       "<Figure size 432x288 with 1 Axes>"
      ]
     },
     "metadata": {
      "needs_background": "light"
     },
     "output_type": "display_data"
    }
   ],
   "source": [
    "mpg.average_mileage.hist();"
   ]
  },
  {
   "cell_type": "code",
   "execution_count": 29,
   "id": "5031b263",
   "metadata": {},
   "outputs": [],
   "source": [
    "cars_2008 = mpg.average_mileage[mpg.year == 2008]\n",
    "cars_1999 = mpg.average_mileage[mpg.year == 1999]"
   ]
  },
  {
   "cell_type": "code",
   "execution_count": 30,
   "id": "d715df39",
   "metadata": {
    "scrolled": true
   },
   "outputs": [
    {
     "data": {
      "text/plain": [
       "(19.681452991452982, 19.488632478632482)"
      ]
     },
     "execution_count": 30,
     "metadata": {},
     "output_type": "execute_result"
    }
   ],
   "source": [
    "cars_1999.mean(), cars_2008.mean()"
   ]
  },
  {
   "cell_type": "code",
   "execution_count": 113,
   "id": "3ef28cb2",
   "metadata": {},
   "outputs": [
    {
     "data": {
      "image/png": "[encoded data removed]",
      "text/plain": [
       "<Figure size 432x288 with 1 Axes>"
      ]
     },
     "metadata": {
      "needs_background": "light"
     },
     "output_type": "display_data"
    }
   ],
   "source": [
    "cars_1999.hist();"
   ]
  },
  {
   "cell_type": "code",
   "execution_count": 114,
   "id": "6886003f",
   "metadata": {},
   "outputs": [
    {
     "data": {
      "image/png": "[encoded data removed]",
      "text/plain": [
       "<Figure size 432x288 with 1 Axes>"
      ]
     },
     "metadata": {
      "needs_background": "light"
     },
     "output_type": "display_data"
    }
   ],
   "source": [
    "cars_2008.hist();"
   ]
  },
  {
   "cell_type": "markdown",
   "id": "d22d8cb7",
   "metadata": {
    "tags": []
   },
   "source": [
    "**B. Set Hypothesis**\n",
    "\n",
    "$H_{0}$: There is no difference in fuel-efficiency in cars from 2008 vs. 1999.\n",
    "\n",
    "$H_{a}$: There is a difference in fuel-efficiency in cars from 2008 vs. 1999."
   ]
  },
  {
   "cell_type": "markdown",
   "id": "82cb0736",
   "metadata": {
    "tags": []
   },
   "source": [
    "**C. Set Alpha**"
   ]
  },
  {
   "cell_type": "markdown",
   "id": "ea8b960c",
   "metadata": {},
   "source": [
    "see above"
   ]
  },
  {
   "cell_type": "markdown",
   "id": "4ccdf46c",
   "metadata": {},
   "source": [
    "**D. Verify Assumptions**"
   ]
  },
  {
   "cell_type": "markdown",
   "id": "586b7887",
   "metadata": {},
   "source": [
    "**Independent:** Yes. Two separate years 2008 and 1999\n",
    "\n",
    "**Normal distribution:** Yes. Enough observations\n",
    "\n",
    "**Equal variances:** Check $\\Downarrow$"
   ]
  },
  {
   "cell_type": "code",
   "execution_count": 31,
   "id": "005e0c17",
   "metadata": {},
   "outputs": [
    {
     "data": {
      "text/plain": [
       "LeveneResult(statistic=0.030963028454038196, pvalue=0.8604763910415811)"
      ]
     },
     "execution_count": 31,
     "metadata": {},
     "output_type": "execute_result"
    }
   ],
   "source": [
    "stats.levene(cars_2008, cars_1999)"
   ]
  },
  {
   "cell_type": "markdown",
   "id": "6e107eff",
   "metadata": {},
   "source": [
    "pvalue > 0.5 sooooo they are equal enough"
   ]
  },
  {
   "cell_type": "markdown",
   "id": "fb9dd888",
   "metadata": {},
   "source": [
    "**E. Compute test statistic and probability (t-statistic & p-value)**\n",
    "\n",
    "- scipy.stats.____________\n",
    "- For a 2-tailed test where our alternative hypothesis is testing ==, we evaluate 𝑝 < 𝛼. "
   ]
  },
  {
   "cell_type": "code",
   "execution_count": 116,
   "id": "a43592c8",
   "metadata": {},
   "outputs": [],
   "source": [
    "tstat, pval = stats.ttest_ind(cars_2008, cars_1999)"
   ]
  },
  {
   "cell_type": "code",
   "execution_count": 117,
   "id": "a8cae118",
   "metadata": {},
   "outputs": [
    {
     "data": {
      "text/plain": [
       "(-0.29976841281243016, 0.7646222117552022)"
      ]
     },
     "execution_count": 117,
     "metadata": {},
     "output_type": "execute_result"
    }
   ],
   "source": [
    "tstat, pval"
   ]
  },
  {
   "cell_type": "markdown",
   "id": "f978013c",
   "metadata": {},
   "source": [
    "**F. Decide**\n",
    "\n",
    "Is $p < \\alpha$ (*two-tailed test because checking for difference.*)"
   ]
  },
  {
   "cell_type": "code",
   "execution_count": 118,
   "id": "8ce98967",
   "metadata": {},
   "outputs": [
    {
     "name": "stdout",
     "output_type": "stream",
     "text": [
      "We fail to reject the null hypothesis\n"
     ]
    }
   ],
   "source": [
    "if (pval < alpha):\n",
    "    print(\"we can reject the null hypothesis\")\n",
    "else:\n",
    "    print('We fail to reject the null hypothesis')"
   ]
  },
  {
   "cell_type": "markdown",
   "id": "82faefe8",
   "metadata": {},
   "source": [
    "**From our evaluation we can assume cars made in 2008 and cars in 1999 have no difference in fuel-efficiency.**"
   ]
  },
  {
   "cell_type": "markdown",
   "id": "fbd834b6",
   "metadata": {},
   "source": [
    "### Are compact cars more fuel-efficient than the average car?\n"
   ]
  },
  {
   "cell_type": "markdown",
   "id": "4660e7ba",
   "metadata": {},
   "source": [
    "Continuous: fuel-efficiency \n",
    "Discrete: car class\n",
    "\n",
    "sample mean (compact cars) \n",
    "pop mean (all cars)"
   ]
  },
  {
   "cell_type": "code",
   "execution_count": 82,
   "id": "55a07d68",
   "metadata": {},
   "outputs": [],
   "source": [
    "sample_mean = mpg.average_mileage[mpg[\"class\"] == 'compact']\n",
    "pop_mean = mpg.average_mileage.mean()"
   ]
  },
  {
   "cell_type": "markdown",
   "id": "33fdd354",
   "metadata": {},
   "source": [
    "**A. Plot Distribution**"
   ]
  },
  {
   "cell_type": "code",
   "execution_count": 120,
   "id": "b3767811",
   "metadata": {},
   "outputs": [
    {
     "data": {
      "image/png": "[encoded data removed]",
      "text/plain": [
       "<Figure size 432x288 with 1 Axes>"
      ]
     },
     "metadata": {
      "needs_background": "light"
     },
     "output_type": "display_data"
    }
   ],
   "source": [
    "sample_mean.hist();"
   ]
  },
  {
   "cell_type": "markdown",
   "id": "5eb2a8eb",
   "metadata": {
    "tags": []
   },
   "source": [
    "**B. Set Hypothesis**\n",
    "\n",
    "$H_{0}$: Compact cars average_mileage $\\leq$ all cars average_mileage.\n",
    "\n",
    "$H_{a}$: Compact cars average_mileage > all cars average_mileage."
   ]
  },
  {
   "cell_type": "markdown",
   "id": "dc6b1d3a",
   "metadata": {
    "tags": []
   },
   "source": [
    "**C. Set Alpha**"
   ]
  },
  {
   "cell_type": "markdown",
   "id": "b975dcab",
   "metadata": {},
   "source": [
    "see above"
   ]
  },
  {
   "cell_type": "markdown",
   "id": "44e47563",
   "metadata": {},
   "source": [
    "**D. Verify Assumptions**"
   ]
  },
  {
   "cell_type": "markdown",
   "id": "a8ef46f5",
   "metadata": {},
   "source": [
    "**Independent:** No. Comparing sample mean to theoretical mane\n",
    "\n",
    "**Normal distribution:** Check $\\Downarrow$"
   ]
  },
  {
   "cell_type": "code",
   "execution_count": 122,
   "id": "97ecb49a",
   "metadata": {},
   "outputs": [
    {
     "data": {
      "text/plain": [
       "47"
      ]
     },
     "execution_count": 122,
     "metadata": {},
     "output_type": "execute_result"
    }
   ],
   "source": [
    "sample_mean.count()"
   ]
  },
  {
   "cell_type": "markdown",
   "id": "562ee4bf",
   "metadata": {},
   "source": [
    "**E. Compute test statistic and probability (t-statistic & p-value)**\n",
    "\n",
    "- scipy.stats.____________\n",
    "- For a 1-tailed test where our alternative hypothesis is testing for \"greater than\", we evaluate 𝑝/2 < 𝛼  and  𝑡 > 0. "
   ]
  },
  {
   "cell_type": "code",
   "execution_count": 84,
   "id": "e9069b9f",
   "metadata": {},
   "outputs": [],
   "source": [
    "tstat, pval = stats.ttest_1samp(sample_mean, pop_mean)"
   ]
  },
  {
   "cell_type": "code",
   "execution_count": 85,
   "id": "c24def64",
   "metadata": {},
   "outputs": [
    {
     "data": {
      "text/plain": [
       "(7.511735749827195, 1.56511388307498e-09)"
      ]
     },
     "execution_count": 85,
     "metadata": {},
     "output_type": "execute_result"
    }
   ],
   "source": [
    "tstat, pval"
   ]
  },
  {
   "cell_type": "markdown",
   "id": "cc4e5911",
   "metadata": {},
   "source": [
    "**F. Decide**\n",
    "\n",
    "Is $t > 0$ and $p/2 < \\alpha$"
   ]
  },
  {
   "cell_type": "code",
   "execution_count": 86,
   "id": "b2baad9e",
   "metadata": {},
   "outputs": [
    {
     "name": "stdout",
     "output_type": "stream",
     "text": [
      "we can reject the null hypothesis\n"
     ]
    }
   ],
   "source": [
    "if ((pval / 2) < alpha) and (tstat > 0):\n",
    "    print(\"we can reject the null hypothesis\")\n",
    "else:\n",
    "    print('We fail to reject the null hypothesis')"
   ]
  },
  {
   "cell_type": "markdown",
   "id": "1705c5de",
   "metadata": {},
   "source": [
    "There appears to be a significance between mpg and being a compact car."
   ]
  },
  {
   "cell_type": "markdown",
   "id": "9c958453",
   "metadata": {},
   "source": [
    "### Do manual cars get better gas mileage than automatic cars?"
   ]
  },
  {
   "cell_type": "markdown",
   "id": "168975d1",
   "metadata": {},
   "source": [
    "Continuous: fuel-efficiency \n",
    "Discrete: is_automatic (True/False)\n",
    "\n",
    "group 1: manual\n",
    "group 2: auto"
   ]
  },
  {
   "cell_type": "code",
   "execution_count": 87,
   "id": "48c3f15b",
   "metadata": {},
   "outputs": [],
   "source": [
    "manual_mpg = mpg.average_mileage[mpg.is_automatic == False]\n",
    "auto_mpg = mpg.average_mileage[mpg.is_automatic == True]"
   ]
  },
  {
   "cell_type": "markdown",
   "id": "6d6c8b93",
   "metadata": {},
   "source": [
    "**A. Plot Distribution**"
   ]
  },
  {
   "cell_type": "code",
   "execution_count": 124,
   "id": "a578cdc1",
   "metadata": {},
   "outputs": [
    {
     "data": {
      "image/png": "[encoded data removed]",
      "text/plain": [
       "<Figure size 432x288 with 1 Axes>"
      ]
     },
     "metadata": {
      "needs_background": "light"
     },
     "output_type": "display_data"
    }
   ],
   "source": [
    "manual_mpg.hist();"
   ]
  },
  {
   "cell_type": "code",
   "execution_count": 126,
   "id": "42368cd9",
   "metadata": {},
   "outputs": [
    {
     "data": {
      "image/png": "[encoded data removed]",
      "text/plain": [
       "<Figure size 432x288 with 1 Axes>"
      ]
     },
     "metadata": {
      "needs_background": "light"
     },
     "output_type": "display_data"
    }
   ],
   "source": [
    "auto_mpg.hist();"
   ]
  },
  {
   "cell_type": "markdown",
   "id": "1e72fffb",
   "metadata": {
    "tags": []
   },
   "source": [
    "**B. Set Hypothesis**\n",
    "\n",
    "$H_{0}$: Manual car average_mileage $\\leq$ automatic car average_mileage\n",
    "\n",
    "$H_{a}$: Manual car average_mileage > automatic car average_mileage"
   ]
  },
  {
   "cell_type": "markdown",
   "id": "b1f0641b",
   "metadata": {
    "tags": []
   },
   "source": [
    "**C. Set Alpha**"
   ]
  },
  {
   "cell_type": "markdown",
   "id": "948b0303",
   "metadata": {},
   "source": [
    "see above"
   ]
  },
  {
   "cell_type": "markdown",
   "id": "369c36a9",
   "metadata": {},
   "source": [
    "**D. Verify Assumptions**"
   ]
  },
  {
   "cell_type": "markdown",
   "id": "45dbc7fb",
   "metadata": {},
   "source": [
    "**Independent:** Yes. automatic and manual\n",
    "\n",
    "**Normal distribution:** Yes. Enough observations\n",
    "\n",
    "**Equal variances:** Check $\\Downarrow$"
   ]
  },
  {
   "cell_type": "code",
   "execution_count": 88,
   "id": "7d54ebf9",
   "metadata": {},
   "outputs": [
    {
     "data": {
      "text/plain": [
       "LeveneResult(statistic=0.013710906098481107, pvalue=0.9068872019462125)"
      ]
     },
     "execution_count": 88,
     "metadata": {},
     "output_type": "execute_result"
    }
   ],
   "source": [
    "stats.levene(manual_mpg, auto_mpg)"
   ]
  },
  {
   "cell_type": "markdown",
   "id": "8241c4c0",
   "metadata": {},
   "source": [
    "pvalue > 0.5 sooooo we can assume equal variances"
   ]
  },
  {
   "cell_type": "markdown",
   "id": "d47cd26b",
   "metadata": {},
   "source": [
    "**E. Compute test statistic and probability (t-statistic & p-value)**\n",
    "\n",
    "- scipy.stats.____________\n",
    "- For a 1-tailed test where our alternative hypothesis is testing for \"greater than\", we evaluate 𝑝/2 < 𝛼  and  𝑡 > 0. "
   ]
  },
  {
   "cell_type": "code",
   "execution_count": 89,
   "id": "75c17c65",
   "metadata": {},
   "outputs": [],
   "source": [
    "tstat, pval = stats.ttest_ind(manual_mpg, auto_mpg)"
   ]
  },
  {
   "cell_type": "code",
   "execution_count": 90,
   "id": "dc801c2c",
   "metadata": {},
   "outputs": [
    {
     "data": {
      "text/plain": [
       "(4.652099934834949, 5.522151036980458e-06)"
      ]
     },
     "execution_count": 90,
     "metadata": {},
     "output_type": "execute_result"
    }
   ],
   "source": [
    "tstat, pval"
   ]
  },
  {
   "cell_type": "markdown",
   "id": "a2ddb157",
   "metadata": {},
   "source": [
    "**F. Decide**\n",
    "\n",
    "Is $t > 0$ and $p/2 < \\alpha$"
   ]
  },
  {
   "cell_type": "code",
   "execution_count": 91,
   "id": "e48923fb",
   "metadata": {},
   "outputs": [
    {
     "name": "stdout",
     "output_type": "stream",
     "text": [
      "we can reject the null hypothesis\n"
     ]
    }
   ],
   "source": [
    "if ((pval / 2) < alpha) and (tstat > 0):\n",
    "    print(\"we can reject the null hypothesis\")\n",
    "else:\n",
    "    print('We fail to reject the null hypothesis')"
   ]
  },
  {
   "cell_type": "markdown",
   "id": "cf72963f",
   "metadata": {},
   "source": [
    "We can assume that manual cars have better fuel efficiency than automatic cars."
   ]
  },
  {
   "cell_type": "markdown",
   "id": "5c21bc4e",
   "metadata": {},
   "source": [
    "# Correlation"
   ]
  },
  {
   "cell_type": "markdown",
   "id": "73d33a4a",
   "metadata": {},
   "source": [
    "### 1. Answer with the type of stats test you would use (assume normal distribution):\n",
    "- Is there a relationship between the length of your arm and the length of your foot? **Pearson's R**\n",
    "- Do guys and gals quit their jobs at the same rate? **Pearson's R**\n",
    "- Does the length of time of the lecture correlate with a students grade? **Pearson's R**"
   ]
  },
  {
   "cell_type": "markdown",
   "id": "78860866",
   "metadata": {},
   "source": [
    "### 2. Use the telco_churn data."
   ]
  },
  {
   "cell_type": "code",
   "execution_count": 129,
   "id": "922fed25",
   "metadata": {},
   "outputs": [],
   "source": [
    "telco_churn_df =  pd.read_sql('''\n",
    "SELECT c.customer_id, phone_service, ist.internet_service_type, monthly_charges, tenure, total_charges, churn\n",
    "FROM customers c\n",
    "JOIN internet_service_types ist USING(internet_service_type_id);\n",
    "''', get_db_url('telco_churn'))"
   ]
  },
  {
   "cell_type": "code",
   "execution_count": 130,
   "id": "5732d3ce",
   "metadata": {
    "scrolled": true
   },
   "outputs": [
    {
     "data": {
      "text/html": [
       "<div>\n",
       "<style scoped>\n",
       "    .dataframe tbody tr th:only-of-type {\n",
       "        vertical-align: middle;\n",
       "    }\n",
       "\n",
       "    .dataframe tbody tr th {\n",
       "        vertical-align: top;\n",
       "    }\n",
       "\n",
       "    .dataframe thead th {\n",
       "        text-align: right;\n",
       "    }\n",
       "</style>\n",
       "<table border=\"1\" class=\"dataframe\">\n",
       "  <thead>\n",
       "    <tr style=\"text-align: right;\">\n",
       "      <th></th>\n",
       "      <th>customer_id</th>\n",
       "      <th>phone_service</th>\n",
       "      <th>internet_service_type</th>\n",
       "      <th>monthly_charges</th>\n",
       "      <th>tenure</th>\n",
       "      <th>total_charges</th>\n",
       "      <th>churn</th>\n",
       "    </tr>\n",
       "  </thead>\n",
       "  <tbody>\n",
       "    <tr>\n",
       "      <th>0</th>\n",
       "      <td>0002-ORFBO</td>\n",
       "      <td>Yes</td>\n",
       "      <td>DSL</td>\n",
       "      <td>65.6</td>\n",
       "      <td>9</td>\n",
       "      <td>593.3</td>\n",
       "      <td>No</td>\n",
       "    </tr>\n",
       "    <tr>\n",
       "      <th>1</th>\n",
       "      <td>0003-MKNFE</td>\n",
       "      <td>Yes</td>\n",
       "      <td>DSL</td>\n",
       "      <td>59.9</td>\n",
       "      <td>9</td>\n",
       "      <td>542.4</td>\n",
       "      <td>No</td>\n",
       "    </tr>\n",
       "    <tr>\n",
       "      <th>2</th>\n",
       "      <td>0004-TLHLJ</td>\n",
       "      <td>Yes</td>\n",
       "      <td>Fiber optic</td>\n",
       "      <td>73.9</td>\n",
       "      <td>4</td>\n",
       "      <td>280.85</td>\n",
       "      <td>Yes</td>\n",
       "    </tr>\n",
       "    <tr>\n",
       "      <th>3</th>\n",
       "      <td>0011-IGKFF</td>\n",
       "      <td>Yes</td>\n",
       "      <td>Fiber optic</td>\n",
       "      <td>98.0</td>\n",
       "      <td>13</td>\n",
       "      <td>1237.85</td>\n",
       "      <td>Yes</td>\n",
       "    </tr>\n",
       "    <tr>\n",
       "      <th>4</th>\n",
       "      <td>0013-EXCHZ</td>\n",
       "      <td>Yes</td>\n",
       "      <td>Fiber optic</td>\n",
       "      <td>83.9</td>\n",
       "      <td>3</td>\n",
       "      <td>267.4</td>\n",
       "      <td>Yes</td>\n",
       "    </tr>\n",
       "  </tbody>\n",
       "</table>\n",
       "</div>"
      ],
      "text/plain": [
       "  customer_id phone_service internet_service_type  monthly_charges  tenure  \\\n",
       "0  0002-ORFBO           Yes                   DSL             65.6       9   \n",
       "1  0003-MKNFE           Yes                   DSL             59.9       9   \n",
       "2  0004-TLHLJ           Yes           Fiber optic             73.9       4   \n",
       "3  0011-IGKFF           Yes           Fiber optic             98.0      13   \n",
       "4  0013-EXCHZ           Yes           Fiber optic             83.9       3   \n",
       "\n",
       "  total_charges churn  \n",
       "0         593.3    No  \n",
       "1         542.4    No  \n",
       "2        280.85   Yes  \n",
       "3       1237.85   Yes  \n",
       "4         267.4   Yes  "
      ]
     },
     "execution_count": 130,
     "metadata": {},
     "output_type": "execute_result"
    }
   ],
   "source": [
    "telco_churn_df.head()"
   ]
  },
  {
   "cell_type": "code",
   "execution_count": 154,
   "id": "4a376a3b",
   "metadata": {
    "scrolled": false
   },
   "outputs": [
    {
     "name": "stdout",
     "output_type": "stream",
     "text": [
      "<class 'pandas.core.frame.DataFrame'>\n",
      "RangeIndex: 7043 entries, 0 to 7042\n",
      "Data columns (total 7 columns):\n",
      " #   Column                 Non-Null Count  Dtype  \n",
      "---  ------                 --------------  -----  \n",
      " 0   customer_id            7043 non-null   object \n",
      " 1   phone_service          7043 non-null   object \n",
      " 2   internet_service_type  7043 non-null   object \n",
      " 3   monthly_charges        7043 non-null   float64\n",
      " 4   tenure                 7043 non-null   int64  \n",
      " 5   total_charges          7043 non-null   object \n",
      " 6   churn                  7043 non-null   object \n",
      "dtypes: float64(1), int64(1), object(5)\n",
      "memory usage: 385.3+ KB\n"
     ]
    }
   ],
   "source": [
    "telco_churn_df.info()"
   ]
  },
  {
   "cell_type": "markdown",
   "id": "12bf0518",
   "metadata": {},
   "source": [
    "#### Does tenure correlate with monthly charges?"
   ]
  },
  {
   "cell_type": "markdown",
   "id": "edd1de68",
   "metadata": {},
   "source": [
    "$H_{0}$: There is no linear correlation between tenure and monthly charges\n",
    "\n",
    "$H_{a}$: There is a linear correlation between tenure and monthly charges"
   ]
  },
  {
   "cell_type": "code",
   "execution_count": 212,
   "id": "5f61b074",
   "metadata": {},
   "outputs": [
    {
     "data": {
      "text/plain": [
       "(0.24789985628615008, 4.0940449915016345e-99)"
      ]
     },
     "execution_count": 212,
     "metadata": {},
     "output_type": "execute_result"
    }
   ],
   "source": [
    "r, p = stats.pearsonr(telco_churn_df.tenure, telco_churn_df.monthly_charges)\n",
    "r, p"
   ]
  },
  {
   "cell_type": "markdown",
   "id": "38a058dd",
   "metadata": {},
   "source": [
    "- 0: No relationship\n",
    "- 0 - 0.2: Weak positive relationship\n",
    "- **0.2 - 0.4: Moderate positive relationship**\n",
    "- 0.4 - 1: Strong positive relationship\n",
    "\n",
    "_________________________________________\n",
    "- 0 - -0.2: Weak negative relationship\n",
    "- -0.2 - -0.4: Moderate negative relationship\n",
    "- -0.4 - -1: Strong negative relationship"
   ]
  },
  {
   "cell_type": "code",
   "execution_count": 213,
   "id": "6f79e12a",
   "metadata": {},
   "outputs": [
    {
     "name": "stdout",
     "output_type": "stream",
     "text": [
      "We reject the null hypothesis\n"
     ]
    }
   ],
   "source": [
    "#evaluate p-value\n",
    "if p < alpha:\n",
    "    print(\"We reject the null hypothesis\")\n",
    "else:\n",
    "    print(\"We fail to reject the null hypothesis\")"
   ]
  },
  {
   "cell_type": "markdown",
   "id": "8143e2b9",
   "metadata": {},
   "source": [
    "#### Total charges?"
   ]
  },
  {
   "cell_type": "code",
   "execution_count": 172,
   "id": "6d2ea288",
   "metadata": {},
   "outputs": [],
   "source": [
    "telco_total_charges_fix = telco_churn_df[(telco_churn_df['tenure'] != 0)]"
   ]
  },
  {
   "cell_type": "code",
   "execution_count": 187,
   "id": "adbdde5b",
   "metadata": {},
   "outputs": [
    {
     "data": {
      "text/html": [
       "<div>\n",
       "<style scoped>\n",
       "    .dataframe tbody tr th:only-of-type {\n",
       "        vertical-align: middle;\n",
       "    }\n",
       "\n",
       "    .dataframe tbody tr th {\n",
       "        vertical-align: top;\n",
       "    }\n",
       "\n",
       "    .dataframe thead th {\n",
       "        text-align: right;\n",
       "    }\n",
       "</style>\n",
       "<table border=\"1\" class=\"dataframe\">\n",
       "  <thead>\n",
       "    <tr style=\"text-align: right;\">\n",
       "      <th></th>\n",
       "      <th>customer_id</th>\n",
       "      <th>phone_service</th>\n",
       "      <th>internet_service_type</th>\n",
       "      <th>monthly_charges</th>\n",
       "      <th>tenure</th>\n",
       "      <th>total_charges</th>\n",
       "      <th>churn</th>\n",
       "    </tr>\n",
       "  </thead>\n",
       "  <tbody>\n",
       "    <tr>\n",
       "      <th>0</th>\n",
       "      <td>0002-ORFBO</td>\n",
       "      <td>Yes</td>\n",
       "      <td>DSL</td>\n",
       "      <td>65.60</td>\n",
       "      <td>9</td>\n",
       "      <td>593.30</td>\n",
       "      <td>No</td>\n",
       "    </tr>\n",
       "    <tr>\n",
       "      <th>1</th>\n",
       "      <td>0003-MKNFE</td>\n",
       "      <td>Yes</td>\n",
       "      <td>DSL</td>\n",
       "      <td>59.90</td>\n",
       "      <td>9</td>\n",
       "      <td>542.40</td>\n",
       "      <td>No</td>\n",
       "    </tr>\n",
       "    <tr>\n",
       "      <th>2</th>\n",
       "      <td>0004-TLHLJ</td>\n",
       "      <td>Yes</td>\n",
       "      <td>Fiber optic</td>\n",
       "      <td>73.90</td>\n",
       "      <td>4</td>\n",
       "      <td>280.85</td>\n",
       "      <td>Yes</td>\n",
       "    </tr>\n",
       "    <tr>\n",
       "      <th>3</th>\n",
       "      <td>0011-IGKFF</td>\n",
       "      <td>Yes</td>\n",
       "      <td>Fiber optic</td>\n",
       "      <td>98.00</td>\n",
       "      <td>13</td>\n",
       "      <td>1237.85</td>\n",
       "      <td>Yes</td>\n",
       "    </tr>\n",
       "    <tr>\n",
       "      <th>4</th>\n",
       "      <td>0013-EXCHZ</td>\n",
       "      <td>Yes</td>\n",
       "      <td>Fiber optic</td>\n",
       "      <td>83.90</td>\n",
       "      <td>3</td>\n",
       "      <td>267.40</td>\n",
       "      <td>Yes</td>\n",
       "    </tr>\n",
       "    <tr>\n",
       "      <th>...</th>\n",
       "      <td>...</td>\n",
       "      <td>...</td>\n",
       "      <td>...</td>\n",
       "      <td>...</td>\n",
       "      <td>...</td>\n",
       "      <td>...</td>\n",
       "      <td>...</td>\n",
       "    </tr>\n",
       "    <tr>\n",
       "      <th>7038</th>\n",
       "      <td>9987-LUTYD</td>\n",
       "      <td>Yes</td>\n",
       "      <td>DSL</td>\n",
       "      <td>55.15</td>\n",
       "      <td>13</td>\n",
       "      <td>742.90</td>\n",
       "      <td>No</td>\n",
       "    </tr>\n",
       "    <tr>\n",
       "      <th>7039</th>\n",
       "      <td>9992-RRAMN</td>\n",
       "      <td>Yes</td>\n",
       "      <td>Fiber optic</td>\n",
       "      <td>85.10</td>\n",
       "      <td>22</td>\n",
       "      <td>1873.70</td>\n",
       "      <td>Yes</td>\n",
       "    </tr>\n",
       "    <tr>\n",
       "      <th>7040</th>\n",
       "      <td>9992-UJOEL</td>\n",
       "      <td>Yes</td>\n",
       "      <td>DSL</td>\n",
       "      <td>50.30</td>\n",
       "      <td>2</td>\n",
       "      <td>92.75</td>\n",
       "      <td>No</td>\n",
       "    </tr>\n",
       "    <tr>\n",
       "      <th>7041</th>\n",
       "      <td>9993-LHIEB</td>\n",
       "      <td>Yes</td>\n",
       "      <td>DSL</td>\n",
       "      <td>67.85</td>\n",
       "      <td>67</td>\n",
       "      <td>4627.65</td>\n",
       "      <td>No</td>\n",
       "    </tr>\n",
       "    <tr>\n",
       "      <th>7042</th>\n",
       "      <td>9995-HOTOH</td>\n",
       "      <td>No</td>\n",
       "      <td>DSL</td>\n",
       "      <td>59.00</td>\n",
       "      <td>63</td>\n",
       "      <td>3707.60</td>\n",
       "      <td>No</td>\n",
       "    </tr>\n",
       "  </tbody>\n",
       "</table>\n",
       "<p>7032 rows × 7 columns</p>\n",
       "</div>"
      ],
      "text/plain": [
       "     customer_id phone_service internet_service_type  monthly_charges  tenure  \\\n",
       "0     0002-ORFBO           Yes                   DSL            65.60       9   \n",
       "1     0003-MKNFE           Yes                   DSL            59.90       9   \n",
       "2     0004-TLHLJ           Yes           Fiber optic            73.90       4   \n",
       "3     0011-IGKFF           Yes           Fiber optic            98.00      13   \n",
       "4     0013-EXCHZ           Yes           Fiber optic            83.90       3   \n",
       "...          ...           ...                   ...              ...     ...   \n",
       "7038  9987-LUTYD           Yes                   DSL            55.15      13   \n",
       "7039  9992-RRAMN           Yes           Fiber optic            85.10      22   \n",
       "7040  9992-UJOEL           Yes                   DSL            50.30       2   \n",
       "7041  9993-LHIEB           Yes                   DSL            67.85      67   \n",
       "7042  9995-HOTOH            No                   DSL            59.00      63   \n",
       "\n",
       "      total_charges churn  \n",
       "0            593.30    No  \n",
       "1            542.40    No  \n",
       "2            280.85   Yes  \n",
       "3           1237.85   Yes  \n",
       "4            267.40   Yes  \n",
       "...             ...   ...  \n",
       "7038         742.90    No  \n",
       "7039        1873.70   Yes  \n",
       "7040          92.75    No  \n",
       "7041        4627.65    No  \n",
       "7042        3707.60    No  \n",
       "\n",
       "[7032 rows x 7 columns]"
      ]
     },
     "execution_count": 187,
     "metadata": {},
     "output_type": "execute_result"
    }
   ],
   "source": [
    "telco_total_charges_fix"
   ]
  },
  {
   "cell_type": "code",
   "execution_count": 174,
   "id": "64775d45",
   "metadata": {},
   "outputs": [
    {
     "name": "stderr",
     "output_type": "stream",
     "text": [
      "/var/folders/hj/mq308hhs3rz5q1mbkdf0261m0000gn/T/ipykernel_37533/3032141836.py:1: SettingWithCopyWarning: \n",
      "A value is trying to be set on a copy of a slice from a DataFrame.\n",
      "Try using .loc[row_indexer,col_indexer] = value instead\n",
      "\n",
      "See the caveats in the documentation: https://pandas.pydata.org/pandas-docs/stable/user_guide/indexing.html#returning-a-view-versus-a-copy\n",
      "  telco_total_charges_fix['total_charges'] = telco_total_charges_fix['total_charges'].astype(float)\n"
     ]
    }
   ],
   "source": [
    "telco_total_charges_fix['total_charges'] = telco_total_charges_fix['total_charges'].astype(float)"
   ]
  },
  {
   "cell_type": "code",
   "execution_count": 214,
   "id": "1c228509",
   "metadata": {
    "scrolled": true
   },
   "outputs": [
    {
     "data": {
      "text/plain": [
       "(0.825880460933202, 0.0)"
      ]
     },
     "execution_count": 214,
     "metadata": {},
     "output_type": "execute_result"
    }
   ],
   "source": [
    "r, p = stats.pearsonr(telco_total_charges_fix.tenure, telco_total_charges_fix.total_charges)\n",
    "r, p"
   ]
  },
  {
   "cell_type": "code",
   "execution_count": 176,
   "id": "60849e29",
   "metadata": {
    "scrolled": false
   },
   "outputs": [
    {
     "data": {
      "text/plain": [
       "<matplotlib.collections.PathCollection at 0x7f8136867e80>"
      ]
     },
     "execution_count": 176,
     "metadata": {},
     "output_type": "execute_result"
    },
    {
     "data": {
      "image/png": "[encoded data removed]",
      "text/plain": [
       "<Figure size 432x288 with 1 Axes>"
      ]
     },
     "metadata": {
      "needs_background": "light"
     },
     "output_type": "display_data"
    }
   ],
   "source": [
    "plt.scatter(x=telco_total_charges_fix.tenure, y=telco_total_charges_fix.total_charges)"
   ]
  },
  {
   "cell_type": "markdown",
   "id": "fc21046a",
   "metadata": {},
   "source": [
    "- 0: No relationship\n",
    "- 0 - 0.2: Weak positive relationship\n",
    "- 0.2 - 0.4: Moderate positive relationship\n",
    "- **0.4 - 1: Strong positive relationship**\n",
    "\n",
    "_________________________________________\n",
    "- 0 - -0.2: Weak negative relationship\n",
    "- -0.2 - -0.4: Moderate negative relationship\n",
    "- -0.4 - -1: Strong negative relationship"
   ]
  },
  {
   "cell_type": "code",
   "execution_count": 215,
   "id": "558e0d03",
   "metadata": {},
   "outputs": [
    {
     "name": "stdout",
     "output_type": "stream",
     "text": [
      "We reject the null hypothesis\n"
     ]
    }
   ],
   "source": [
    "#evaluate p-value\n",
    "if p < alpha:\n",
    "    print(\"We reject the null hypothesis\")\n",
    "else:\n",
    "    print(\"We fail to reject the null hypothesis\")"
   ]
  },
  {
   "cell_type": "markdown",
   "id": "dfe14b5f",
   "metadata": {},
   "source": [
    "#### What happens if you control for phone and internet service?"
   ]
  },
  {
   "cell_type": "code",
   "execution_count": null,
   "id": "815bc2bc",
   "metadata": {},
   "outputs": [],
   "source": [
    "r, p = stats.pearsonr(telco_total_charges_fix.tenure, telco_total_charges_fix.total_charges)\n",
    "r, p"
   ]
  },
  {
   "cell_type": "code",
   "execution_count": null,
   "id": "255fc1cb",
   "metadata": {
    "scrolled": false
   },
   "outputs": [],
   "source": [
    "plt.scatter(x=, y=)"
   ]
  },
  {
   "cell_type": "markdown",
   "id": "7e4a6971",
   "metadata": {},
   "source": [
    "- 0: No relationship\n",
    "- 0 - 0.2: Weak positive relationship\n",
    "- 0.2 - 0.4: Moderate positive relationship\n",
    "- **0.4 - 1: Strong positive relationship**\n",
    "\n",
    "_________________________________________\n",
    "- 0 - -0.2: Weak negative relationship\n",
    "- -0.2 - -0.4: Moderate negative relationship\n",
    "- -0.4 - -1: Strong negative relationship"
   ]
  },
  {
   "cell_type": "markdown",
   "id": "53e519fa",
   "metadata": {},
   "source": [
    "### 3. Use the employees database."
   ]
  },
  {
   "cell_type": "markdown",
   "id": "0947bcea",
   "metadata": {},
   "source": [
    "- Is there a relationship between how long an employee has been with the company and their salary?"
   ]
  },
  {
   "cell_type": "code",
   "execution_count": 132,
   "id": "d75e7a9b",
   "metadata": {},
   "outputs": [],
   "source": [
    "employee_salary_df =  pd.read_sql('''\n",
    "SELECT e.emp_no, hire_date, salary\n",
    "FROM employees e\n",
    "JOIN salaries s USING(emp_no)\n",
    "WHERE to_date > CURDATE();\n",
    "''', get_db_url('employees'))"
   ]
  },
  {
   "cell_type": "code",
   "execution_count": 183,
   "id": "0080843b",
   "metadata": {
    "scrolled": false
   },
   "outputs": [
    {
     "data": {
      "text/html": [
       "<div>\n",
       "<style scoped>\n",
       "    .dataframe tbody tr th:only-of-type {\n",
       "        vertical-align: middle;\n",
       "    }\n",
       "\n",
       "    .dataframe tbody tr th {\n",
       "        vertical-align: top;\n",
       "    }\n",
       "\n",
       "    .dataframe thead th {\n",
       "        text-align: right;\n",
       "    }\n",
       "</style>\n",
       "<table border=\"1\" class=\"dataframe\">\n",
       "  <thead>\n",
       "    <tr style=\"text-align: right;\">\n",
       "      <th></th>\n",
       "      <th>emp_no</th>\n",
       "      <th>hire_date</th>\n",
       "      <th>salary</th>\n",
       "      <th>days_since_hired</th>\n",
       "    </tr>\n",
       "  </thead>\n",
       "  <tbody>\n",
       "    <tr>\n",
       "      <th>0</th>\n",
       "      <td>10001</td>\n",
       "      <td>1986-06-26</td>\n",
       "      <td>88958</td>\n",
       "      <td>13251</td>\n",
       "    </tr>\n",
       "    <tr>\n",
       "      <th>1</th>\n",
       "      <td>10002</td>\n",
       "      <td>1985-11-21</td>\n",
       "      <td>72527</td>\n",
       "      <td>13468</td>\n",
       "    </tr>\n",
       "    <tr>\n",
       "      <th>2</th>\n",
       "      <td>10003</td>\n",
       "      <td>1986-08-28</td>\n",
       "      <td>43311</td>\n",
       "      <td>13188</td>\n",
       "    </tr>\n",
       "    <tr>\n",
       "      <th>3</th>\n",
       "      <td>10004</td>\n",
       "      <td>1986-12-01</td>\n",
       "      <td>74057</td>\n",
       "      <td>13093</td>\n",
       "    </tr>\n",
       "    <tr>\n",
       "      <th>4</th>\n",
       "      <td>10005</td>\n",
       "      <td>1989-09-12</td>\n",
       "      <td>94692</td>\n",
       "      <td>12077</td>\n",
       "    </tr>\n",
       "  </tbody>\n",
       "</table>\n",
       "</div>"
      ],
      "text/plain": [
       "   emp_no   hire_date  salary  days_since_hired\n",
       "0   10001  1986-06-26   88958             13251\n",
       "1   10002  1985-11-21   72527             13468\n",
       "2   10003  1986-08-28   43311             13188\n",
       "3   10004  1986-12-01   74057             13093\n",
       "4   10005  1989-09-12   94692             12077"
      ]
     },
     "execution_count": 183,
     "metadata": {},
     "output_type": "execute_result"
    }
   ],
   "source": [
    "employee_salary_df.head()"
   ]
  },
  {
   "cell_type": "code",
   "execution_count": 182,
   "id": "45ec54ba",
   "metadata": {},
   "outputs": [],
   "source": [
    "employee_salary_df['days_since_hired'] = (datetime.date.today() - employee_salary_df['hire_date']).dt.days"
   ]
  },
  {
   "cell_type": "code",
   "execution_count": 184,
   "id": "a9252d3e",
   "metadata": {},
   "outputs": [
    {
     "data": {
      "text/plain": [
       "(0.3064625613186078, 0.0)"
      ]
     },
     "execution_count": 184,
     "metadata": {},
     "output_type": "execute_result"
    }
   ],
   "source": [
    "r, p = stats.pearsonr(employee_salary_df.days_since_hired, employee_salary_df.salary)\n",
    "r, p"
   ]
  },
  {
   "cell_type": "code",
   "execution_count": 186,
   "id": "91b599ee",
   "metadata": {
    "scrolled": false
   },
   "outputs": [
    {
     "data": {
      "image/png": "[encoded data removed]",
      "text/plain": [
       "<Figure size 432x288 with 1 Axes>"
      ]
     },
     "metadata": {
      "needs_background": "light"
     },
     "output_type": "display_data"
    }
   ],
   "source": [
    "plt.scatter(x=employee_salary_df.days_since_hired, y= employee_salary_df.salary);"
   ]
  },
  {
   "cell_type": "markdown",
   "id": "95cf654c",
   "metadata": {},
   "source": [
    "- 0: No relationship\n",
    "- 0 - 0.2: Weak positive relationship\n",
    "- **0.2 - 0.4: Moderate positive relationship**\n",
    "- 0.4 - 1: Strong positive relationship\n",
    "\n",
    "_________________________________________\n",
    "- 0 - -0.2: Weak negative relationship\n",
    "- -0.2 - -0.4: Moderate negative relationship\n",
    "- -0.4 - -1: Strong negative relationship"
   ]
  },
  {
   "cell_type": "markdown",
   "id": "3c0ea007",
   "metadata": {},
   "source": [
    "- Is there a relationship between how long an employee has been with the company and the number of titles they have had?"
   ]
  },
  {
   "cell_type": "code",
   "execution_count": 198,
   "id": "62868baa",
   "metadata": {},
   "outputs": [],
   "source": [
    "employee_title_df =  pd.read_sql('''\n",
    "SELECT e.emp_no, hire_date, COUNT(title) as title_count\n",
    "FROM employees e\n",
    "JOIN titles t USING(emp_no)\n",
    "GROUP BY e.emp_no, hire_date;\n",
    "''', get_db_url('employees'))"
   ]
  },
  {
   "cell_type": "code",
   "execution_count": 199,
   "id": "76849e49",
   "metadata": {
    "scrolled": true
   },
   "outputs": [
    {
     "data": {
      "text/html": [
       "<div>\n",
       "<style scoped>\n",
       "    .dataframe tbody tr th:only-of-type {\n",
       "        vertical-align: middle;\n",
       "    }\n",
       "\n",
       "    .dataframe tbody tr th {\n",
       "        vertical-align: top;\n",
       "    }\n",
       "\n",
       "    .dataframe thead th {\n",
       "        text-align: right;\n",
       "    }\n",
       "</style>\n",
       "<table border=\"1\" class=\"dataframe\">\n",
       "  <thead>\n",
       "    <tr style=\"text-align: right;\">\n",
       "      <th></th>\n",
       "      <th>emp_no</th>\n",
       "      <th>hire_date</th>\n",
       "      <th>title_count</th>\n",
       "    </tr>\n",
       "  </thead>\n",
       "  <tbody>\n",
       "    <tr>\n",
       "      <th>0</th>\n",
       "      <td>10001</td>\n",
       "      <td>1986-06-26</td>\n",
       "      <td>1</td>\n",
       "    </tr>\n",
       "    <tr>\n",
       "      <th>1</th>\n",
       "      <td>10002</td>\n",
       "      <td>1985-11-21</td>\n",
       "      <td>1</td>\n",
       "    </tr>\n",
       "    <tr>\n",
       "      <th>2</th>\n",
       "      <td>10003</td>\n",
       "      <td>1986-08-28</td>\n",
       "      <td>1</td>\n",
       "    </tr>\n",
       "    <tr>\n",
       "      <th>3</th>\n",
       "      <td>10004</td>\n",
       "      <td>1986-12-01</td>\n",
       "      <td>2</td>\n",
       "    </tr>\n",
       "    <tr>\n",
       "      <th>4</th>\n",
       "      <td>10005</td>\n",
       "      <td>1989-09-12</td>\n",
       "      <td>2</td>\n",
       "    </tr>\n",
       "  </tbody>\n",
       "</table>\n",
       "</div>"
      ],
      "text/plain": [
       "   emp_no   hire_date  title_count\n",
       "0   10001  1986-06-26            1\n",
       "1   10002  1985-11-21            1\n",
       "2   10003  1986-08-28            1\n",
       "3   10004  1986-12-01            2\n",
       "4   10005  1989-09-12            2"
      ]
     },
     "execution_count": 199,
     "metadata": {},
     "output_type": "execute_result"
    }
   ],
   "source": [
    "employee_title_df.head()"
   ]
  },
  {
   "cell_type": "code",
   "execution_count": 200,
   "id": "8841392c",
   "metadata": {},
   "outputs": [
    {
     "name": "stdout",
     "output_type": "stream",
     "text": [
      "<class 'pandas.core.frame.DataFrame'>\n",
      "RangeIndex: 300024 entries, 0 to 300023\n",
      "Data columns (total 3 columns):\n",
      " #   Column       Non-Null Count   Dtype \n",
      "---  ------       --------------   ----- \n",
      " 0   emp_no       300024 non-null  int64 \n",
      " 1   hire_date    300024 non-null  object\n",
      " 2   title_count  300024 non-null  int64 \n",
      "dtypes: int64(2), object(1)\n",
      "memory usage: 6.9+ MB\n"
     ]
    }
   ],
   "source": [
    "employee_title_df.info()"
   ]
  },
  {
   "cell_type": "code",
   "execution_count": 201,
   "id": "53db96b4",
   "metadata": {},
   "outputs": [],
   "source": [
    "employee_title_df['days_since_hired'] = (datetime.date.today() - employee_title_df['hire_date']).dt.days"
   ]
  },
  {
   "cell_type": "code",
   "execution_count": 202,
   "id": "42c5f902",
   "metadata": {
    "scrolled": true
   },
   "outputs": [
    {
     "data": {
      "text/html": [
       "<div>\n",
       "<style scoped>\n",
       "    .dataframe tbody tr th:only-of-type {\n",
       "        vertical-align: middle;\n",
       "    }\n",
       "\n",
       "    .dataframe tbody tr th {\n",
       "        vertical-align: top;\n",
       "    }\n",
       "\n",
       "    .dataframe thead th {\n",
       "        text-align: right;\n",
       "    }\n",
       "</style>\n",
       "<table border=\"1\" class=\"dataframe\">\n",
       "  <thead>\n",
       "    <tr style=\"text-align: right;\">\n",
       "      <th></th>\n",
       "      <th>emp_no</th>\n",
       "      <th>hire_date</th>\n",
       "      <th>title_count</th>\n",
       "      <th>days_since_hired</th>\n",
       "    </tr>\n",
       "  </thead>\n",
       "  <tbody>\n",
       "    <tr>\n",
       "      <th>0</th>\n",
       "      <td>10001</td>\n",
       "      <td>1986-06-26</td>\n",
       "      <td>1</td>\n",
       "      <td>13251</td>\n",
       "    </tr>\n",
       "    <tr>\n",
       "      <th>1</th>\n",
       "      <td>10002</td>\n",
       "      <td>1985-11-21</td>\n",
       "      <td>1</td>\n",
       "      <td>13468</td>\n",
       "    </tr>\n",
       "    <tr>\n",
       "      <th>2</th>\n",
       "      <td>10003</td>\n",
       "      <td>1986-08-28</td>\n",
       "      <td>1</td>\n",
       "      <td>13188</td>\n",
       "    </tr>\n",
       "    <tr>\n",
       "      <th>3</th>\n",
       "      <td>10004</td>\n",
       "      <td>1986-12-01</td>\n",
       "      <td>2</td>\n",
       "      <td>13093</td>\n",
       "    </tr>\n",
       "    <tr>\n",
       "      <th>4</th>\n",
       "      <td>10005</td>\n",
       "      <td>1989-09-12</td>\n",
       "      <td>2</td>\n",
       "      <td>12077</td>\n",
       "    </tr>\n",
       "  </tbody>\n",
       "</table>\n",
       "</div>"
      ],
      "text/plain": [
       "   emp_no   hire_date  title_count  days_since_hired\n",
       "0   10001  1986-06-26            1             13251\n",
       "1   10002  1985-11-21            1             13468\n",
       "2   10003  1986-08-28            1             13188\n",
       "3   10004  1986-12-01            2             13093\n",
       "4   10005  1989-09-12            2             12077"
      ]
     },
     "execution_count": 202,
     "metadata": {},
     "output_type": "execute_result"
    }
   ],
   "source": [
    "employee_title_df.head()"
   ]
  },
  {
   "cell_type": "code",
   "execution_count": 207,
   "id": "a99b249e",
   "metadata": {
    "scrolled": false
   },
   "outputs": [
    {
     "data": {
      "image/png": "[encoded data removed]",
      "text/plain": [
       "<Figure size 432x288 with 1 Axes>"
      ]
     },
     "metadata": {
      "needs_background": "light"
     },
     "output_type": "display_data"
    }
   ],
   "source": [
    "plt.scatter(x=employee_title_df.title_count, y=employee_title_df.days_since_hired);"
   ]
  },
  {
   "cell_type": "code",
   "execution_count": 204,
   "id": "8576d359",
   "metadata": {},
   "outputs": [
    {
     "data": {
      "text/plain": [
       "(0.2665989299136619, 0.0)"
      ]
     },
     "execution_count": 204,
     "metadata": {},
     "output_type": "execute_result"
    }
   ],
   "source": [
    "r, p = stats.pearsonr(employee_title_df.title_count, employee_title_df.days_since_hired)\n",
    "r, p"
   ]
  },
  {
   "cell_type": "markdown",
   "id": "8fde6a36",
   "metadata": {},
   "source": [
    "- 0: No relationship\n",
    "- 0 - 0.2: Weak positive relationship\n",
    "- **0.2 - 0.4: Moderate positive relationship**\n",
    "- 0.4 - 1: Strong positive relationship\n",
    "\n",
    "_________________________________________\n",
    "- 0 - -0.2: Weak negative relationship\n",
    "- -0.2 - -0.4: Moderate negative relationship\n",
    "- -0.4 - -1: Strong negative relationship"
   ]
  },
  {
   "cell_type": "markdown",
   "id": "5b2802b5",
   "metadata": {},
   "source": [
    "### 4. Use the sleepstudy data.\n",
    "- Is there a relationship between days and reaction time?"
   ]
  },
  {
   "cell_type": "code",
   "execution_count": 149,
   "id": "315a794e",
   "metadata": {},
   "outputs": [
    {
     "data": {
      "text/html": [
       "<div>\n",
       "<style scoped>\n",
       "    .dataframe tbody tr th:only-of-type {\n",
       "        vertical-align: middle;\n",
       "    }\n",
       "\n",
       "    .dataframe tbody tr th {\n",
       "        vertical-align: top;\n",
       "    }\n",
       "\n",
       "    .dataframe thead th {\n",
       "        text-align: right;\n",
       "    }\n",
       "</style>\n",
       "<table border=\"1\" class=\"dataframe\">\n",
       "  <thead>\n",
       "    <tr style=\"text-align: right;\">\n",
       "      <th></th>\n",
       "      <th>Reaction</th>\n",
       "      <th>Days</th>\n",
       "      <th>Subject</th>\n",
       "    </tr>\n",
       "  </thead>\n",
       "  <tbody>\n",
       "    <tr>\n",
       "      <th>1</th>\n",
       "      <td>249.5600</td>\n",
       "      <td>0</td>\n",
       "      <td>308</td>\n",
       "    </tr>\n",
       "    <tr>\n",
       "      <th>2</th>\n",
       "      <td>258.7047</td>\n",
       "      <td>1</td>\n",
       "      <td>308</td>\n",
       "    </tr>\n",
       "    <tr>\n",
       "      <th>3</th>\n",
       "      <td>250.8006</td>\n",
       "      <td>2</td>\n",
       "      <td>308</td>\n",
       "    </tr>\n",
       "    <tr>\n",
       "      <th>4</th>\n",
       "      <td>321.4398</td>\n",
       "      <td>3</td>\n",
       "      <td>308</td>\n",
       "    </tr>\n",
       "    <tr>\n",
       "      <th>5</th>\n",
       "      <td>356.8519</td>\n",
       "      <td>4</td>\n",
       "      <td>308</td>\n",
       "    </tr>\n",
       "  </tbody>\n",
       "</table>\n",
       "</div>"
      ],
      "text/plain": [
       "   Reaction  Days  Subject\n",
       "1  249.5600     0      308\n",
       "2  258.7047     1      308\n",
       "3  250.8006     2      308\n",
       "4  321.4398     3      308\n",
       "5  356.8519     4      308"
      ]
     },
     "execution_count": 149,
     "metadata": {},
     "output_type": "execute_result"
    }
   ],
   "source": [
    "sleepstudy = data('sleepstudy')\n",
    "sleepstudy.head()"
   ]
  },
  {
   "cell_type": "code",
   "execution_count": 210,
   "id": "a1c96058",
   "metadata": {
    "scrolled": true
   },
   "outputs": [
    {
     "data": {
      "image/png": "[encoded data removed]",
      "text/plain": [
       "<Figure size 432x288 with 1 Axes>"
      ]
     },
     "metadata": {
      "needs_background": "light"
     },
     "output_type": "display_data"
    }
   ],
   "source": [
    "plt.scatter(x=sleepstudy.Reaction, y=sleepstudy.Days);"
   ]
  },
  {
   "cell_type": "code",
   "execution_count": 211,
   "id": "7ec8dcaf",
   "metadata": {},
   "outputs": [
    {
     "data": {
      "text/plain": [
       "(0.5352302262650253, 9.894096322214812e-15)"
      ]
     },
     "execution_count": 211,
     "metadata": {},
     "output_type": "execute_result"
    }
   ],
   "source": [
    "r, p = stats.pearsonr(sleepstudy.Reaction, sleepstudy.Days)\n",
    "r, p"
   ]
  },
  {
   "cell_type": "markdown",
   "id": "0d053014",
   "metadata": {},
   "source": [
    "- 0: No relationship\n",
    "- 0 - 0.2: Weak positive relationship\n",
    "- 0.2 - 0.4: Moderate positive relationship\n",
    "- **0.4 - 1: Strong positive relationship**\n",
    "\n",
    "_________________________________________\n",
    "- 0 - -0.2: Weak negative relationship\n",
    "- -0.2 - -0.4: Moderate negative relationship\n",
    "- -0.4 - -1: Strong negative relationship"
   ]
  },
  {
   "cell_type": "markdown",
   "id": "a6dab209",
   "metadata": {},
   "source": [
    "# Chi Square"
   ]
  },
  {
   "cell_type": "markdown",
   "id": "518d334e",
   "metadata": {},
   "source": [
    "### 1. Answer with the type of stats test you would use (assume normal distribution):\n",
    "- Do students get better test grades if they have a rubber duck on their desk?\n",
    "- Does smoking affect when or not someone has lung cancer?\n",
    "- Is gender independent of a person’s blood type?\n",
    "- A farming company wants to know if a new fertilizer has improved crop yield or not\n",
    "- Does the length of time of the lecture correlate with a students grade?\n",
    "- Do people with dogs live in apartments more than people with cats?"
   ]
  },
  {
   "cell_type": "markdown",
   "id": "dea4aa7e",
   "metadata": {},
   "source": [
    "### 2. Use the following contingency table to help answer the question of whether using a macbook and being a codeup student are independent of each other."
   ]
  },
  {
   "cell_type": "markdown",
   "id": "e3f876c8",
   "metadata": {},
   "source": [
    "### 3. Choose another 2 categorical variables from the mpg dataset and perform a $\\chi^2$ contingency table test with them. Be sure to state your null and alternative hypotheses."
   ]
  },
  {
   "cell_type": "markdown",
   "id": "aa921811",
   "metadata": {},
   "source": [
    "### 4. Use the data from the employees database to answer these questions:\n",
    "- Is an employee's gender independent of whether an employee works in sales or marketing? (only look at current employees)\n",
    "- Is an employee's gender independent of whether or not they are or have been a manager?"
   ]
  },
  {
   "cell_type": "code",
   "execution_count": null,
   "id": "bae39ecc",
   "metadata": {},
   "outputs": [],
   "source": []
  }
 ],
 "metadata": {
  "kernelspec": {
   "display_name": "Python 3 (ipykernel)",
   "language": "python",
   "name": "python3"
  },
  "language_info": {
   "codemirror_mode": {
    "name": "ipython",
    "version": 3
   },
   "file_extension": ".py",
   "mimetype": "text/x-python",
   "name": "python",
   "nbconvert_exporter": "python",
   "pygments_lexer": "ipython3",
   "version": "3.9.12"
  }
 },
 "nbformat": 4,
 "nbformat_minor": 5
}
