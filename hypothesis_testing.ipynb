{
 "cells": [
  {
   "cell_type": "markdown",
   "id": "1540ff31",
   "metadata": {},
   "source": [
    "# Overview"
   ]
  },
  {
   "cell_type": "markdown",
   "id": "2a307836",
   "metadata": {},
   "source": [
    "### For each of the following questions, formulate a null and alternative hypothesis (be as specific as you can be), then give an example of what a true positive, true negative, type I and type II errors would look like. Note that some of the questions are intentionally phrased in a vague way. It is your job to reword these as more precise questions that could be tested."
   ]
  },
  {
   "cell_type": "markdown",
   "id": "f622269c",
   "metadata": {},
   "source": [
    "### Has the network latency gone up since we switched internet service providers?"
   ]
  },
  {
   "cell_type": "markdown",
   "id": "7ef89b0e",
   "metadata": {},
   "source": [
    "$H_0$ = Average latency with new internet service provider is the same or down compared to the average latency of the old internet service provider.\n",
    "\n",
    "$H_a$ = Average latency with new internet service provider is up compared to the average latency of the old internet service provider."
   ]
  },
  {
   "cell_type": "markdown",
   "id": "271d07bd",
   "metadata": {},
   "source": [
    "**True Positive**: The average latency is up with the new internet service provider.\n",
    "\n",
    "**True Negative**: The average latency with new internet service provider is the same or down.\n",
    "\n",
    "**Type I Error**: The results say the average latency is the same or down, but it is really up. \n",
    "\n",
    "**Type II Error**: The results say the average latency is up, but it is really the same or down."
   ]
  },
  {
   "cell_type": "markdown",
   "id": "2d8c8c36",
   "metadata": {},
   "source": [
    "# Maggie's answers"
   ]
  },
  {
   "cell_type": "markdown",
   "id": "7448709a",
   "metadata": {},
   "source": [
    "$H_0$ = $\\mu_{latency_a} \\leq \\mu_{latency_b}$\n",
    "\n",
    "$H_a$ = $\\mu_{latency_a} > \\mu_{latency_b}$"
   ]
  },
  {
   "cell_type": "markdown",
   "id": "d38f62d4",
   "metadata": {},
   "source": [
    "**True Positive**: latency went up and we said it did\n",
    "\n",
    "**True Negative**: latency didn't go up and we said it didn't\n",
    "\n",
    "**Type I Error**: latency didn't go up, but we said it did.\n",
    "\n",
    "**Type II Error**: latency did go up, but we said it didn't."
   ]
  },
  {
   "cell_type": "markdown",
   "id": "5b32e182",
   "metadata": {},
   "source": [
    "### Is the website redesign any good?"
   ]
  },
  {
   "cell_type": "markdown",
   "id": "e9c27fff",
   "metadata": {},
   "source": [
    "$H_0$ = The average website session length was the same or down after the redesign.\n",
    "\n",
    "$H_a$ = There is a higher average website session length after  than before the redesign."
   ]
  },
  {
   "cell_type": "markdown",
   "id": "b9e561ee",
   "metadata": {},
   "source": [
    "**True Positive**: The average website session length is higher after the redesign.\n",
    "\n",
    "**True Negative**: The average website session length was the same or down after the redesign.\n",
    "\n",
    "**Type I Error**: The results say there is no difference in average website session length, but there is.\n",
    "\n",
    "**Type II Error**: The results say there is a higher average, but there isn't."
   ]
  },
  {
   "cell_type": "markdown",
   "id": "b304002d",
   "metadata": {},
   "source": [
    "# Maggie's answers"
   ]
  },
  {
   "cell_type": "markdown",
   "id": "e90eb572",
   "metadata": {},
   "source": [
    "$H_0$ = $\\mu_{time_{old}} \\geq \\mu_{time_{new}}$\n",
    "\n",
    "$H_a$ = $\\mu_{time_{old}} < \\mu_{time_{new}}$"
   ]
  },
  {
   "cell_type": "markdown",
   "id": "9a4d5c0d",
   "metadata": {},
   "source": [
    "**True Positive**: visitors spend more time and we said that\n",
    "\n",
    "**True Negative**: visitors spend less or equal time and we said that.\n",
    "\n",
    "**Type I Error**: We said the site is better, but it's not.\n",
    "\n",
    "**Type II Error**: We said the site is not better, but it is. "
   ]
  },
  {
   "cell_type": "markdown",
   "id": "daf54d71",
   "metadata": {},
   "source": [
    "### Is our television ad driving more sales?"
   ]
  },
  {
   "cell_type": "markdown",
   "id": "941af8c0",
   "metadata": {},
   "source": [
    "$H_0$ = Sales were the same or down before and after the television add.\n",
    "\n",
    "$H_a$ = Our television ad leads to more sales."
   ]
  },
  {
   "cell_type": "markdown",
   "id": "8a912f0a",
   "metadata": {},
   "source": [
    "**True Positive**: Our television ad increased sales.\n",
    "\n",
    "**True Negative**: Sales were the same or down before and after the television add.\n",
    "\n",
    "**Type I Error**: The results say that sales were the same or down after the ad, but really were up.\n",
    "\n",
    "**Type II Error**: The results say that sales were up, but the sales were actually the same or down."
   ]
  },
  {
   "cell_type": "markdown",
   "id": "413fa0bd",
   "metadata": {},
   "source": [
    "# Maggie's answers"
   ]
  },
  {
   "cell_type": "markdown",
   "id": "d953a8c7",
   "metadata": {},
   "source": [
    "$H_0$ = $\\mu_{sales_{pre}} \\geq \\mu_{sales_{post}}$\n",
    "\n",
    "$H_a$ = $\\mu_{sales_{pre}} < \\mu_{sales_{post}}$"
   ]
  },
  {
   "cell_type": "markdown",
   "id": "2a690ef1",
   "metadata": {},
   "source": [
    "**True Positive**: Post ad sales are higher, and we said they would.\n",
    "\n",
    "**True Negative**: Post ad sales didn't increase, and we said they wouldn't \n",
    "\n",
    "**Type I Error**: Post ad sales are not higher, but we said they are\n",
    "\n",
    "**Type II Error**: Post ad sales increased, but we said it didn't"
   ]
  },
  {
   "cell_type": "markdown",
   "id": "b9a202d3",
   "metadata": {},
   "source": [
    "# T-Test"
   ]
  },
  {
   "cell_type": "code",
   "execution_count": 1,
   "id": "c35c5bb2",
   "metadata": {},
   "outputs": [],
   "source": [
    "import numpy as np\n",
    "import seaborn as sns\n",
    "import scipy.stats as stats\n",
    "import pandas as pd\n",
    "import matplotlib.pyplot as plt\n",
    "\n",
    "from env import get_db_url"
   ]
  },
  {
   "cell_type": "markdown",
   "id": "bbecf1df",
   "metadata": {},
   "source": [
    "### 1. Answer with the type of test you would use (assume normal distribution):\n",
    "- Is there a difference in grades of students on the second floor compared to grades of all students? **One-sample ttest**"
   ]
  },
  {
   "cell_type": "markdown",
   "id": "867b2021",
   "metadata": {},
   "source": [
    "- Are adults who drink milk taller than adults who dont drink milk? **Independent ttest**"
   ]
  },
  {
   "cell_type": "markdown",
   "id": "b88b76e0",
   "metadata": {},
   "source": [
    "- Is the the price of gas higher in Texas or in New Mexico? **Independent ttest**"
   ]
  },
  {
   "cell_type": "markdown",
   "id": "4a57af08",
   "metadata": {},
   "source": [
    "- Are there differences in stress levels between students who take data science vs students who take web development vs students who take cloud academy? **ANOVA**"
   ]
  },
  {
   "cell_type": "markdown",
   "id": "d123a8c6",
   "metadata": {},
   "source": [
    "### 2. Ace Realty wants to determine whether the average time it takes to sell homes is different for its two offices. "
   ]
  },
  {
   "cell_type": "markdown",
   "id": "5a86ee3c",
   "metadata": {},
   "source": [
    "**Set Hypothesis**\n",
    "\n",
    "$H_{0}$: There is no difference in average time it takes to sell a home between offices.\n",
    "\n",
    "$H_{a}$: There is a difference in average time it takes to sell a home between offices."
   ]
  },
  {
   "cell_type": "markdown",
   "id": "51d47003",
   "metadata": {},
   "source": [
    "### A sample of 40 sales from office #1 revealed a mean of 90 days and a standard deviation of 15 days."
   ]
  },
  {
   "cell_type": "code",
   "execution_count": 99,
   "id": "0c62262a",
   "metadata": {},
   "outputs": [
    {
     "data": {
      "text/plain": [
       "array([101.55472748, 104.60873158,  69.75514676,  59.95480711,\n",
       "        65.28539654,  71.14647274,  77.18695137, 121.71647508,\n",
       "        84.47341283,  85.99744481, 106.35077413, 101.72566753,\n",
       "        90.13165923,  80.41887235,  83.30470204,  78.23991457,\n",
       "        95.2494672 ,  96.20470949,  83.39094557,  83.47333837,\n",
       "       109.31382692,  87.13390936,  67.85145886,  84.80475288,\n",
       "       111.88644734, 105.67205522, 105.79873488,  99.26114766,\n",
       "        90.6446067 ,  83.4558757 , 128.48343498,  86.87594629,\n",
       "        78.79088523,  92.19767971,  99.9695682 ,  83.159271  ,\n",
       "        85.2915199 ,  76.6344453 ,  94.6298981 ,  76.53776504])"
      ]
     },
     "execution_count": 99,
     "metadata": {},
     "output_type": "execute_result"
    }
   ],
   "source": [
    "office1 = stats.norm(90,15).rvs(40)\n",
    "office1"
   ]
  },
  {
   "cell_type": "markdown",
   "id": "7826479f",
   "metadata": {},
   "source": [
    "### A sample of 50 sales from office #2 revealed a mean of 100 days and a standard deviation of 20 days. Use a .05 level of significance."
   ]
  },
  {
   "cell_type": "code",
   "execution_count": 100,
   "id": "d343168d",
   "metadata": {},
   "outputs": [
    {
     "data": {
      "text/plain": [
       "array([108.82487002,  99.94240974, 113.06026353,  99.4358951 ,\n",
       "        88.13717452,  95.19368779,  79.1660542 , 118.4371211 ,\n",
       "       114.66639707, 117.76387097, 109.42600221,  96.66232446,\n",
       "       123.77364661,  87.46575165, 129.45998334, 111.10793751,\n",
       "        87.24467558, 118.93274547,  96.63670546,  66.19952573,\n",
       "       100.15362708, 136.51453462, 114.40905961, 114.207851  ,\n",
       "       126.08880098, 108.21208878,  97.95110404, 115.5872277 ,\n",
       "        70.87330438, 109.88062253, 116.49553567, 117.38328168,\n",
       "        96.93829366,  94.88099747, 133.34106131,  84.70199183,\n",
       "       104.21933139,  99.42497787, 104.26392461,  73.99865324,\n",
       "       111.49537749,  99.90092414, 109.58444871,  69.58186655,\n",
       "        97.97605135, 109.04155738,  91.56557864, 106.19539372,\n",
       "        90.88228395,  76.62031093])"
      ]
     },
     "execution_count": 100,
     "metadata": {},
     "output_type": "execute_result"
    }
   ],
   "source": [
    "office2 = stats.norm(100,20).rvs(50)\n",
    "office2"
   ]
  },
  {
   "cell_type": "code",
   "execution_count": 101,
   "id": "498ccef1",
   "metadata": {},
   "outputs": [
    {
     "data": {
      "text/plain": [
       "LeveneResult(statistic=0.38636538228855705, pvalue=0.5358230967371687)"
      ]
     },
     "execution_count": 101,
     "metadata": {},
     "output_type": "execute_result"
    }
   ],
   "source": [
    "stats.levene(office1, office2)"
   ]
  },
  {
   "cell_type": "code",
   "execution_count": 102,
   "id": "46fc6a7a",
   "metadata": {},
   "outputs": [],
   "source": [
    "alpha = 0.05"
   ]
  },
  {
   "cell_type": "code",
   "execution_count": 103,
   "id": "ec90ab09",
   "metadata": {},
   "outputs": [
    {
     "data": {
      "text/plain": [
       "(-3.928158000468648, 0.00016987508156845514)"
      ]
     },
     "execution_count": 103,
     "metadata": {},
     "output_type": "execute_result"
    }
   ],
   "source": [
    "tstat, pval = stats.ttest_ind(office1, office2)\n",
    "\n",
    "tstat, pval"
   ]
  },
  {
   "cell_type": "markdown",
   "id": "55b31d23",
   "metadata": {},
   "source": [
    "**Decide**\n",
    "\n",
    "Is $t > 0$ and $p < \\alpha$ "
   ]
  },
  {
   "cell_type": "code",
   "execution_count": 105,
   "id": "12884610",
   "metadata": {},
   "outputs": [
    {
     "name": "stdout",
     "output_type": "stream",
     "text": [
      "We fail to reject the null hypothesis\n"
     ]
    }
   ],
   "source": [
    "if (pval < alpha) and (tstat > 0):\n",
    "    print(\"we can reject the null hypothesis\")\n",
    "else:\n",
    "    print('We fail to reject the null hypothesis')"
   ]
  },
  {
   "cell_type": "markdown",
   "id": "97c4ad89",
   "metadata": {},
   "source": [
    "**We can assume there is a difference in average time to sell a home between the two offices.**"
   ]
  },
  {
   "cell_type": "markdown",
   "id": "fb54011d",
   "metadata": {},
   "source": [
    "### 3. Load the mpg dataset and use it to answer the following questions:"
   ]
  },
  {
   "cell_type": "code",
   "execution_count": 2,
   "id": "0a49ad4c",
   "metadata": {},
   "outputs": [],
   "source": [
    "from pydataset import data\n",
    "\n",
    "mpg = data('mpg')"
   ]
  },
  {
   "cell_type": "code",
   "execution_count": 3,
   "id": "fb5df5a6",
   "metadata": {
    "scrolled": false
   },
   "outputs": [
    {
     "data": {
      "text/html": [
       "<div>\n",
       "<style scoped>\n",
       "    .dataframe tbody tr th:only-of-type {\n",
       "        vertical-align: middle;\n",
       "    }\n",
       "\n",
       "    .dataframe tbody tr th {\n",
       "        vertical-align: top;\n",
       "    }\n",
       "\n",
       "    .dataframe thead th {\n",
       "        text-align: right;\n",
       "    }\n",
       "</style>\n",
       "<table border=\"1\" class=\"dataframe\">\n",
       "  <thead>\n",
       "    <tr style=\"text-align: right;\">\n",
       "      <th></th>\n",
       "      <th>manufacturer</th>\n",
       "      <th>model</th>\n",
       "      <th>displ</th>\n",
       "      <th>year</th>\n",
       "      <th>cyl</th>\n",
       "      <th>trans</th>\n",
       "      <th>drv</th>\n",
       "      <th>cty</th>\n",
       "      <th>hwy</th>\n",
       "      <th>fl</th>\n",
       "      <th>class</th>\n",
       "    </tr>\n",
       "  </thead>\n",
       "  <tbody>\n",
       "    <tr>\n",
       "      <th>1</th>\n",
       "      <td>audi</td>\n",
       "      <td>a4</td>\n",
       "      <td>1.8</td>\n",
       "      <td>1999</td>\n",
       "      <td>4</td>\n",
       "      <td>auto(l5)</td>\n",
       "      <td>f</td>\n",
       "      <td>18</td>\n",
       "      <td>29</td>\n",
       "      <td>p</td>\n",
       "      <td>compact</td>\n",
       "    </tr>\n",
       "    <tr>\n",
       "      <th>2</th>\n",
       "      <td>audi</td>\n",
       "      <td>a4</td>\n",
       "      <td>1.8</td>\n",
       "      <td>1999</td>\n",
       "      <td>4</td>\n",
       "      <td>manual(m5)</td>\n",
       "      <td>f</td>\n",
       "      <td>21</td>\n",
       "      <td>29</td>\n",
       "      <td>p</td>\n",
       "      <td>compact</td>\n",
       "    </tr>\n",
       "    <tr>\n",
       "      <th>3</th>\n",
       "      <td>audi</td>\n",
       "      <td>a4</td>\n",
       "      <td>2.0</td>\n",
       "      <td>2008</td>\n",
       "      <td>4</td>\n",
       "      <td>manual(m6)</td>\n",
       "      <td>f</td>\n",
       "      <td>20</td>\n",
       "      <td>31</td>\n",
       "      <td>p</td>\n",
       "      <td>compact</td>\n",
       "    </tr>\n",
       "    <tr>\n",
       "      <th>4</th>\n",
       "      <td>audi</td>\n",
       "      <td>a4</td>\n",
       "      <td>2.0</td>\n",
       "      <td>2008</td>\n",
       "      <td>4</td>\n",
       "      <td>auto(av)</td>\n",
       "      <td>f</td>\n",
       "      <td>21</td>\n",
       "      <td>30</td>\n",
       "      <td>p</td>\n",
       "      <td>compact</td>\n",
       "    </tr>\n",
       "    <tr>\n",
       "      <th>5</th>\n",
       "      <td>audi</td>\n",
       "      <td>a4</td>\n",
       "      <td>2.8</td>\n",
       "      <td>1999</td>\n",
       "      <td>6</td>\n",
       "      <td>auto(l5)</td>\n",
       "      <td>f</td>\n",
       "      <td>16</td>\n",
       "      <td>26</td>\n",
       "      <td>p</td>\n",
       "      <td>compact</td>\n",
       "    </tr>\n",
       "  </tbody>\n",
       "</table>\n",
       "</div>"
      ],
      "text/plain": [
       "  manufacturer model  displ  year  cyl       trans drv  cty  hwy fl    class\n",
       "1         audi    a4    1.8  1999    4    auto(l5)   f   18   29  p  compact\n",
       "2         audi    a4    1.8  1999    4  manual(m5)   f   21   29  p  compact\n",
       "3         audi    a4    2.0  2008    4  manual(m6)   f   20   31  p  compact\n",
       "4         audi    a4    2.0  2008    4    auto(av)   f   21   30  p  compact\n",
       "5         audi    a4    2.8  1999    6    auto(l5)   f   16   26  p  compact"
      ]
     },
     "execution_count": 3,
     "metadata": {},
     "output_type": "execute_result"
    }
   ],
   "source": [
    "mpg.head()"
   ]
  },
  {
   "cell_type": "code",
   "execution_count": 4,
   "id": "f0c3b1b4",
   "metadata": {
    "scrolled": true
   },
   "outputs": [
    {
     "name": "stdout",
     "output_type": "stream",
     "text": [
      "<class 'pandas.core.frame.DataFrame'>\n",
      "Int64Index: 234 entries, 1 to 234\n",
      "Data columns (total 11 columns):\n",
      " #   Column        Non-Null Count  Dtype  \n",
      "---  ------        --------------  -----  \n",
      " 0   manufacturer  234 non-null    object \n",
      " 1   model         234 non-null    object \n",
      " 2   displ         234 non-null    float64\n",
      " 3   year          234 non-null    int64  \n",
      " 4   cyl           234 non-null    int64  \n",
      " 5   trans         234 non-null    object \n",
      " 6   drv           234 non-null    object \n",
      " 7   cty           234 non-null    int64  \n",
      " 8   hwy           234 non-null    int64  \n",
      " 9   fl            234 non-null    object \n",
      " 10  class         234 non-null    object \n",
      "dtypes: float64(1), int64(4), object(6)\n",
      "memory usage: 21.9+ KB\n"
     ]
    }
   ],
   "source": [
    "mpg.info()"
   ]
  },
  {
   "cell_type": "code",
   "execution_count": 5,
   "id": "ccb90a7f",
   "metadata": {
    "scrolled": false
   },
   "outputs": [
    {
     "data": {
      "text/html": [
       "<div>\n",
       "<style scoped>\n",
       "    .dataframe tbody tr th:only-of-type {\n",
       "        vertical-align: middle;\n",
       "    }\n",
       "\n",
       "    .dataframe tbody tr th {\n",
       "        vertical-align: top;\n",
       "    }\n",
       "\n",
       "    .dataframe thead th {\n",
       "        text-align: right;\n",
       "    }\n",
       "</style>\n",
       "<table border=\"1\" class=\"dataframe\">\n",
       "  <thead>\n",
       "    <tr style=\"text-align: right;\">\n",
       "      <th></th>\n",
       "      <th>displ</th>\n",
       "      <th>year</th>\n",
       "      <th>cyl</th>\n",
       "      <th>cty</th>\n",
       "      <th>hwy</th>\n",
       "    </tr>\n",
       "  </thead>\n",
       "  <tbody>\n",
       "    <tr>\n",
       "      <th>count</th>\n",
       "      <td>234.000000</td>\n",
       "      <td>234.000000</td>\n",
       "      <td>234.000000</td>\n",
       "      <td>234.000000</td>\n",
       "      <td>234.000000</td>\n",
       "    </tr>\n",
       "    <tr>\n",
       "      <th>mean</th>\n",
       "      <td>3.471795</td>\n",
       "      <td>2003.500000</td>\n",
       "      <td>5.888889</td>\n",
       "      <td>16.858974</td>\n",
       "      <td>23.440171</td>\n",
       "    </tr>\n",
       "    <tr>\n",
       "      <th>std</th>\n",
       "      <td>1.291959</td>\n",
       "      <td>4.509646</td>\n",
       "      <td>1.611534</td>\n",
       "      <td>4.255946</td>\n",
       "      <td>5.954643</td>\n",
       "    </tr>\n",
       "    <tr>\n",
       "      <th>min</th>\n",
       "      <td>1.600000</td>\n",
       "      <td>1999.000000</td>\n",
       "      <td>4.000000</td>\n",
       "      <td>9.000000</td>\n",
       "      <td>12.000000</td>\n",
       "    </tr>\n",
       "    <tr>\n",
       "      <th>25%</th>\n",
       "      <td>2.400000</td>\n",
       "      <td>1999.000000</td>\n",
       "      <td>4.000000</td>\n",
       "      <td>14.000000</td>\n",
       "      <td>18.000000</td>\n",
       "    </tr>\n",
       "    <tr>\n",
       "      <th>50%</th>\n",
       "      <td>3.300000</td>\n",
       "      <td>2003.500000</td>\n",
       "      <td>6.000000</td>\n",
       "      <td>17.000000</td>\n",
       "      <td>24.000000</td>\n",
       "    </tr>\n",
       "    <tr>\n",
       "      <th>75%</th>\n",
       "      <td>4.600000</td>\n",
       "      <td>2008.000000</td>\n",
       "      <td>8.000000</td>\n",
       "      <td>19.000000</td>\n",
       "      <td>27.000000</td>\n",
       "    </tr>\n",
       "    <tr>\n",
       "      <th>max</th>\n",
       "      <td>7.000000</td>\n",
       "      <td>2008.000000</td>\n",
       "      <td>8.000000</td>\n",
       "      <td>35.000000</td>\n",
       "      <td>44.000000</td>\n",
       "    </tr>\n",
       "  </tbody>\n",
       "</table>\n",
       "</div>"
      ],
      "text/plain": [
       "            displ         year         cyl         cty         hwy\n",
       "count  234.000000   234.000000  234.000000  234.000000  234.000000\n",
       "mean     3.471795  2003.500000    5.888889   16.858974   23.440171\n",
       "std      1.291959     4.509646    1.611534    4.255946    5.954643\n",
       "min      1.600000  1999.000000    4.000000    9.000000   12.000000\n",
       "25%      2.400000  1999.000000    4.000000   14.000000   18.000000\n",
       "50%      3.300000  2003.500000    6.000000   17.000000   24.000000\n",
       "75%      4.600000  2008.000000    8.000000   19.000000   27.000000\n",
       "max      7.000000  2008.000000    8.000000   35.000000   44.000000"
      ]
     },
     "execution_count": 5,
     "metadata": {},
     "output_type": "execute_result"
    }
   ],
   "source": [
    "mpg.describe()"
   ]
  },
  {
   "cell_type": "code",
   "execution_count": 7,
   "id": "359ca3f9",
   "metadata": {},
   "outputs": [],
   "source": [
    "#Clean up data\n",
    "mpg.rename(columns={'cty': 'city'}, inplace=True)\n",
    "mpg.rename(columns={'hwy': 'highway'}, inplace=True)"
   ]
  },
  {
   "cell_type": "code",
   "execution_count": 9,
   "id": "601fd147",
   "metadata": {},
   "outputs": [],
   "source": [
    "#add column for overall average mpg\n",
    "mpg['average_mileage'] = round(2 / ((1/mpg.highway) + (1/mpg.city)), 2)"
   ]
  },
  {
   "cell_type": "code",
   "execution_count": 11,
   "id": "e4a53751",
   "metadata": {},
   "outputs": [],
   "source": [
    "#add column for automatic = True manual = False\n",
    "mpg['is_automatic'] = mpg.trans.str.contains('auto')"
   ]
  },
  {
   "cell_type": "code",
   "execution_count": 12,
   "id": "cca8a8aa",
   "metadata": {},
   "outputs": [
    {
     "data": {
      "text/html": [
       "<div>\n",
       "<style scoped>\n",
       "    .dataframe tbody tr th:only-of-type {\n",
       "        vertical-align: middle;\n",
       "    }\n",
       "\n",
       "    .dataframe tbody tr th {\n",
       "        vertical-align: top;\n",
       "    }\n",
       "\n",
       "    .dataframe thead th {\n",
       "        text-align: right;\n",
       "    }\n",
       "</style>\n",
       "<table border=\"1\" class=\"dataframe\">\n",
       "  <thead>\n",
       "    <tr style=\"text-align: right;\">\n",
       "      <th></th>\n",
       "      <th>manufacturer</th>\n",
       "      <th>model</th>\n",
       "      <th>displ</th>\n",
       "      <th>year</th>\n",
       "      <th>cyl</th>\n",
       "      <th>trans</th>\n",
       "      <th>drv</th>\n",
       "      <th>city</th>\n",
       "      <th>highway</th>\n",
       "      <th>fl</th>\n",
       "      <th>class</th>\n",
       "      <th>average_mileage</th>\n",
       "      <th>is_automatic</th>\n",
       "    </tr>\n",
       "  </thead>\n",
       "  <tbody>\n",
       "    <tr>\n",
       "      <th>1</th>\n",
       "      <td>audi</td>\n",
       "      <td>a4</td>\n",
       "      <td>1.8</td>\n",
       "      <td>1999</td>\n",
       "      <td>4</td>\n",
       "      <td>auto(l5)</td>\n",
       "      <td>f</td>\n",
       "      <td>18</td>\n",
       "      <td>29</td>\n",
       "      <td>p</td>\n",
       "      <td>compact</td>\n",
       "      <td>22.21</td>\n",
       "      <td>True</td>\n",
       "    </tr>\n",
       "    <tr>\n",
       "      <th>2</th>\n",
       "      <td>audi</td>\n",
       "      <td>a4</td>\n",
       "      <td>1.8</td>\n",
       "      <td>1999</td>\n",
       "      <td>4</td>\n",
       "      <td>manual(m5)</td>\n",
       "      <td>f</td>\n",
       "      <td>21</td>\n",
       "      <td>29</td>\n",
       "      <td>p</td>\n",
       "      <td>compact</td>\n",
       "      <td>24.36</td>\n",
       "      <td>False</td>\n",
       "    </tr>\n",
       "    <tr>\n",
       "      <th>3</th>\n",
       "      <td>audi</td>\n",
       "      <td>a4</td>\n",
       "      <td>2.0</td>\n",
       "      <td>2008</td>\n",
       "      <td>4</td>\n",
       "      <td>manual(m6)</td>\n",
       "      <td>f</td>\n",
       "      <td>20</td>\n",
       "      <td>31</td>\n",
       "      <td>p</td>\n",
       "      <td>compact</td>\n",
       "      <td>24.31</td>\n",
       "      <td>False</td>\n",
       "    </tr>\n",
       "    <tr>\n",
       "      <th>4</th>\n",
       "      <td>audi</td>\n",
       "      <td>a4</td>\n",
       "      <td>2.0</td>\n",
       "      <td>2008</td>\n",
       "      <td>4</td>\n",
       "      <td>auto(av)</td>\n",
       "      <td>f</td>\n",
       "      <td>21</td>\n",
       "      <td>30</td>\n",
       "      <td>p</td>\n",
       "      <td>compact</td>\n",
       "      <td>24.71</td>\n",
       "      <td>True</td>\n",
       "    </tr>\n",
       "    <tr>\n",
       "      <th>5</th>\n",
       "      <td>audi</td>\n",
       "      <td>a4</td>\n",
       "      <td>2.8</td>\n",
       "      <td>1999</td>\n",
       "      <td>6</td>\n",
       "      <td>auto(l5)</td>\n",
       "      <td>f</td>\n",
       "      <td>16</td>\n",
       "      <td>26</td>\n",
       "      <td>p</td>\n",
       "      <td>compact</td>\n",
       "      <td>19.81</td>\n",
       "      <td>True</td>\n",
       "    </tr>\n",
       "  </tbody>\n",
       "</table>\n",
       "</div>"
      ],
      "text/plain": [
       "  manufacturer model  displ  year  cyl       trans drv  city  highway fl  \\\n",
       "1         audi    a4    1.8  1999    4    auto(l5)   f    18       29  p   \n",
       "2         audi    a4    1.8  1999    4  manual(m5)   f    21       29  p   \n",
       "3         audi    a4    2.0  2008    4  manual(m6)   f    20       31  p   \n",
       "4         audi    a4    2.0  2008    4    auto(av)   f    21       30  p   \n",
       "5         audi    a4    2.8  1999    6    auto(l5)   f    16       26  p   \n",
       "\n",
       "     class  average_mileage  is_automatic  \n",
       "1  compact            22.21          True  \n",
       "2  compact            24.36         False  \n",
       "3  compact            24.31         False  \n",
       "4  compact            24.71          True  \n",
       "5  compact            19.81          True  "
      ]
     },
     "execution_count": 12,
     "metadata": {},
     "output_type": "execute_result"
    }
   ],
   "source": [
    "mpg.head()"
   ]
  },
  {
   "cell_type": "markdown",
   "id": "c3fd1f02",
   "metadata": {},
   "source": [
    "###  Is there a difference in fuel-efficiency in cars from 2008 vs 1999?"
   ]
  },
  {
   "cell_type": "markdown",
   "id": "63fb8af5",
   "metadata": {},
   "source": [
    "**A. Plot Distribution**"
   ]
  },
  {
   "cell_type": "code",
   "execution_count": 14,
   "id": "b9ca1764",
   "metadata": {},
   "outputs": [
    {
     "data": {
      "image/png": "[encoded data removed]",
      "text/plain": [
       "<Figure size 432x288 with 1 Axes>"
      ]
     },
     "metadata": {
      "needs_background": "light"
     },
     "output_type": "display_data"
    }
   ],
   "source": [
    "mpg.average_mileage.hist();"
   ]
  },
  {
   "cell_type": "code",
   "execution_count": 29,
   "id": "53d109ea",
   "metadata": {},
   "outputs": [],
   "source": [
    "cars_2008 = mpg.average_mileage[mpg.year == 2008]\n",
    "cars_1999 = mpg.average_mileage[mpg.year == 1999]"
   ]
  },
  {
   "cell_type": "code",
   "execution_count": 30,
   "id": "dfb7188a",
   "metadata": {},
   "outputs": [
    {
     "data": {
      "text/plain": [
       "(19.681452991452982, 19.488632478632482)"
      ]
     },
     "execution_count": 30,
     "metadata": {},
     "output_type": "execute_result"
    }
   ],
   "source": [
    "cars_1999.mean(), cars_2008.mean()"
   ]
  },
  {
   "cell_type": "markdown",
   "id": "9289e42e",
   "metadata": {
    "tags": []
   },
   "source": [
    "**B. Set Hypothesis**\n",
    "\n",
    "$H_{0}$: There is no difference in fuel-efficiency in cars from 2008 vs. 1999.\n",
    "\n",
    "$H_{a}$: There is a difference in fuel-efficiency in cars from 2008 vs. 1999."
   ]
  },
  {
   "cell_type": "markdown",
   "id": "597a86cc",
   "metadata": {
    "tags": []
   },
   "source": [
    "**C. Set Alpha**"
   ]
  },
  {
   "cell_type": "code",
   "execution_count": 27,
   "id": "9ea8a79e",
   "metadata": {},
   "outputs": [],
   "source": [
    "# remember that our confidence level determines our alpha, \n",
    "# which we use to compare to p\n",
    "alpha = 0.05"
   ]
  },
  {
   "cell_type": "markdown",
   "id": "df37ca2f",
   "metadata": {},
   "source": [
    "**D. Verify Assumptions**"
   ]
  },
  {
   "cell_type": "markdown",
   "id": "1c6cb253",
   "metadata": {},
   "source": [
    "**Independent:** Yes. Two separate years 2008 and 1999\n",
    "\n",
    "**Normal distribution:** Yes. Enough observations\n",
    "\n",
    "**Equal variances:** Check $\\Downarrow$"
   ]
  },
  {
   "cell_type": "code",
   "execution_count": 31,
   "id": "f1081e32",
   "metadata": {},
   "outputs": [
    {
     "data": {
      "text/plain": [
       "LeveneResult(statistic=0.030963028454038196, pvalue=0.8604763910415811)"
      ]
     },
     "execution_count": 31,
     "metadata": {},
     "output_type": "execute_result"
    }
   ],
   "source": [
    "stats.levene(cars_2008, cars_1999)"
   ]
  },
  {
   "cell_type": "markdown",
   "id": "b29055e5",
   "metadata": {},
   "source": [
    "pvalue > 0.5 sooooo they are equal enough"
   ]
  },
  {
   "cell_type": "markdown",
   "id": "9d5acbc7",
   "metadata": {},
   "source": [
    "**E. Compute test statistic and probability (t-statistic & p-value)**\n",
    "\n",
    "- scipy.stats.____________\n",
    "- For a 1-tailed test where our alternative hypothesis is testing for \"greater than\", we evaluate 𝑝/2 < 𝛼  and  𝑡 > 0. "
   ]
  },
  {
   "cell_type": "code",
   "execution_count": 32,
   "id": "dcbee859",
   "metadata": {},
   "outputs": [],
   "source": [
    "tstat, pval = stats.ttest_ind(cars_2008, cars_1999)"
   ]
  },
  {
   "cell_type": "code",
   "execution_count": 33,
   "id": "97dbf751",
   "metadata": {},
   "outputs": [
    {
     "data": {
      "text/plain": [
       "(-0.29976841281243016, 0.7646222117552022)"
      ]
     },
     "execution_count": 33,
     "metadata": {},
     "output_type": "execute_result"
    }
   ],
   "source": [
    "tstat, pval"
   ]
  },
  {
   "cell_type": "markdown",
   "id": "72bab015",
   "metadata": {},
   "source": [
    "**F. Decide**\n",
    "\n",
    "Is $t > 0$ and $p < \\alpha$ (*two-tailed test because checking for difference.*)"
   ]
  },
  {
   "cell_type": "code",
   "execution_count": 23,
   "id": "0de60967",
   "metadata": {},
   "outputs": [
    {
     "name": "stdout",
     "output_type": "stream",
     "text": [
      "We fail to reject the null hypothesis\n"
     ]
    }
   ],
   "source": [
    "if (pval < alpha) and (tstat > 0):\n",
    "    print(\"we can reject the null hypothesis\")\n",
    "else:\n",
    "    print('We fail to reject the null hypothesis')"
   ]
  },
  {
   "cell_type": "markdown",
   "id": "bbf374bc",
   "metadata": {},
   "source": [
    "**From our evaluation we can assume cars made in 2008 and cars in 1999 have a difference in fuel-efficiency.**"
   ]
  },
  {
   "cell_type": "markdown",
   "id": "e25f3be6",
   "metadata": {},
   "source": [
    "### Are compact cars more fuel-efficient than the average car?\n"
   ]
  },
  {
   "cell_type": "markdown",
   "id": "4b048350",
   "metadata": {},
   "source": [
    "Continuous: fuel-efficiency \n",
    "Discrete: car class\n",
    "\n",
    "sample mean (compact cars) \n",
    "pop mean (all cars)"
   ]
  },
  {
   "cell_type": "code",
   "execution_count": 82,
   "id": "61e33d00",
   "metadata": {},
   "outputs": [],
   "source": [
    "sample_mean = mpg.average_mileage[mpg[\"class\"] == 'compact']\n",
    "pop_mean = mpg.average_mileage.mean()"
   ]
  },
  {
   "cell_type": "markdown",
   "id": "d00f30d0",
   "metadata": {},
   "source": [
    "**A. Plot Distribution**"
   ]
  },
  {
   "cell_type": "markdown",
   "id": "9978092c",
   "metadata": {},
   "source": [
    "See above"
   ]
  },
  {
   "cell_type": "markdown",
   "id": "fe30aa49",
   "metadata": {
    "tags": []
   },
   "source": [
    "**B. Set Hypothesis**\n",
    "\n",
    "$H_{0}$: Compact cars average_mileage $\\leq$ all cars average_mileage.\n",
    "\n",
    "$H_{a}$: Compact cars average_mileage > all cars average_mileage."
   ]
  },
  {
   "cell_type": "markdown",
   "id": "89fe72b1",
   "metadata": {
    "tags": []
   },
   "source": [
    "**C. Set Alpha**"
   ]
  },
  {
   "cell_type": "markdown",
   "id": "e199c874",
   "metadata": {},
   "source": [
    "see above"
   ]
  },
  {
   "cell_type": "markdown",
   "id": "9498e4de",
   "metadata": {},
   "source": [
    "**D. Verify Assumptions**"
   ]
  },
  {
   "cell_type": "markdown",
   "id": "412af019",
   "metadata": {},
   "source": [
    "**Independent:** No. Comparing sample mean to theoretical mane\n",
    "\n",
    "**Normal distribution:** Check $\\Downarrow$"
   ]
  },
  {
   "cell_type": "code",
   "execution_count": 69,
   "id": "8807ad61",
   "metadata": {},
   "outputs": [
    {
     "data": {
      "text/plain": [
       "3042"
      ]
     },
     "execution_count": 69,
     "metadata": {},
     "output_type": "execute_result"
    }
   ],
   "source": [
    "mpg.size"
   ]
  },
  {
   "cell_type": "markdown",
   "id": "5df8f895",
   "metadata": {},
   "source": [
    "**E. Compute test statistic and probability (t-statistic & p-value)**\n",
    "\n",
    "- scipy.stats.____________\n",
    "- For a 1-tailed test where our alternative hypothesis is testing for \"greater than\", we evaluate 𝑝/2 < 𝛼  and  𝑡 > 0. "
   ]
  },
  {
   "cell_type": "code",
   "execution_count": 84,
   "id": "ce905570",
   "metadata": {},
   "outputs": [],
   "source": [
    "tstat, pval = stats.ttest_1samp(sample_mean, pop_mean)"
   ]
  },
  {
   "cell_type": "code",
   "execution_count": 85,
   "id": "5936dafe",
   "metadata": {},
   "outputs": [
    {
     "data": {
      "text/plain": [
       "(7.511735749827195, 1.56511388307498e-09)"
      ]
     },
     "execution_count": 85,
     "metadata": {},
     "output_type": "execute_result"
    }
   ],
   "source": [
    "tstat, pval"
   ]
  },
  {
   "cell_type": "markdown",
   "id": "09031712",
   "metadata": {},
   "source": [
    "**F. Decide**\n",
    "\n",
    "Is $t > 0$ and $p/2 < \\alpha$"
   ]
  },
  {
   "cell_type": "code",
   "execution_count": 86,
   "id": "db301486",
   "metadata": {},
   "outputs": [
    {
     "name": "stdout",
     "output_type": "stream",
     "text": [
      "we can reject the null hypothesis\n"
     ]
    }
   ],
   "source": [
    "if ((pval / 2) < alpha) and (tstat > 0):\n",
    "    print(\"we can reject the null hypothesis\")\n",
    "else:\n",
    "    print('We fail to reject the null hypothesis')"
   ]
  },
  {
   "cell_type": "markdown",
   "id": "2b300394",
   "metadata": {},
   "source": [
    "We can assume that compact cars are more fuel-efficient than all cars."
   ]
  },
  {
   "cell_type": "markdown",
   "id": "25b9cea5",
   "metadata": {},
   "source": [
    "### Do manual cars get better gas mileage than automatic cars?"
   ]
  },
  {
   "cell_type": "markdown",
   "id": "98999aef",
   "metadata": {},
   "source": [
    "Continuous: fuel-efficiency \n",
    "Discrete: is_automatic (True/False)\n",
    "\n",
    "group 1: manual\n",
    "group 2: auto"
   ]
  },
  {
   "cell_type": "code",
   "execution_count": 87,
   "id": "9dd1bce2",
   "metadata": {},
   "outputs": [],
   "source": [
    "manual_mpg = mpg.average_mileage[mpg.is_automatic == False]\n",
    "auto_mpg = mpg.average_mileage[mpg.is_automatic == True]"
   ]
  },
  {
   "cell_type": "markdown",
   "id": "25f73eb3",
   "metadata": {},
   "source": [
    "**A. Plot Distribution**"
   ]
  },
  {
   "cell_type": "markdown",
   "id": "b8ca1e41",
   "metadata": {},
   "source": [
    "see above"
   ]
  },
  {
   "cell_type": "markdown",
   "id": "88d5486b",
   "metadata": {
    "tags": []
   },
   "source": [
    "**B. Set Hypothesis**\n",
    "\n",
    "$H_{0}$: Manual car average_mileage $\\leq$ automatic car average_mileage\n",
    "\n",
    "$H_{a}$: Manual car average_mileage > automatic car average_mileage"
   ]
  },
  {
   "cell_type": "markdown",
   "id": "3c7677d9",
   "metadata": {
    "tags": []
   },
   "source": [
    "**C. Set Alpha**"
   ]
  },
  {
   "cell_type": "markdown",
   "id": "aa394d1b",
   "metadata": {},
   "source": [
    "see above"
   ]
  },
  {
   "cell_type": "markdown",
   "id": "0ed1016c",
   "metadata": {},
   "source": [
    "**D. Verify Assumptions**"
   ]
  },
  {
   "cell_type": "markdown",
   "id": "3c019d65",
   "metadata": {},
   "source": [
    "**Independent:** Yes. automatic and manual\n",
    "\n",
    "**Normal distribution:** Yes. Enough observations\n",
    "\n",
    "**Equal variances:** Check $\\Downarrow$"
   ]
  },
  {
   "cell_type": "code",
   "execution_count": 88,
   "id": "7e43bda1",
   "metadata": {},
   "outputs": [
    {
     "data": {
      "text/plain": [
       "LeveneResult(statistic=0.013710906098481107, pvalue=0.9068872019462125)"
      ]
     },
     "execution_count": 88,
     "metadata": {},
     "output_type": "execute_result"
    }
   ],
   "source": [
    "stats.levene(manual_mpg, auto_mpg)"
   ]
  },
  {
   "cell_type": "markdown",
   "id": "adc25a66",
   "metadata": {},
   "source": [
    "pvalue > 0.5 sooooo we can assume equal variances"
   ]
  },
  {
   "cell_type": "markdown",
   "id": "9294803f",
   "metadata": {},
   "source": [
    "**E. Compute test statistic and probability (t-statistic & p-value)**\n",
    "\n",
    "- scipy.stats.____________\n",
    "- For a 1-tailed test where our alternative hypothesis is testing for \"greater than\", we evaluate 𝑝/2 < 𝛼  and  𝑡 > 0. "
   ]
  },
  {
   "cell_type": "code",
   "execution_count": 89,
   "id": "905ad1cb",
   "metadata": {},
   "outputs": [],
   "source": [
    "tstat, pval = stats.ttest_ind(manual_mpg, auto_mpg)"
   ]
  },
  {
   "cell_type": "code",
   "execution_count": 90,
   "id": "74b8a897",
   "metadata": {},
   "outputs": [
    {
     "data": {
      "text/plain": [
       "(4.652099934834949, 5.522151036980458e-06)"
      ]
     },
     "execution_count": 90,
     "metadata": {},
     "output_type": "execute_result"
    }
   ],
   "source": [
    "tstat, pval"
   ]
  },
  {
   "cell_type": "markdown",
   "id": "7eebe5b7",
   "metadata": {},
   "source": [
    "**F. Decide**\n",
    "\n",
    "Is $t > 0$ and $p/2 < \\alpha$"
   ]
  },
  {
   "cell_type": "code",
   "execution_count": 91,
   "id": "c77972c5",
   "metadata": {},
   "outputs": [
    {
     "name": "stdout",
     "output_type": "stream",
     "text": [
      "we can reject the null hypothesis\n"
     ]
    }
   ],
   "source": [
    "if ((pval / 2) < alpha) and (tstat > 0):\n",
    "    print(\"we can reject the null hypothesis\")\n",
    "else:\n",
    "    print('We fail to reject the null hypothesis')"
   ]
  },
  {
   "cell_type": "markdown",
   "id": "4c7ca55a",
   "metadata": {},
   "source": [
    "We can assume that manual cars have better fuel efficiency than automatic cars."
   ]
  },
  {
   "cell_type": "markdown",
   "id": "9f97be96",
   "metadata": {},
   "source": [
    "# Correlation"
   ]
  },
  {
   "cell_type": "markdown",
   "id": "ac89ec33",
   "metadata": {},
   "source": [
    "### 1. Answer with the type of stats test you would use (assume normal distribution):\n",
    "- Is there a relationship between the length of your arm and the length of your foot?\n",
    "- Do guys and gals quit their jobs at the same rate?\n",
    "- Does the length of time of the lecture correlate with a students grade?"
   ]
  },
  {
   "cell_type": "code",
   "execution_count": null,
   "id": "7e04639b",
   "metadata": {},
   "outputs": [],
   "source": []
  },
  {
   "cell_type": "markdown",
   "id": "fe80633d",
   "metadata": {},
   "source": [
    "### 2. Use the telco_churn data.\n",
    "- Does tenure correlate with monthly charges?\n",
    "- Total charges?\n",
    "- What happens if you control for phone and internet service?"
   ]
  },
  {
   "cell_type": "code",
   "execution_count": null,
   "id": "040c1941",
   "metadata": {},
   "outputs": [],
   "source": []
  },
  {
   "cell_type": "markdown",
   "id": "917ac8f9",
   "metadata": {},
   "source": [
    "### 3. Use the employees database.\n",
    "- Is there a relationship between how long an employee has been with the company and their salary?\n",
    "- Is there a relationship between how long an employee has been with the company and the number of titles they have had?"
   ]
  },
  {
   "cell_type": "code",
   "execution_count": null,
   "id": "fe25513c",
   "metadata": {},
   "outputs": [],
   "source": []
  },
  {
   "cell_type": "markdown",
   "id": "0cca563c",
   "metadata": {},
   "source": [
    "### 4. Use the sleepstudy data.\n",
    "- Is there a relationship between days and reaction time?"
   ]
  },
  {
   "cell_type": "code",
   "execution_count": null,
   "id": "5cd3c5ef",
   "metadata": {},
   "outputs": [],
   "source": []
  },
  {
   "cell_type": "markdown",
   "id": "2561334f",
   "metadata": {},
   "source": [
    "# Chi Square"
   ]
  },
  {
   "cell_type": "markdown",
   "id": "55be78c2",
   "metadata": {},
   "source": [
    "### 1. Answer with the type of stats test you would use (assume normal distribution):\n",
    "- Do students get better test grades if they have a rubber duck on their desk?\n",
    "- Does smoking affect when or not someone has lung cancer?\n",
    "- Is gender independent of a person’s blood type?\n",
    "- A farming company wants to know if a new fertilizer has improved crop yield or not\n",
    "- Does the length of time of the lecture correlate with a students grade?\n",
    "- Do people with dogs live in apartments more than people with cats?"
   ]
  },
  {
   "cell_type": "markdown",
   "id": "fdd61db2",
   "metadata": {},
   "source": [
    "### 2. Use the following contingency table to help answer the question of whether using a macbook and being a codeup student are independent of each other."
   ]
  },
  {
   "cell_type": "markdown",
   "id": "0ba6a288",
   "metadata": {},
   "source": [
    "### 3. Choose another 2 categorical variables from the mpg dataset and perform a $\\chi^2$ contingency table test with them. Be sure to state your null and alternative hypotheses."
   ]
  },
  {
   "cell_type": "markdown",
   "id": "58c878ae",
   "metadata": {},
   "source": [
    "### 4. Use the data from the employees database to answer these questions:\n",
    "- Is an employee's gender independent of whether an employee works in sales or marketing? (only look at current employees)\n",
    "- Is an employee's gender independent of whether or not they are or have been a manager?"
   ]
  },
  {
   "cell_type": "code",
   "execution_count": null,
   "id": "df65a3f0",
   "metadata": {},
   "outputs": [],
   "source": []
  }
 ],
 "metadata": {
  "kernelspec": {
   "display_name": "Python 3 (ipykernel)",
   "language": "python",
   "name": "python3"
  },
  "language_info": {
   "codemirror_mode": {
    "name": "ipython",
    "version": 3
   },
   "file_extension": ".py",
   "mimetype": "text/x-python",
   "name": "python",
   "nbconvert_exporter": "python",
   "pygments_lexer": "ipython3",
   "version": "3.9.12"
  }
 },
 "nbformat": 4,
 "nbformat_minor": 5
}
