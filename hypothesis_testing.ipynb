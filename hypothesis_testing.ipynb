{
 "cells": [
  {
   "cell_type": "markdown",
   "id": "f54142a6",
   "metadata": {},
   "source": [
    "# Overview"
   ]
  },
  {
   "cell_type": "markdown",
   "id": "0d34030f",
   "metadata": {},
   "source": [
    "### For each of the following questions, formulate a null and alternative hypothesis (be as specific as you can be), then give an example of what a true positive, true negative, type I and type II errors would look like. Note that some of the questions are intentionally phrased in a vague way. It is your job to reword these as more precise questions that could be tested."
   ]
  },
  {
   "cell_type": "markdown",
   "id": "b22cdfaa",
   "metadata": {},
   "source": [
    "### Has the network latency gone up since we switched internet service providers?"
   ]
  },
  {
   "cell_type": "markdown",
   "id": "54c515fe",
   "metadata": {},
   "source": [
    "$H_0$ = Average latency with new internet service provider is the same or down compared to the average latency of the old internet service provider.\n",
    "\n",
    "$H_a$ = Average latency with new internet service provider is up compared to the average latency of the old internet service provider."
   ]
  },
  {
   "cell_type": "markdown",
   "id": "4f718cf3",
   "metadata": {},
   "source": [
    "**True Positive**: The average latency is up with the new internet service provider.\n",
    "\n",
    "**True Negative**: The average latency with new internet service provider is the same or down.\n",
    "\n",
    "**Type I Error**: The results say the average latency is the same or down, but it is really up. \n",
    "\n",
    "**Type II Error**: The results say the average latency is up, but it is really the same or down."
   ]
  },
  {
   "cell_type": "markdown",
   "id": "f6301ffa",
   "metadata": {},
   "source": [
    "# Maggie's answers"
   ]
  },
  {
   "cell_type": "markdown",
   "id": "e5bdb32d",
   "metadata": {},
   "source": [
    "$H_0$ = $\\mu_{latency_a} \\leq \\mu_{latency_b}$\n",
    "\n",
    "$H_a$ = $\\mu_{latency_a} > \\mu_{latency_b}$"
   ]
  },
  {
   "cell_type": "markdown",
   "id": "83b56893",
   "metadata": {},
   "source": [
    "**True Positive**: latency went up and we said it did\n",
    "\n",
    "**True Negative**: latency didn't go up and we said it didn't\n",
    "\n",
    "**Type I Error**: latency didn't go up, but we said it did.\n",
    "\n",
    "**Type II Error**: latency did go up, but we said it didn't."
   ]
  },
  {
   "cell_type": "markdown",
   "id": "cda6a1f8",
   "metadata": {},
   "source": [
    "### Is the website redesign any good?"
   ]
  },
  {
   "cell_type": "markdown",
   "id": "613c6cae",
   "metadata": {},
   "source": [
    "$H_0$ = The average website session length was the same or down after the redesign.\n",
    "\n",
    "$H_a$ = There is a higher average website session length after  than before the redesign."
   ]
  },
  {
   "cell_type": "markdown",
   "id": "0e334a69",
   "metadata": {},
   "source": [
    "**True Positive**: The average website session length is higher after the redesign.\n",
    "\n",
    "**True Negative**: The average website session length was the same or down after the redesign.\n",
    "\n",
    "**Type I Error**: The results say there is no difference in average website session length, but there is.\n",
    "\n",
    "**Type II Error**: The results say there is a higher average, but there isn't."
   ]
  },
  {
   "cell_type": "markdown",
   "id": "d0422715",
   "metadata": {},
   "source": [
    "# Maggie's answers"
   ]
  },
  {
   "cell_type": "markdown",
   "id": "bfd051e9",
   "metadata": {},
   "source": [
    "$H_0$ = $\\mu_{time_{old}} \\geq \\mu_{time_{new}}$\n",
    "\n",
    "$H_a$ = $\\mu_{time_{old}} < \\mu_{time_{new}}$"
   ]
  },
  {
   "cell_type": "markdown",
   "id": "d043b6f8",
   "metadata": {},
   "source": [
    "**True Positive**: visitors spend more time and we said that\n",
    "\n",
    "**True Negative**: visitors spend less or equal time and we said that.\n",
    "\n",
    "**Type I Error**: We said the site is better, but it's not.\n",
    "\n",
    "**Type II Error**: We said the site is not better, but it is. "
   ]
  },
  {
   "cell_type": "markdown",
   "id": "b44f8526",
   "metadata": {},
   "source": [
    "### Is our television ad driving more sales?"
   ]
  },
  {
   "cell_type": "markdown",
   "id": "9ec5ce1e",
   "metadata": {},
   "source": [
    "$H_0$ = Sales were the same or down before and after the television add.\n",
    "\n",
    "$H_a$ = Our television ad leads to more sales."
   ]
  },
  {
   "cell_type": "markdown",
   "id": "09268c61",
   "metadata": {},
   "source": [
    "**True Positive**: Our television ad increased sales.\n",
    "\n",
    "**True Negative**: Sales were the same or down before and after the television add.\n",
    "\n",
    "**Type I Error**: The results say that sales were the same or down after the ad, but really were up.\n",
    "\n",
    "**Type II Error**: The results say that sales were up, but the sales were actually the same or down."
   ]
  },
  {
   "cell_type": "markdown",
   "id": "9534cb6d",
   "metadata": {},
   "source": [
    "# Maggie's answers"
   ]
  },
  {
   "cell_type": "markdown",
   "id": "24102f49",
   "metadata": {},
   "source": [
    "$H_0$ = $\\mu_{sales_{pre}} \\geq \\mu_{sales_{post}}$\n",
    "\n",
    "$H_a$ = $\\mu_{sales_{pre}} < \\mu_{sales_{post}}$"
   ]
  },
  {
   "cell_type": "markdown",
   "id": "93589bf1",
   "metadata": {},
   "source": [
    "**True Positive**: Post ad sales are higher, and we said they would.\n",
    "\n",
    "**True Negative**: Post ad sales didn't increase, and we said they wouldn't \n",
    "\n",
    "**Type I Error**: Post ad sales are not higher, but we said they are\n",
    "\n",
    "**Type II Error**: Post ad sales increased, but we said it didn't"
   ]
  },
  {
   "cell_type": "markdown",
   "id": "a6c7d9a1",
   "metadata": {},
   "source": [
    "# T-Test"
   ]
  },
  {
   "cell_type": "code",
   "execution_count": 2,
   "id": "d334ef69",
   "metadata": {},
   "outputs": [],
   "source": [
    "import pandas as pd\n",
    "import numpy as np\n",
    "import matplotlib.pyplot as plt\n",
    "import seaborn as sns\n",
    "import datetime\n",
    "\n",
    "from math import sqrt\n",
    "\n",
    "from scipy import stats\n",
    "from pydataset import data\n",
    "\n",
    "\n",
    "from env import get_db_url"
   ]
  },
  {
   "cell_type": "markdown",
   "id": "d307f1d5",
   "metadata": {},
   "source": [
    "### 1. Answer with the type of test you would use (assume normal distribution):\n",
    "- Is there a difference in grades of students on the second floor compared to grades of all students? **One-sample ttest two-tail**"
   ]
  },
  {
   "cell_type": "markdown",
   "id": "1e04deb5",
   "metadata": {},
   "source": [
    "- Are adults who drink milk taller than adults who dont drink milk? **Independent ttest one-tail**"
   ]
  },
  {
   "cell_type": "markdown",
   "id": "8c4b0296",
   "metadata": {},
   "source": [
    "- Is the the price of gas higher in Texas or in New Mexico? **Independent ttest One-tail**"
   ]
  },
  {
   "cell_type": "markdown",
   "id": "57063d8b",
   "metadata": {},
   "source": [
    "- Are there differences in stress levels between students who take data science vs students who take web development vs students who take cloud academy? **ANOVA**"
   ]
  },
  {
   "cell_type": "markdown",
   "id": "6fb30168",
   "metadata": {},
   "source": [
    "### 2. Ace Realty wants to determine whether the average time it takes to sell homes is different for its two offices. "
   ]
  },
  {
   "cell_type": "markdown",
   "id": "831f92b5",
   "metadata": {},
   "source": [
    "**Set Hypothesis**\n",
    "\n",
    "$H_{0}$: There is no difference in average time it takes to sell a home between offices.\n",
    "\n",
    "$H_{a}$: There is a difference in average time it takes to sell a home between offices."
   ]
  },
  {
   "cell_type": "markdown",
   "id": "cc1969f0",
   "metadata": {},
   "source": [
    "### A sample of 40 sales from office #1 revealed a mean of 90 days and a standard deviation of 15 days."
   ]
  },
  {
   "cell_type": "code",
   "execution_count": 106,
   "id": "e8779f58",
   "metadata": {},
   "outputs": [
    {
     "data": {
      "text/plain": [
       "array([105.81969329, 109.92518818,  88.46013524,  97.44168139,\n",
       "        82.63738012,  94.68224625,  79.02691137,  87.83822428,\n",
       "       101.05330788,  66.37516821,  66.37681505,  95.72610728,\n",
       "        97.41711318, 106.41462305, 103.3162847 ,  89.51786299,\n",
       "        87.46575881,  93.38517675,  80.36260127,  98.35250976,\n",
       "       112.83910662,  76.7354813 , 108.99101723,  73.24523662,\n",
       "       110.93632566,  80.72021734,  67.71899811, 103.98043838,\n",
       "        66.49970628,  77.05241938,  86.81130827,  80.60636119,\n",
       "        88.7186356 ,  93.95921925, 108.18387826,  89.12240948,\n",
       "        97.23580232,  57.01635425, 108.26202787,  98.09858606])"
      ]
     },
     "execution_count": 106,
     "metadata": {},
     "output_type": "execute_result"
    }
   ],
   "source": [
    "office1 = stats.norm(90,15).rvs(40)\n",
    "office1"
   ]
  },
  {
   "cell_type": "markdown",
   "id": "02f7463e",
   "metadata": {},
   "source": [
    "### A sample of 50 sales from office #2 revealed a mean of 100 days and a standard deviation of 20 days. Use a .05 level of significance."
   ]
  },
  {
   "cell_type": "code",
   "execution_count": 107,
   "id": "8baf63f0",
   "metadata": {},
   "outputs": [
    {
     "data": {
      "text/plain": [
       "array([ 71.55694729,  93.28061078,  90.35351188,  65.28502898,\n",
       "       126.86122399, 101.24965206,  97.1838577 , 108.14560788,\n",
       "       102.3794396 ,  85.20410696,  91.52544197,  95.4151588 ,\n",
       "       118.45539886,  95.77944526,  91.42214849, 106.79692154,\n",
       "       117.59479814, 157.04125821, 112.27791703,  96.48503356,\n",
       "       124.05215347, 105.29313247,  99.88761488, 118.92940188,\n",
       "       115.10461321, 111.49344677, 106.37533907, 117.72319691,\n",
       "       104.50068892, 109.90363844, 119.91798847, 127.20672163,\n",
       "       109.9967125 , 110.26598064, 124.16235407, 119.12804583,\n",
       "       103.5723138 , 142.83157292,  87.64141643,  87.59793753,\n",
       "        95.14640328, 115.17139113, 128.19887   , 106.31459267,\n",
       "        95.8726227 ,  95.32530729,  81.49509618,  85.06323786,\n",
       "        91.36707095, 119.42728087])"
      ]
     },
     "execution_count": 107,
     "metadata": {},
     "output_type": "execute_result"
    }
   ],
   "source": [
    "office2 = stats.norm(100,20).rvs(50)\n",
    "office2"
   ]
  },
  {
   "cell_type": "code",
   "execution_count": 108,
   "id": "8cce0405",
   "metadata": {},
   "outputs": [
    {
     "data": {
      "text/plain": [
       "LeveneResult(statistic=0.4981026285032792, pvalue=0.4821991849867847)"
      ]
     },
     "execution_count": 108,
     "metadata": {},
     "output_type": "execute_result"
    }
   ],
   "source": [
    "stats.levene(office1, office2)"
   ]
  },
  {
   "cell_type": "code",
   "execution_count": 102,
   "id": "37fa5c74",
   "metadata": {},
   "outputs": [],
   "source": [
    "alpha = 0.05"
   ]
  },
  {
   "cell_type": "code",
   "execution_count": 103,
   "id": "d25d2ce7",
   "metadata": {},
   "outputs": [
    {
     "data": {
      "text/plain": [
       "(-3.928158000468648, 0.00016987508156845514)"
      ]
     },
     "execution_count": 103,
     "metadata": {},
     "output_type": "execute_result"
    }
   ],
   "source": [
    "tstat, pval = stats.ttest_ind(office1, office2)\n",
    "\n",
    "tstat, pval"
   ]
  },
  {
   "cell_type": "markdown",
   "id": "8f6f1e20",
   "metadata": {},
   "source": [
    "**Decide**\n",
    "\n",
    "Is $p < \\alpha$ "
   ]
  },
  {
   "cell_type": "code",
   "execution_count": 109,
   "id": "9bea53cd",
   "metadata": {},
   "outputs": [
    {
     "name": "stdout",
     "output_type": "stream",
     "text": [
      "we can reject the null hypothesis\n"
     ]
    }
   ],
   "source": [
    "if (pval < alpha):\n",
    "    print(\"we can reject the null hypothesis\")\n",
    "else:\n",
    "    print('We fail to reject the null hypothesis')"
   ]
  },
  {
   "cell_type": "markdown",
   "id": "2e140eff",
   "metadata": {},
   "source": [
    "**We can assume there is a difference in average time to sell a home between the two offices.**"
   ]
  },
  {
   "cell_type": "markdown",
   "id": "22317cfd",
   "metadata": {},
   "source": [
    "### 3. Load the mpg dataset and use it to answer the following questions:"
   ]
  },
  {
   "cell_type": "code",
   "execution_count": 50,
   "id": "1af136f8",
   "metadata": {},
   "outputs": [],
   "source": [
    "mpg = data('mpg')"
   ]
  },
  {
   "cell_type": "code",
   "execution_count": 3,
   "id": "7e75d474",
   "metadata": {
    "scrolled": false
   },
   "outputs": [
    {
     "data": {
      "text/html": [
       "<div>\n",
       "<style scoped>\n",
       "    .dataframe tbody tr th:only-of-type {\n",
       "        vertical-align: middle;\n",
       "    }\n",
       "\n",
       "    .dataframe tbody tr th {\n",
       "        vertical-align: top;\n",
       "    }\n",
       "\n",
       "    .dataframe thead th {\n",
       "        text-align: right;\n",
       "    }\n",
       "</style>\n",
       "<table border=\"1\" class=\"dataframe\">\n",
       "  <thead>\n",
       "    <tr style=\"text-align: right;\">\n",
       "      <th></th>\n",
       "      <th>manufacturer</th>\n",
       "      <th>model</th>\n",
       "      <th>displ</th>\n",
       "      <th>year</th>\n",
       "      <th>cyl</th>\n",
       "      <th>trans</th>\n",
       "      <th>drv</th>\n",
       "      <th>cty</th>\n",
       "      <th>hwy</th>\n",
       "      <th>fl</th>\n",
       "      <th>class</th>\n",
       "    </tr>\n",
       "  </thead>\n",
       "  <tbody>\n",
       "    <tr>\n",
       "      <th>1</th>\n",
       "      <td>audi</td>\n",
       "      <td>a4</td>\n",
       "      <td>1.8</td>\n",
       "      <td>1999</td>\n",
       "      <td>4</td>\n",
       "      <td>auto(l5)</td>\n",
       "      <td>f</td>\n",
       "      <td>18</td>\n",
       "      <td>29</td>\n",
       "      <td>p</td>\n",
       "      <td>compact</td>\n",
       "    </tr>\n",
       "    <tr>\n",
       "      <th>2</th>\n",
       "      <td>audi</td>\n",
       "      <td>a4</td>\n",
       "      <td>1.8</td>\n",
       "      <td>1999</td>\n",
       "      <td>4</td>\n",
       "      <td>manual(m5)</td>\n",
       "      <td>f</td>\n",
       "      <td>21</td>\n",
       "      <td>29</td>\n",
       "      <td>p</td>\n",
       "      <td>compact</td>\n",
       "    </tr>\n",
       "    <tr>\n",
       "      <th>3</th>\n",
       "      <td>audi</td>\n",
       "      <td>a4</td>\n",
       "      <td>2.0</td>\n",
       "      <td>2008</td>\n",
       "      <td>4</td>\n",
       "      <td>manual(m6)</td>\n",
       "      <td>f</td>\n",
       "      <td>20</td>\n",
       "      <td>31</td>\n",
       "      <td>p</td>\n",
       "      <td>compact</td>\n",
       "    </tr>\n",
       "    <tr>\n",
       "      <th>4</th>\n",
       "      <td>audi</td>\n",
       "      <td>a4</td>\n",
       "      <td>2.0</td>\n",
       "      <td>2008</td>\n",
       "      <td>4</td>\n",
       "      <td>auto(av)</td>\n",
       "      <td>f</td>\n",
       "      <td>21</td>\n",
       "      <td>30</td>\n",
       "      <td>p</td>\n",
       "      <td>compact</td>\n",
       "    </tr>\n",
       "    <tr>\n",
       "      <th>5</th>\n",
       "      <td>audi</td>\n",
       "      <td>a4</td>\n",
       "      <td>2.8</td>\n",
       "      <td>1999</td>\n",
       "      <td>6</td>\n",
       "      <td>auto(l5)</td>\n",
       "      <td>f</td>\n",
       "      <td>16</td>\n",
       "      <td>26</td>\n",
       "      <td>p</td>\n",
       "      <td>compact</td>\n",
       "    </tr>\n",
       "  </tbody>\n",
       "</table>\n",
       "</div>"
      ],
      "text/plain": [
       "  manufacturer model  displ  year  cyl       trans drv  cty  hwy fl    class\n",
       "1         audi    a4    1.8  1999    4    auto(l5)   f   18   29  p  compact\n",
       "2         audi    a4    1.8  1999    4  manual(m5)   f   21   29  p  compact\n",
       "3         audi    a4    2.0  2008    4  manual(m6)   f   20   31  p  compact\n",
       "4         audi    a4    2.0  2008    4    auto(av)   f   21   30  p  compact\n",
       "5         audi    a4    2.8  1999    6    auto(l5)   f   16   26  p  compact"
      ]
     },
     "execution_count": 3,
     "metadata": {},
     "output_type": "execute_result"
    }
   ],
   "source": [
    "mpg.head()"
   ]
  },
  {
   "cell_type": "code",
   "execution_count": 4,
   "id": "0eeb949a",
   "metadata": {
    "scrolled": true
   },
   "outputs": [
    {
     "name": "stdout",
     "output_type": "stream",
     "text": [
      "<class 'pandas.core.frame.DataFrame'>\n",
      "Int64Index: 234 entries, 1 to 234\n",
      "Data columns (total 11 columns):\n",
      " #   Column        Non-Null Count  Dtype  \n",
      "---  ------        --------------  -----  \n",
      " 0   manufacturer  234 non-null    object \n",
      " 1   model         234 non-null    object \n",
      " 2   displ         234 non-null    float64\n",
      " 3   year          234 non-null    int64  \n",
      " 4   cyl           234 non-null    int64  \n",
      " 5   trans         234 non-null    object \n",
      " 6   drv           234 non-null    object \n",
      " 7   cty           234 non-null    int64  \n",
      " 8   hwy           234 non-null    int64  \n",
      " 9   fl            234 non-null    object \n",
      " 10  class         234 non-null    object \n",
      "dtypes: float64(1), int64(4), object(6)\n",
      "memory usage: 21.9+ KB\n"
     ]
    }
   ],
   "source": [
    "mpg.info()"
   ]
  },
  {
   "cell_type": "code",
   "execution_count": 5,
   "id": "0bc6b7a0",
   "metadata": {
    "scrolled": false
   },
   "outputs": [
    {
     "data": {
      "text/html": [
       "<div>\n",
       "<style scoped>\n",
       "    .dataframe tbody tr th:only-of-type {\n",
       "        vertical-align: middle;\n",
       "    }\n",
       "\n",
       "    .dataframe tbody tr th {\n",
       "        vertical-align: top;\n",
       "    }\n",
       "\n",
       "    .dataframe thead th {\n",
       "        text-align: right;\n",
       "    }\n",
       "</style>\n",
       "<table border=\"1\" class=\"dataframe\">\n",
       "  <thead>\n",
       "    <tr style=\"text-align: right;\">\n",
       "      <th></th>\n",
       "      <th>displ</th>\n",
       "      <th>year</th>\n",
       "      <th>cyl</th>\n",
       "      <th>cty</th>\n",
       "      <th>hwy</th>\n",
       "    </tr>\n",
       "  </thead>\n",
       "  <tbody>\n",
       "    <tr>\n",
       "      <th>count</th>\n",
       "      <td>234.000000</td>\n",
       "      <td>234.000000</td>\n",
       "      <td>234.000000</td>\n",
       "      <td>234.000000</td>\n",
       "      <td>234.000000</td>\n",
       "    </tr>\n",
       "    <tr>\n",
       "      <th>mean</th>\n",
       "      <td>3.471795</td>\n",
       "      <td>2003.500000</td>\n",
       "      <td>5.888889</td>\n",
       "      <td>16.858974</td>\n",
       "      <td>23.440171</td>\n",
       "    </tr>\n",
       "    <tr>\n",
       "      <th>std</th>\n",
       "      <td>1.291959</td>\n",
       "      <td>4.509646</td>\n",
       "      <td>1.611534</td>\n",
       "      <td>4.255946</td>\n",
       "      <td>5.954643</td>\n",
       "    </tr>\n",
       "    <tr>\n",
       "      <th>min</th>\n",
       "      <td>1.600000</td>\n",
       "      <td>1999.000000</td>\n",
       "      <td>4.000000</td>\n",
       "      <td>9.000000</td>\n",
       "      <td>12.000000</td>\n",
       "    </tr>\n",
       "    <tr>\n",
       "      <th>25%</th>\n",
       "      <td>2.400000</td>\n",
       "      <td>1999.000000</td>\n",
       "      <td>4.000000</td>\n",
       "      <td>14.000000</td>\n",
       "      <td>18.000000</td>\n",
       "    </tr>\n",
       "    <tr>\n",
       "      <th>50%</th>\n",
       "      <td>3.300000</td>\n",
       "      <td>2003.500000</td>\n",
       "      <td>6.000000</td>\n",
       "      <td>17.000000</td>\n",
       "      <td>24.000000</td>\n",
       "    </tr>\n",
       "    <tr>\n",
       "      <th>75%</th>\n",
       "      <td>4.600000</td>\n",
       "      <td>2008.000000</td>\n",
       "      <td>8.000000</td>\n",
       "      <td>19.000000</td>\n",
       "      <td>27.000000</td>\n",
       "    </tr>\n",
       "    <tr>\n",
       "      <th>max</th>\n",
       "      <td>7.000000</td>\n",
       "      <td>2008.000000</td>\n",
       "      <td>8.000000</td>\n",
       "      <td>35.000000</td>\n",
       "      <td>44.000000</td>\n",
       "    </tr>\n",
       "  </tbody>\n",
       "</table>\n",
       "</div>"
      ],
      "text/plain": [
       "            displ         year         cyl         cty         hwy\n",
       "count  234.000000   234.000000  234.000000  234.000000  234.000000\n",
       "mean     3.471795  2003.500000    5.888889   16.858974   23.440171\n",
       "std      1.291959     4.509646    1.611534    4.255946    5.954643\n",
       "min      1.600000  1999.000000    4.000000    9.000000   12.000000\n",
       "25%      2.400000  1999.000000    4.000000   14.000000   18.000000\n",
       "50%      3.300000  2003.500000    6.000000   17.000000   24.000000\n",
       "75%      4.600000  2008.000000    8.000000   19.000000   27.000000\n",
       "max      7.000000  2008.000000    8.000000   35.000000   44.000000"
      ]
     },
     "execution_count": 5,
     "metadata": {},
     "output_type": "execute_result"
    }
   ],
   "source": [
    "mpg.describe()"
   ]
  },
  {
   "cell_type": "code",
   "execution_count": 51,
   "id": "3e52a245",
   "metadata": {},
   "outputs": [],
   "source": [
    "#Clean up data\n",
    "mpg.rename(columns={'cty': 'city'}, inplace=True)\n",
    "mpg.rename(columns={'hwy': 'highway'}, inplace=True)"
   ]
  },
  {
   "cell_type": "code",
   "execution_count": 52,
   "id": "c2abb060",
   "metadata": {},
   "outputs": [],
   "source": [
    "#add column for overall average mpg\n",
    "mpg['average_mileage'] = round(2 / ((1/mpg.highway) + (1/mpg.city)), 2)"
   ]
  },
  {
   "cell_type": "code",
   "execution_count": 53,
   "id": "81b00024",
   "metadata": {},
   "outputs": [],
   "source": [
    "#add column for automatic = True manual = False\n",
    "mpg['is_automatic'] = mpg.trans.str.contains('auto')"
   ]
  },
  {
   "cell_type": "code",
   "execution_count": 54,
   "id": "12a16c83",
   "metadata": {},
   "outputs": [
    {
     "data": {
      "text/html": [
       "<div>\n",
       "<style scoped>\n",
       "    .dataframe tbody tr th:only-of-type {\n",
       "        vertical-align: middle;\n",
       "    }\n",
       "\n",
       "    .dataframe tbody tr th {\n",
       "        vertical-align: top;\n",
       "    }\n",
       "\n",
       "    .dataframe thead th {\n",
       "        text-align: right;\n",
       "    }\n",
       "</style>\n",
       "<table border=\"1\" class=\"dataframe\">\n",
       "  <thead>\n",
       "    <tr style=\"text-align: right;\">\n",
       "      <th></th>\n",
       "      <th>manufacturer</th>\n",
       "      <th>model</th>\n",
       "      <th>displ</th>\n",
       "      <th>year</th>\n",
       "      <th>cyl</th>\n",
       "      <th>trans</th>\n",
       "      <th>drv</th>\n",
       "      <th>city</th>\n",
       "      <th>highway</th>\n",
       "      <th>fl</th>\n",
       "      <th>class</th>\n",
       "      <th>average_mileage</th>\n",
       "      <th>is_automatic</th>\n",
       "    </tr>\n",
       "  </thead>\n",
       "  <tbody>\n",
       "    <tr>\n",
       "      <th>1</th>\n",
       "      <td>audi</td>\n",
       "      <td>a4</td>\n",
       "      <td>1.8</td>\n",
       "      <td>1999</td>\n",
       "      <td>4</td>\n",
       "      <td>auto(l5)</td>\n",
       "      <td>f</td>\n",
       "      <td>18</td>\n",
       "      <td>29</td>\n",
       "      <td>p</td>\n",
       "      <td>compact</td>\n",
       "      <td>22.21</td>\n",
       "      <td>True</td>\n",
       "    </tr>\n",
       "    <tr>\n",
       "      <th>2</th>\n",
       "      <td>audi</td>\n",
       "      <td>a4</td>\n",
       "      <td>1.8</td>\n",
       "      <td>1999</td>\n",
       "      <td>4</td>\n",
       "      <td>manual(m5)</td>\n",
       "      <td>f</td>\n",
       "      <td>21</td>\n",
       "      <td>29</td>\n",
       "      <td>p</td>\n",
       "      <td>compact</td>\n",
       "      <td>24.36</td>\n",
       "      <td>False</td>\n",
       "    </tr>\n",
       "    <tr>\n",
       "      <th>3</th>\n",
       "      <td>audi</td>\n",
       "      <td>a4</td>\n",
       "      <td>2.0</td>\n",
       "      <td>2008</td>\n",
       "      <td>4</td>\n",
       "      <td>manual(m6)</td>\n",
       "      <td>f</td>\n",
       "      <td>20</td>\n",
       "      <td>31</td>\n",
       "      <td>p</td>\n",
       "      <td>compact</td>\n",
       "      <td>24.31</td>\n",
       "      <td>False</td>\n",
       "    </tr>\n",
       "    <tr>\n",
       "      <th>4</th>\n",
       "      <td>audi</td>\n",
       "      <td>a4</td>\n",
       "      <td>2.0</td>\n",
       "      <td>2008</td>\n",
       "      <td>4</td>\n",
       "      <td>auto(av)</td>\n",
       "      <td>f</td>\n",
       "      <td>21</td>\n",
       "      <td>30</td>\n",
       "      <td>p</td>\n",
       "      <td>compact</td>\n",
       "      <td>24.71</td>\n",
       "      <td>True</td>\n",
       "    </tr>\n",
       "    <tr>\n",
       "      <th>5</th>\n",
       "      <td>audi</td>\n",
       "      <td>a4</td>\n",
       "      <td>2.8</td>\n",
       "      <td>1999</td>\n",
       "      <td>6</td>\n",
       "      <td>auto(l5)</td>\n",
       "      <td>f</td>\n",
       "      <td>16</td>\n",
       "      <td>26</td>\n",
       "      <td>p</td>\n",
       "      <td>compact</td>\n",
       "      <td>19.81</td>\n",
       "      <td>True</td>\n",
       "    </tr>\n",
       "  </tbody>\n",
       "</table>\n",
       "</div>"
      ],
      "text/plain": [
       "  manufacturer model  displ  year  cyl       trans drv  city  highway fl  \\\n",
       "1         audi    a4    1.8  1999    4    auto(l5)   f    18       29  p   \n",
       "2         audi    a4    1.8  1999    4  manual(m5)   f    21       29  p   \n",
       "3         audi    a4    2.0  2008    4  manual(m6)   f    20       31  p   \n",
       "4         audi    a4    2.0  2008    4    auto(av)   f    21       30  p   \n",
       "5         audi    a4    2.8  1999    6    auto(l5)   f    16       26  p   \n",
       "\n",
       "     class  average_mileage  is_automatic  \n",
       "1  compact            22.21          True  \n",
       "2  compact            24.36         False  \n",
       "3  compact            24.31         False  \n",
       "4  compact            24.71          True  \n",
       "5  compact            19.81          True  "
      ]
     },
     "execution_count": 54,
     "metadata": {},
     "output_type": "execute_result"
    }
   ],
   "source": [
    "mpg.head()"
   ]
  },
  {
   "cell_type": "markdown",
   "id": "f2270476",
   "metadata": {},
   "source": [
    "###  Is there a difference in fuel-efficiency in cars from 2008 vs 1999?"
   ]
  },
  {
   "cell_type": "markdown",
   "id": "142cb75d",
   "metadata": {},
   "source": [
    "**A. Plot Distribution**"
   ]
  },
  {
   "cell_type": "code",
   "execution_count": 14,
   "id": "d914c062",
   "metadata": {},
   "outputs": [
    {
     "data": {
      "image/png": "[encoded data removed]",
      "text/plain": [
       "<Figure size 432x288 with 1 Axes>"
      ]
     },
     "metadata": {
      "needs_background": "light"
     },
     "output_type": "display_data"
    }
   ],
   "source": [
    "mpg.average_mileage.hist();"
   ]
  },
  {
   "cell_type": "code",
   "execution_count": 29,
   "id": "66458188",
   "metadata": {},
   "outputs": [],
   "source": [
    "cars_2008 = mpg.average_mileage[mpg.year == 2008]\n",
    "cars_1999 = mpg.average_mileage[mpg.year == 1999]"
   ]
  },
  {
   "cell_type": "code",
   "execution_count": 30,
   "id": "b3c051c9",
   "metadata": {
    "scrolled": true
   },
   "outputs": [
    {
     "data": {
      "text/plain": [
       "(19.681452991452982, 19.488632478632482)"
      ]
     },
     "execution_count": 30,
     "metadata": {},
     "output_type": "execute_result"
    }
   ],
   "source": [
    "cars_1999.mean(), cars_2008.mean()"
   ]
  },
  {
   "cell_type": "code",
   "execution_count": 113,
   "id": "c1fec969",
   "metadata": {},
   "outputs": [
    {
     "data": {
      "image/png": "[encoded data removed]",
      "text/plain": [
       "<Figure size 432x288 with 1 Axes>"
      ]
     },
     "metadata": {
      "needs_background": "light"
     },
     "output_type": "display_data"
    }
   ],
   "source": [
    "cars_1999.hist();"
   ]
  },
  {
   "cell_type": "code",
   "execution_count": 114,
   "id": "e8e01801",
   "metadata": {},
   "outputs": [
    {
     "data": {
      "image/png": "[encoded data removed]",
      "text/plain": [
       "<Figure size 432x288 with 1 Axes>"
      ]
     },
     "metadata": {
      "needs_background": "light"
     },
     "output_type": "display_data"
    }
   ],
   "source": [
    "cars_2008.hist();"
   ]
  },
  {
   "cell_type": "markdown",
   "id": "75ae8d81",
   "metadata": {
    "tags": []
   },
   "source": [
    "**B. Set Hypothesis**\n",
    "\n",
    "$H_{0}$: There is no difference in fuel-efficiency in cars from 2008 vs. 1999.\n",
    "\n",
    "$H_{a}$: There is a difference in fuel-efficiency in cars from 2008 vs. 1999."
   ]
  },
  {
   "cell_type": "markdown",
   "id": "45383742",
   "metadata": {
    "tags": []
   },
   "source": [
    "**C. Set Alpha**"
   ]
  },
  {
   "cell_type": "markdown",
   "id": "fe88a2d5",
   "metadata": {},
   "source": [
    "see above"
   ]
  },
  {
   "cell_type": "markdown",
   "id": "ff220889",
   "metadata": {},
   "source": [
    "**D. Verify Assumptions**"
   ]
  },
  {
   "cell_type": "markdown",
   "id": "7f9167b3",
   "metadata": {},
   "source": [
    "**Independent:** Yes. Two separate years 2008 and 1999\n",
    "\n",
    "**Normal distribution:** Yes. Enough observations\n",
    "\n",
    "**Equal variances:** Check $\\Downarrow$"
   ]
  },
  {
   "cell_type": "code",
   "execution_count": 31,
   "id": "0fc217f0",
   "metadata": {},
   "outputs": [
    {
     "data": {
      "text/plain": [
       "LeveneResult(statistic=0.030963028454038196, pvalue=0.8604763910415811)"
      ]
     },
     "execution_count": 31,
     "metadata": {},
     "output_type": "execute_result"
    }
   ],
   "source": [
    "stats.levene(cars_2008, cars_1999)"
   ]
  },
  {
   "cell_type": "markdown",
   "id": "9eccc7b3",
   "metadata": {},
   "source": [
    "pvalue > 0.5 sooooo they are equal enough"
   ]
  },
  {
   "cell_type": "markdown",
   "id": "97eb5341",
   "metadata": {},
   "source": [
    "**E. Compute test statistic and probability (t-statistic & p-value)**\n",
    "\n",
    "- scipy.stats.____________\n",
    "- For a 2-tailed test where our alternative hypothesis is testing ==, we evaluate 𝑝 < 𝛼. "
   ]
  },
  {
   "cell_type": "code",
   "execution_count": 116,
   "id": "ff9d87bd",
   "metadata": {},
   "outputs": [],
   "source": [
    "tstat, pval = stats.ttest_ind(cars_2008, cars_1999)"
   ]
  },
  {
   "cell_type": "code",
   "execution_count": 117,
   "id": "f43664cc",
   "metadata": {},
   "outputs": [
    {
     "data": {
      "text/plain": [
       "(-0.29976841281243016, 0.7646222117552022)"
      ]
     },
     "execution_count": 117,
     "metadata": {},
     "output_type": "execute_result"
    }
   ],
   "source": [
    "tstat, pval"
   ]
  },
  {
   "cell_type": "markdown",
   "id": "3802e4fd",
   "metadata": {},
   "source": [
    "**F. Decide**\n",
    "\n",
    "Is $p < \\alpha$ (*two-tailed test because checking for difference.*)"
   ]
  },
  {
   "cell_type": "code",
   "execution_count": 118,
   "id": "849ffe0d",
   "metadata": {},
   "outputs": [
    {
     "name": "stdout",
     "output_type": "stream",
     "text": [
      "We fail to reject the null hypothesis\n"
     ]
    }
   ],
   "source": [
    "if (pval < alpha):\n",
    "    print(\"we can reject the null hypothesis\")\n",
    "else:\n",
    "    print('We fail to reject the null hypothesis')"
   ]
  },
  {
   "cell_type": "markdown",
   "id": "09f51136",
   "metadata": {},
   "source": [
    "**From our evaluation we can assume cars made in 2008 and cars in 1999 have no difference in fuel-efficiency.**"
   ]
  },
  {
   "cell_type": "markdown",
   "id": "86ec33a9",
   "metadata": {},
   "source": [
    "### Are compact cars more fuel-efficient than the average car?\n"
   ]
  },
  {
   "cell_type": "markdown",
   "id": "4e8e37d7",
   "metadata": {},
   "source": [
    "Continuous: fuel-efficiency \n",
    "Discrete: car class\n",
    "\n",
    "sample mean (compact cars) \n",
    "pop mean (all cars)"
   ]
  },
  {
   "cell_type": "code",
   "execution_count": 82,
   "id": "ab07924b",
   "metadata": {},
   "outputs": [],
   "source": [
    "sample_mean = mpg.average_mileage[mpg[\"class\"] == 'compact']\n",
    "pop_mean = mpg.average_mileage.mean()"
   ]
  },
  {
   "cell_type": "markdown",
   "id": "12d6dc50",
   "metadata": {},
   "source": [
    "**A. Plot Distribution**"
   ]
  },
  {
   "cell_type": "code",
   "execution_count": 120,
   "id": "84134fdf",
   "metadata": {},
   "outputs": [
    {
     "data": {
      "image/png": "[encoded data removed]",
      "text/plain": [
       "<Figure size 432x288 with 1 Axes>"
      ]
     },
     "metadata": {
      "needs_background": "light"
     },
     "output_type": "display_data"
    }
   ],
   "source": [
    "sample_mean.hist();"
   ]
  },
  {
   "cell_type": "markdown",
   "id": "df241f76",
   "metadata": {
    "tags": []
   },
   "source": [
    "**B. Set Hypothesis**\n",
    "\n",
    "$H_{0}$: Compact cars average_mileage $\\leq$ all cars average_mileage.\n",
    "\n",
    "$H_{a}$: Compact cars average_mileage > all cars average_mileage."
   ]
  },
  {
   "cell_type": "markdown",
   "id": "9e64077e",
   "metadata": {
    "tags": []
   },
   "source": [
    "**C. Set Alpha**"
   ]
  },
  {
   "cell_type": "markdown",
   "id": "e19471eb",
   "metadata": {},
   "source": [
    "see above"
   ]
  },
  {
   "cell_type": "markdown",
   "id": "458249c0",
   "metadata": {},
   "source": [
    "**D. Verify Assumptions**"
   ]
  },
  {
   "cell_type": "markdown",
   "id": "63f65f90",
   "metadata": {},
   "source": [
    "**Independent:** No. Comparing sample mean to theoretical mane\n",
    "\n",
    "**Normal distribution:** Check $\\Downarrow$"
   ]
  },
  {
   "cell_type": "code",
   "execution_count": 122,
   "id": "a15a1950",
   "metadata": {},
   "outputs": [
    {
     "data": {
      "text/plain": [
       "47"
      ]
     },
     "execution_count": 122,
     "metadata": {},
     "output_type": "execute_result"
    }
   ],
   "source": [
    "sample_mean.count()"
   ]
  },
  {
   "cell_type": "markdown",
   "id": "5a8f97ef",
   "metadata": {},
   "source": [
    "**E. Compute test statistic and probability (t-statistic & p-value)**\n",
    "\n",
    "- scipy.stats.____________\n",
    "- For a 1-tailed test where our alternative hypothesis is testing for \"greater than\", we evaluate 𝑝/2 < 𝛼  and  𝑡 > 0. "
   ]
  },
  {
   "cell_type": "code",
   "execution_count": 84,
   "id": "ca75edc0",
   "metadata": {},
   "outputs": [],
   "source": [
    "tstat, pval = stats.ttest_1samp(sample_mean, pop_mean)"
   ]
  },
  {
   "cell_type": "code",
   "execution_count": 85,
   "id": "add3daa3",
   "metadata": {},
   "outputs": [
    {
     "data": {
      "text/plain": [
       "(7.511735749827195, 1.56511388307498e-09)"
      ]
     },
     "execution_count": 85,
     "metadata": {},
     "output_type": "execute_result"
    }
   ],
   "source": [
    "tstat, pval"
   ]
  },
  {
   "cell_type": "markdown",
   "id": "180b78b9",
   "metadata": {},
   "source": [
    "**F. Decide**\n",
    "\n",
    "Is $t > 0$ and $p/2 < \\alpha$"
   ]
  },
  {
   "cell_type": "code",
   "execution_count": 86,
   "id": "08420b5c",
   "metadata": {},
   "outputs": [
    {
     "name": "stdout",
     "output_type": "stream",
     "text": [
      "we can reject the null hypothesis\n"
     ]
    }
   ],
   "source": [
    "if ((pval / 2) < alpha) and (tstat > 0):\n",
    "    print(\"we can reject the null hypothesis\")\n",
    "else:\n",
    "    print('We fail to reject the null hypothesis')"
   ]
  },
  {
   "cell_type": "markdown",
   "id": "53929749",
   "metadata": {},
   "source": [
    "There appears to be a significance between mpg and being a compact car."
   ]
  },
  {
   "cell_type": "markdown",
   "id": "0e070d52",
   "metadata": {},
   "source": [
    "### Do manual cars get better gas mileage than automatic cars?"
   ]
  },
  {
   "cell_type": "markdown",
   "id": "6011e422",
   "metadata": {},
   "source": [
    "Continuous: fuel-efficiency \n",
    "Discrete: is_automatic (True/False)\n",
    "\n",
    "group 1: manual\n",
    "group 2: auto"
   ]
  },
  {
   "cell_type": "code",
   "execution_count": 87,
   "id": "3325f233",
   "metadata": {},
   "outputs": [],
   "source": [
    "manual_mpg = mpg.average_mileage[mpg.is_automatic == False]\n",
    "auto_mpg = mpg.average_mileage[mpg.is_automatic == True]"
   ]
  },
  {
   "cell_type": "markdown",
   "id": "97b56217",
   "metadata": {},
   "source": [
    "**A. Plot Distribution**"
   ]
  },
  {
   "cell_type": "code",
   "execution_count": 124,
   "id": "8ff1bb52",
   "metadata": {},
   "outputs": [
    {
     "data": {
      "image/png": "[encoded data removed]",
      "text/plain": [
       "<Figure size 432x288 with 1 Axes>"
      ]
     },
     "metadata": {
      "needs_background": "light"
     },
     "output_type": "display_data"
    }
   ],
   "source": [
    "manual_mpg.hist();"
   ]
  },
  {
   "cell_type": "code",
   "execution_count": 126,
   "id": "8a70da08",
   "metadata": {},
   "outputs": [
    {
     "data": {
      "image/png": "[encoded data removed]",
      "text/plain": [
       "<Figure size 432x288 with 1 Axes>"
      ]
     },
     "metadata": {
      "needs_background": "light"
     },
     "output_type": "display_data"
    }
   ],
   "source": [
    "auto_mpg.hist();"
   ]
  },
  {
   "cell_type": "markdown",
   "id": "9c8b9882",
   "metadata": {
    "tags": []
   },
   "source": [
    "**B. Set Hypothesis**\n",
    "\n",
    "$H_{0}$: Manual car average_mileage $\\leq$ automatic car average_mileage\n",
    "\n",
    "$H_{a}$: Manual car average_mileage > automatic car average_mileage"
   ]
  },
  {
   "cell_type": "markdown",
   "id": "66271747",
   "metadata": {
    "tags": []
   },
   "source": [
    "**C. Set Alpha**"
   ]
  },
  {
   "cell_type": "markdown",
   "id": "e86aeb39",
   "metadata": {},
   "source": [
    "see above"
   ]
  },
  {
   "cell_type": "markdown",
   "id": "3eaeb38b",
   "metadata": {},
   "source": [
    "**D. Verify Assumptions**"
   ]
  },
  {
   "cell_type": "markdown",
   "id": "4539c9fa",
   "metadata": {},
   "source": [
    "**Independent:** Yes. automatic and manual\n",
    "\n",
    "**Normal distribution:** Yes. Enough observations\n",
    "\n",
    "**Equal variances:** Check $\\Downarrow$"
   ]
  },
  {
   "cell_type": "code",
   "execution_count": 88,
   "id": "fee570a0",
   "metadata": {},
   "outputs": [
    {
     "data": {
      "text/plain": [
       "LeveneResult(statistic=0.013710906098481107, pvalue=0.9068872019462125)"
      ]
     },
     "execution_count": 88,
     "metadata": {},
     "output_type": "execute_result"
    }
   ],
   "source": [
    "stats.levene(manual_mpg, auto_mpg)"
   ]
  },
  {
   "cell_type": "markdown",
   "id": "d1607a05",
   "metadata": {},
   "source": [
    "pvalue > 0.5 sooooo we can assume equal variances"
   ]
  },
  {
   "cell_type": "markdown",
   "id": "d7847b37",
   "metadata": {},
   "source": [
    "**E. Compute test statistic and probability (t-statistic & p-value)**\n",
    "\n",
    "- scipy.stats.____________\n",
    "- For a 1-tailed test where our alternative hypothesis is testing for \"greater than\", we evaluate 𝑝/2 < 𝛼  and  𝑡 > 0. "
   ]
  },
  {
   "cell_type": "code",
   "execution_count": 89,
   "id": "e2c2603e",
   "metadata": {},
   "outputs": [],
   "source": [
    "tstat, pval = stats.ttest_ind(manual_mpg, auto_mpg)"
   ]
  },
  {
   "cell_type": "code",
   "execution_count": 90,
   "id": "9299ee51",
   "metadata": {},
   "outputs": [
    {
     "data": {
      "text/plain": [
       "(4.652099934834949, 5.522151036980458e-06)"
      ]
     },
     "execution_count": 90,
     "metadata": {},
     "output_type": "execute_result"
    }
   ],
   "source": [
    "tstat, pval"
   ]
  },
  {
   "cell_type": "markdown",
   "id": "cbc9ae9e",
   "metadata": {},
   "source": [
    "**F. Decide**\n",
    "\n",
    "Is $t > 0$ and $p/2 < \\alpha$"
   ]
  },
  {
   "cell_type": "code",
   "execution_count": 91,
   "id": "f9463ac9",
   "metadata": {},
   "outputs": [
    {
     "name": "stdout",
     "output_type": "stream",
     "text": [
      "we can reject the null hypothesis\n"
     ]
    }
   ],
   "source": [
    "if ((pval / 2) < alpha) and (tstat > 0):\n",
    "    print(\"we can reject the null hypothesis\")\n",
    "else:\n",
    "    print('We fail to reject the null hypothesis')"
   ]
  },
  {
   "cell_type": "markdown",
   "id": "3f555978",
   "metadata": {},
   "source": [
    "We can assume that manual cars have better fuel efficiency than automatic cars."
   ]
  },
  {
   "cell_type": "markdown",
   "id": "e7f049bf",
   "metadata": {},
   "source": [
    "# Correlation"
   ]
  },
  {
   "cell_type": "markdown",
   "id": "fdff88c1",
   "metadata": {},
   "source": [
    "### 1. Answer with the type of stats test you would use (assume normal distribution):\n",
    "- Is there a relationship between the length of your arm and the length of your foot? **Pearson's R**\n",
    "- Do guys and gals quit their jobs at the same rate? **2 sample two-tailed ttest**\n",
    "- Does the length of time of the lecture correlate with a students grade? **Pearson's R**"
   ]
  },
  {
   "cell_type": "markdown",
   "id": "626a659d",
   "metadata": {},
   "source": [
    "### 2. Use the telco_churn data."
   ]
  },
  {
   "cell_type": "code",
   "execution_count": 23,
   "id": "91bdd5ec",
   "metadata": {},
   "outputs": [],
   "source": [
    "telco_churn_df =  pd.read_sql('''\n",
    "SELECT c.customer_id, phone_service, ist.internet_service_type, monthly_charges, tenure, total_charges, churn\n",
    "FROM customers c\n",
    "JOIN internet_service_types ist USING(internet_service_type_id);\n",
    "''', get_db_url('telco_churn'))"
   ]
  },
  {
   "cell_type": "code",
   "execution_count": 130,
   "id": "b258091d",
   "metadata": {
    "scrolled": true
   },
   "outputs": [
    {
     "data": {
      "text/html": [
       "<div>\n",
       "<style scoped>\n",
       "    .dataframe tbody tr th:only-of-type {\n",
       "        vertical-align: middle;\n",
       "    }\n",
       "\n",
       "    .dataframe tbody tr th {\n",
       "        vertical-align: top;\n",
       "    }\n",
       "\n",
       "    .dataframe thead th {\n",
       "        text-align: right;\n",
       "    }\n",
       "</style>\n",
       "<table border=\"1\" class=\"dataframe\">\n",
       "  <thead>\n",
       "    <tr style=\"text-align: right;\">\n",
       "      <th></th>\n",
       "      <th>customer_id</th>\n",
       "      <th>phone_service</th>\n",
       "      <th>internet_service_type</th>\n",
       "      <th>monthly_charges</th>\n",
       "      <th>tenure</th>\n",
       "      <th>total_charges</th>\n",
       "      <th>churn</th>\n",
       "    </tr>\n",
       "  </thead>\n",
       "  <tbody>\n",
       "    <tr>\n",
       "      <th>0</th>\n",
       "      <td>0002-ORFBO</td>\n",
       "      <td>Yes</td>\n",
       "      <td>DSL</td>\n",
       "      <td>65.6</td>\n",
       "      <td>9</td>\n",
       "      <td>593.3</td>\n",
       "      <td>No</td>\n",
       "    </tr>\n",
       "    <tr>\n",
       "      <th>1</th>\n",
       "      <td>0003-MKNFE</td>\n",
       "      <td>Yes</td>\n",
       "      <td>DSL</td>\n",
       "      <td>59.9</td>\n",
       "      <td>9</td>\n",
       "      <td>542.4</td>\n",
       "      <td>No</td>\n",
       "    </tr>\n",
       "    <tr>\n",
       "      <th>2</th>\n",
       "      <td>0004-TLHLJ</td>\n",
       "      <td>Yes</td>\n",
       "      <td>Fiber optic</td>\n",
       "      <td>73.9</td>\n",
       "      <td>4</td>\n",
       "      <td>280.85</td>\n",
       "      <td>Yes</td>\n",
       "    </tr>\n",
       "    <tr>\n",
       "      <th>3</th>\n",
       "      <td>0011-IGKFF</td>\n",
       "      <td>Yes</td>\n",
       "      <td>Fiber optic</td>\n",
       "      <td>98.0</td>\n",
       "      <td>13</td>\n",
       "      <td>1237.85</td>\n",
       "      <td>Yes</td>\n",
       "    </tr>\n",
       "    <tr>\n",
       "      <th>4</th>\n",
       "      <td>0013-EXCHZ</td>\n",
       "      <td>Yes</td>\n",
       "      <td>Fiber optic</td>\n",
       "      <td>83.9</td>\n",
       "      <td>3</td>\n",
       "      <td>267.4</td>\n",
       "      <td>Yes</td>\n",
       "    </tr>\n",
       "  </tbody>\n",
       "</table>\n",
       "</div>"
      ],
      "text/plain": [
       "  customer_id phone_service internet_service_type  monthly_charges  tenure  \\\n",
       "0  0002-ORFBO           Yes                   DSL             65.6       9   \n",
       "1  0003-MKNFE           Yes                   DSL             59.9       9   \n",
       "2  0004-TLHLJ           Yes           Fiber optic             73.9       4   \n",
       "3  0011-IGKFF           Yes           Fiber optic             98.0      13   \n",
       "4  0013-EXCHZ           Yes           Fiber optic             83.9       3   \n",
       "\n",
       "  total_charges churn  \n",
       "0         593.3    No  \n",
       "1         542.4    No  \n",
       "2        280.85   Yes  \n",
       "3       1237.85   Yes  \n",
       "4         267.4   Yes  "
      ]
     },
     "execution_count": 130,
     "metadata": {},
     "output_type": "execute_result"
    }
   ],
   "source": [
    "telco_churn_df.head()"
   ]
  },
  {
   "cell_type": "code",
   "execution_count": 154,
   "id": "b806169d",
   "metadata": {
    "scrolled": false
   },
   "outputs": [
    {
     "name": "stdout",
     "output_type": "stream",
     "text": [
      "<class 'pandas.core.frame.DataFrame'>\n",
      "RangeIndex: 7043 entries, 0 to 7042\n",
      "Data columns (total 7 columns):\n",
      " #   Column                 Non-Null Count  Dtype  \n",
      "---  ------                 --------------  -----  \n",
      " 0   customer_id            7043 non-null   object \n",
      " 1   phone_service          7043 non-null   object \n",
      " 2   internet_service_type  7043 non-null   object \n",
      " 3   monthly_charges        7043 non-null   float64\n",
      " 4   tenure                 7043 non-null   int64  \n",
      " 5   total_charges          7043 non-null   object \n",
      " 6   churn                  7043 non-null   object \n",
      "dtypes: float64(1), int64(1), object(5)\n",
      "memory usage: 385.3+ KB\n"
     ]
    }
   ],
   "source": [
    "telco_churn_df.info()"
   ]
  },
  {
   "cell_type": "code",
   "execution_count": 76,
   "id": "21915d49",
   "metadata": {},
   "outputs": [
    {
     "data": {
      "text/plain": [
       "<AxesSubplot:xlabel='tenure', ylabel='monthly_charges'>"
      ]
     },
     "execution_count": 76,
     "metadata": {},
     "output_type": "execute_result"
    },
    {
     "data": {
      "image/png": "[encoded data removed]",
      "text/plain": [
       "<Figure size 432x288 with 1 Axes>"
      ]
     },
     "metadata": {
      "needs_background": "light"
     },
     "output_type": "display_data"
    }
   ],
   "source": [
    "telco_churn_df.plot.scatter(y='monthly_charges', x='tenure')"
   ]
  },
  {
   "cell_type": "markdown",
   "id": "e4f10530",
   "metadata": {},
   "source": [
    "#### Does tenure correlate with monthly charges?"
   ]
  },
  {
   "cell_type": "markdown",
   "id": "402b52f3",
   "metadata": {},
   "source": [
    "$H_{0}$: There is no linear correlation between tenure and monthly charges\n",
    "\n",
    "$H_{a}$: There is a linear correlation between tenure and monthly charges"
   ]
  },
  {
   "cell_type": "code",
   "execution_count": 212,
   "id": "9cb4cf4e",
   "metadata": {},
   "outputs": [
    {
     "data": {
      "text/plain": [
       "(0.24789985628615008, 4.0940449915016345e-99)"
      ]
     },
     "execution_count": 212,
     "metadata": {},
     "output_type": "execute_result"
    }
   ],
   "source": [
    "r, p = stats.pearsonr(telco_churn_df.tenure, telco_churn_df.monthly_charges)\n",
    "r, p"
   ]
  },
  {
   "cell_type": "markdown",
   "id": "2327abe1",
   "metadata": {},
   "source": [
    "- 0: No relationship\n",
    "- 0 - 0.2: Weak positive relationship\n",
    "- **0.2 - 0.4: Moderate positive relationship**\n",
    "- 0.4 - 1: Strong positive relationship\n",
    "\n",
    "_________________________________________\n",
    "- 0 - -0.2: Weak negative relationship\n",
    "- -0.2 - -0.4: Moderate negative relationship\n",
    "- -0.4 - -1: Strong negative relationship"
   ]
  },
  {
   "cell_type": "code",
   "execution_count": 213,
   "id": "5b2f995f",
   "metadata": {},
   "outputs": [
    {
     "name": "stdout",
     "output_type": "stream",
     "text": [
      "We reject the null hypothesis\n"
     ]
    }
   ],
   "source": [
    "#evaluate p-value\n",
    "if p < alpha:\n",
    "    print(\"We reject the null hypothesis\")\n",
    "else:\n",
    "    print(\"We fail to reject the null hypothesis\")"
   ]
  },
  {
   "cell_type": "markdown",
   "id": "c74f6151",
   "metadata": {},
   "source": [
    "#### Total charges?"
   ]
  },
  {
   "cell_type": "code",
   "execution_count": 24,
   "id": "f6dc9ad5",
   "metadata": {},
   "outputs": [],
   "source": [
    "telco_total_charges_fix = telco_churn_df[(telco_churn_df['tenure'] != 0)]"
   ]
  },
  {
   "cell_type": "code",
   "execution_count": 74,
   "id": "e97305da",
   "metadata": {
    "scrolled": true
   },
   "outputs": [
    {
     "data": {
      "text/plain": [
       "(7032, 7)"
      ]
     },
     "execution_count": 74,
     "metadata": {},
     "output_type": "execute_result"
    }
   ],
   "source": [
    "telco_total_charges_fix.shape"
   ]
  },
  {
   "cell_type": "code",
   "execution_count": 75,
   "id": "db987213",
   "metadata": {},
   "outputs": [
    {
     "name": "stdout",
     "output_type": "stream",
     "text": [
      "<class 'pandas.core.frame.DataFrame'>\n",
      "Int64Index: 7032 entries, 0 to 7042\n",
      "Data columns (total 7 columns):\n",
      " #   Column                 Non-Null Count  Dtype  \n",
      "---  ------                 --------------  -----  \n",
      " 0   customer_id            7032 non-null   object \n",
      " 1   phone_service          7032 non-null   object \n",
      " 2   internet_service_type  7032 non-null   object \n",
      " 3   monthly_charges        7032 non-null   float64\n",
      " 4   tenure                 7032 non-null   int64  \n",
      " 5   total_charges          7032 non-null   float64\n",
      " 6   churn                  7032 non-null   object \n",
      "dtypes: float64(2), int64(1), object(4)\n",
      "memory usage: 697.5+ KB\n"
     ]
    }
   ],
   "source": [
    "telco_total_charges_fix.info()"
   ]
  },
  {
   "cell_type": "code",
   "execution_count": 28,
   "id": "b1ad49c3",
   "metadata": {},
   "outputs": [
    {
     "name": "stderr",
     "output_type": "stream",
     "text": [
      "/var/folders/hj/mq308hhs3rz5q1mbkdf0261m0000gn/T/ipykernel_51817/3032141836.py:1: SettingWithCopyWarning: \n",
      "A value is trying to be set on a copy of a slice from a DataFrame.\n",
      "Try using .loc[row_indexer,col_indexer] = value instead\n",
      "\n",
      "See the caveats in the documentation: https://pandas.pydata.org/pandas-docs/stable/user_guide/indexing.html#returning-a-view-versus-a-copy\n",
      "  telco_total_charges_fix['total_charges'] = telco_total_charges_fix['total_charges'].astype(float)\n"
     ]
    }
   ],
   "source": [
    "telco_total_charges_fix['total_charges'] = telco_total_charges_fix['total_charges'].astype(float)"
   ]
  },
  {
   "cell_type": "code",
   "execution_count": 214,
   "id": "fcb38705",
   "metadata": {
    "scrolled": true
   },
   "outputs": [
    {
     "data": {
      "text/plain": [
       "(0.825880460933202, 0.0)"
      ]
     },
     "execution_count": 214,
     "metadata": {},
     "output_type": "execute_result"
    }
   ],
   "source": [
    "r, p = stats.pearsonr(telco_total_charges_fix.tenure, telco_total_charges_fix.total_charges)\n",
    "r, p"
   ]
  },
  {
   "cell_type": "code",
   "execution_count": 176,
   "id": "e7877c1b",
   "metadata": {
    "scrolled": false
   },
   "outputs": [
    {
     "data": {
      "text/plain": [
       "<matplotlib.collections.PathCollection at 0x7f8136867e80>"
      ]
     },
     "execution_count": 176,
     "metadata": {},
     "output_type": "execute_result"
    },
    {
     "data": {
      "image/png": "[encoded data removed]",
      "text/plain": [
       "<Figure size 432x288 with 1 Axes>"
      ]
     },
     "metadata": {
      "needs_background": "light"
     },
     "output_type": "display_data"
    }
   ],
   "source": [
    "plt.scatter(x=telco_total_charges_fix.tenure, y=telco_total_charges_fix.total_charges)"
   ]
  },
  {
   "cell_type": "markdown",
   "id": "8ecec01e",
   "metadata": {},
   "source": [
    "- 0: No relationship\n",
    "- 0 - 0.2: Weak positive relationship\n",
    "- 0.2 - 0.4: Moderate positive relationship\n",
    "- **0.4 - 1: Strong positive relationship**\n",
    "\n",
    "_________________________________________\n",
    "- 0 - -0.2: Weak negative relationship\n",
    "- -0.2 - -0.4: Moderate negative relationship\n",
    "- -0.4 - -1: Strong negative relationship"
   ]
  },
  {
   "cell_type": "code",
   "execution_count": 215,
   "id": "6d0e9815",
   "metadata": {},
   "outputs": [
    {
     "name": "stdout",
     "output_type": "stream",
     "text": [
      "We reject the null hypothesis\n"
     ]
    }
   ],
   "source": [
    "#evaluate p-value\n",
    "if p < alpha:\n",
    "    print(\"We reject the null hypothesis\")\n",
    "else:\n",
    "    print(\"We fail to reject the null hypothesis\")"
   ]
  },
  {
   "cell_type": "markdown",
   "id": "e07eb2b0",
   "metadata": {},
   "source": [
    "#### What happens if you control for phone and internet service?"
   ]
  },
  {
   "cell_type": "code",
   "execution_count": 30,
   "id": "02c4210d",
   "metadata": {},
   "outputs": [
    {
     "data": {
      "image/png": "[encoded data removed]",
      "text/plain": [
       "<Figure size 835.625x360 with 2 Axes>"
      ]
     },
     "metadata": {
      "needs_background": "light"
     },
     "output_type": "display_data"
    }
   ],
   "source": [
    "sns.relplot(data=telco_total_charges_fix, x='tenure', y='total_charges', col='phone_service', hue='internet_service_type');"
   ]
  },
  {
   "cell_type": "code",
   "execution_count": 31,
   "id": "9f526dfd",
   "metadata": {},
   "outputs": [],
   "source": [
    "ph_yes = telco_total_charges_fix[telco_total_charges_fix.phone_service== 'Yes']\n",
    "ph_no = telco_total_charges_fix[telco_total_charges_fix.phone_service== 'No']"
   ]
  },
  {
   "cell_type": "markdown",
   "id": "90713607",
   "metadata": {},
   "source": [
    "### Has Phone service"
   ]
  },
  {
   "cell_type": "code",
   "execution_count": 32,
   "id": "91c69505",
   "metadata": {},
   "outputs": [
    {
     "data": {
      "text/plain": [
       "(0.829839321069941, 0.0)"
      ]
     },
     "execution_count": 32,
     "metadata": {},
     "output_type": "execute_result"
    }
   ],
   "source": [
    "r, p = stats.pearsonr(ph_yes.tenure, ph_yes.total_charges)\n",
    "r, p"
   ]
  },
  {
   "cell_type": "markdown",
   "id": "62c73a3c",
   "metadata": {},
   "source": [
    "- 0: No relationship\n",
    "- 0 - 0.2: Weak positive relationship\n",
    "- 0.2 - 0.4: Moderate positive relationship\n",
    "- **0.4 - 1: Strong positive relationship**\n",
    "\n",
    "_________________________________________\n",
    "- 0 - -0.2: Weak negative relationship\n",
    "- -0.2 - -0.4: Moderate negative relationship\n",
    "- -0.4 - -1: Strong negative relationship"
   ]
  },
  {
   "cell_type": "markdown",
   "id": "1f56383d",
   "metadata": {},
   "source": [
    "### No Phone service"
   ]
  },
  {
   "cell_type": "code",
   "execution_count": 33,
   "id": "b8253957",
   "metadata": {},
   "outputs": [
    {
     "data": {
      "text/plain": [
       "(0.9534228506954516, 0.0)"
      ]
     },
     "execution_count": 33,
     "metadata": {},
     "output_type": "execute_result"
    }
   ],
   "source": [
    "r, p = stats.pearsonr(ph_no.tenure, ph_no.total_charges)\n",
    "r, p"
   ]
  },
  {
   "cell_type": "markdown",
   "id": "9b59bdbd",
   "metadata": {},
   "source": [
    "- 0: No relationship\n",
    "- 0 - 0.2: Weak positive relationship\n",
    "- 0.2 - 0.4: Moderate positive relationship\n",
    "- **0.4 - 1: Strong positive relationship**\n",
    "\n",
    "_________________________________________\n",
    "- 0 - -0.2: Weak negative relationship\n",
    "- -0.2 - -0.4: Moderate negative relationship\n",
    "- -0.4 - -1: Strong negative relationship"
   ]
  },
  {
   "cell_type": "markdown",
   "id": "deeb2008",
   "metadata": {},
   "source": [
    "### DSL"
   ]
  },
  {
   "cell_type": "code",
   "execution_count": 34,
   "id": "ec001b8b",
   "metadata": {},
   "outputs": [],
   "source": [
    "ist_dsl = telco_total_charges_fix[telco_total_charges_fix.internet_service_type== 'DSL']\n"
   ]
  },
  {
   "cell_type": "code",
   "execution_count": 35,
   "id": "3bb0de42",
   "metadata": {},
   "outputs": [
    {
     "data": {
      "text/plain": [
       "(0.9411848215629786, 0.0)"
      ]
     },
     "execution_count": 35,
     "metadata": {},
     "output_type": "execute_result"
    }
   ],
   "source": [
    "r, p = stats.pearsonr(ist_dsl.tenure, ist_dsl.total_charges)\n",
    "r, p"
   ]
  },
  {
   "cell_type": "markdown",
   "id": "2b52f0e0",
   "metadata": {},
   "source": [
    "- 0: No relationship\n",
    "- 0 - 0.2: Weak positive relationship\n",
    "- 0.2 - 0.4: Moderate positive relationship\n",
    "- **0.4 - 1: Strong positive relationship**\n",
    "\n",
    "_________________________________________\n",
    "- 0 - -0.2: Weak negative relationship\n",
    "- -0.2 - -0.4: Moderate negative relationship\n",
    "- -0.4 - -1: Strong negative relationship"
   ]
  },
  {
   "cell_type": "markdown",
   "id": "d24be2b5",
   "metadata": {},
   "source": [
    "### Fiber optic"
   ]
  },
  {
   "cell_type": "code",
   "execution_count": 37,
   "id": "f3041b0c",
   "metadata": {},
   "outputs": [],
   "source": [
    "ist_fib = telco_total_charges_fix[telco_total_charges_fix.internet_service_type== 'Fiber optic']\n"
   ]
  },
  {
   "cell_type": "code",
   "execution_count": 38,
   "id": "46044c82",
   "metadata": {},
   "outputs": [
    {
     "data": {
      "text/plain": [
       "(0.9853093528070602, 0.0)"
      ]
     },
     "execution_count": 38,
     "metadata": {},
     "output_type": "execute_result"
    }
   ],
   "source": [
    "r, p = stats.pearsonr(ist_fib.tenure, ist_fib.total_charges)\n",
    "r, p"
   ]
  },
  {
   "cell_type": "markdown",
   "id": "082182d4",
   "metadata": {},
   "source": [
    "- 0: No relationship\n",
    "- 0 - 0.2: Weak positive relationship\n",
    "- 0.2 - 0.4: Moderate positive relationship\n",
    "- **0.4 - 1: Strong positive relationship**\n",
    "\n",
    "_________________________________________\n",
    "- 0 - -0.2: Weak negative relationship\n",
    "- -0.2 - -0.4: Moderate negative relationship\n",
    "- -0.4 - -1: Strong negative relationship"
   ]
  },
  {
   "cell_type": "markdown",
   "id": "3055213c",
   "metadata": {},
   "source": [
    "### None"
   ]
  },
  {
   "cell_type": "code",
   "execution_count": 40,
   "id": "4cb5665f",
   "metadata": {},
   "outputs": [],
   "source": [
    "ist_none = telco_total_charges_fix[telco_total_charges_fix.internet_service_type== 'None']\n"
   ]
  },
  {
   "cell_type": "code",
   "execution_count": 41,
   "id": "665fb1b4",
   "metadata": {},
   "outputs": [
    {
     "data": {
      "text/plain": [
       "(0.9814648859044287, 0.0)"
      ]
     },
     "execution_count": 41,
     "metadata": {},
     "output_type": "execute_result"
    }
   ],
   "source": [
    "r, p = stats.pearsonr(ist_none.tenure, ist_none.total_charges)\n",
    "r, p"
   ]
  },
  {
   "cell_type": "markdown",
   "id": "6b37b7b7",
   "metadata": {},
   "source": [
    "- 0: No relationship\n",
    "- 0 - 0.2: Weak positive relationship\n",
    "- 0.2 - 0.4: Moderate positive relationship\n",
    "- **0.4 - 1: Strong positive relationship**\n",
    "\n",
    "_________________________________________\n",
    "- 0 - -0.2: Weak negative relationship\n",
    "- -0.2 - -0.4: Moderate negative relationship\n",
    "- -0.4 - -1: Strong negative relationship"
   ]
  },
  {
   "cell_type": "markdown",
   "id": "febd3cdc",
   "metadata": {},
   "source": [
    "**Conclusion:** There is no difference if they have phone service or not, nor what kind of internet service provider, all have tenure and total_charges all have a strong positive relationship."
   ]
  },
  {
   "cell_type": "code",
   "execution_count": 44,
   "id": "31a20432",
   "metadata": {},
   "outputs": [],
   "source": [
    "#define correlation function \n",
    "def corr_fun(df):\n",
    "    return pd.Series(stats.pearsonr(df.tenure, df.total_charges),\n",
    "                    index=['r','p'])"
   ]
  },
  {
   "cell_type": "code",
   "execution_count": 45,
   "id": "e79231ce",
   "metadata": {},
   "outputs": [
    {
     "data": {
      "text/html": [
       "<div>\n",
       "<style scoped>\n",
       "    .dataframe tbody tr th:only-of-type {\n",
       "        vertical-align: middle;\n",
       "    }\n",
       "\n",
       "    .dataframe tbody tr th {\n",
       "        vertical-align: top;\n",
       "    }\n",
       "\n",
       "    .dataframe thead th {\n",
       "        text-align: right;\n",
       "    }\n",
       "</style>\n",
       "<table border=\"1\" class=\"dataframe\">\n",
       "  <thead>\n",
       "    <tr style=\"text-align: right;\">\n",
       "      <th></th>\n",
       "      <th></th>\n",
       "      <th>r</th>\n",
       "      <th>p</th>\n",
       "    </tr>\n",
       "    <tr>\n",
       "      <th>internet_service_type</th>\n",
       "      <th>phone_service</th>\n",
       "      <th></th>\n",
       "      <th></th>\n",
       "    </tr>\n",
       "  </thead>\n",
       "  <tbody>\n",
       "    <tr>\n",
       "      <th rowspan=\"2\" valign=\"top\">DSL</th>\n",
       "      <th>No</th>\n",
       "      <td>0.953423</td>\n",
       "      <td>0.0</td>\n",
       "    </tr>\n",
       "    <tr>\n",
       "      <th>Yes</th>\n",
       "      <td>0.970533</td>\n",
       "      <td>0.0</td>\n",
       "    </tr>\n",
       "    <tr>\n",
       "      <th>Fiber optic</th>\n",
       "      <th>Yes</th>\n",
       "      <td>0.985309</td>\n",
       "      <td>0.0</td>\n",
       "    </tr>\n",
       "    <tr>\n",
       "      <th>None</th>\n",
       "      <th>Yes</th>\n",
       "      <td>0.981465</td>\n",
       "      <td>0.0</td>\n",
       "    </tr>\n",
       "  </tbody>\n",
       "</table>\n",
       "</div>"
      ],
      "text/plain": [
       "                                            r    p\n",
       "internet_service_type phone_service               \n",
       "DSL                   No             0.953423  0.0\n",
       "                      Yes            0.970533  0.0\n",
       "Fiber optic           Yes            0.985309  0.0\n",
       "None                  Yes            0.981465  0.0"
      ]
     },
     "execution_count": 45,
     "metadata": {},
     "output_type": "execute_result"
    }
   ],
   "source": [
    "telco_total_charges_fix.groupby(['internet_service_type', 'phone_service']).apply(corr_fun)"
   ]
  },
  {
   "cell_type": "markdown",
   "id": "5adc9ba1",
   "metadata": {},
   "source": [
    "### 3. Use the employees database."
   ]
  },
  {
   "cell_type": "markdown",
   "id": "44cb8fe4",
   "metadata": {},
   "source": [
    "- Is there a relationship between how long an employee has been with the company and their salary?"
   ]
  },
  {
   "cell_type": "code",
   "execution_count": 132,
   "id": "9d631ddb",
   "metadata": {},
   "outputs": [],
   "source": [
    "employee_salary_df =  pd.read_sql('''\n",
    "SELECT e.emp_no, hire_date, salary\n",
    "FROM employees e\n",
    "JOIN salaries s USING(emp_no)\n",
    "WHERE to_date > CURDATE();\n",
    "''', get_db_url('employees'))"
   ]
  },
  {
   "cell_type": "code",
   "execution_count": 183,
   "id": "7318e77e",
   "metadata": {
    "scrolled": false
   },
   "outputs": [
    {
     "data": {
      "text/html": [
       "<div>\n",
       "<style scoped>\n",
       "    .dataframe tbody tr th:only-of-type {\n",
       "        vertical-align: middle;\n",
       "    }\n",
       "\n",
       "    .dataframe tbody tr th {\n",
       "        vertical-align: top;\n",
       "    }\n",
       "\n",
       "    .dataframe thead th {\n",
       "        text-align: right;\n",
       "    }\n",
       "</style>\n",
       "<table border=\"1\" class=\"dataframe\">\n",
       "  <thead>\n",
       "    <tr style=\"text-align: right;\">\n",
       "      <th></th>\n",
       "      <th>emp_no</th>\n",
       "      <th>hire_date</th>\n",
       "      <th>salary</th>\n",
       "      <th>days_since_hired</th>\n",
       "    </tr>\n",
       "  </thead>\n",
       "  <tbody>\n",
       "    <tr>\n",
       "      <th>0</th>\n",
       "      <td>10001</td>\n",
       "      <td>1986-06-26</td>\n",
       "      <td>88958</td>\n",
       "      <td>13251</td>\n",
       "    </tr>\n",
       "    <tr>\n",
       "      <th>1</th>\n",
       "      <td>10002</td>\n",
       "      <td>1985-11-21</td>\n",
       "      <td>72527</td>\n",
       "      <td>13468</td>\n",
       "    </tr>\n",
       "    <tr>\n",
       "      <th>2</th>\n",
       "      <td>10003</td>\n",
       "      <td>1986-08-28</td>\n",
       "      <td>43311</td>\n",
       "      <td>13188</td>\n",
       "    </tr>\n",
       "    <tr>\n",
       "      <th>3</th>\n",
       "      <td>10004</td>\n",
       "      <td>1986-12-01</td>\n",
       "      <td>74057</td>\n",
       "      <td>13093</td>\n",
       "    </tr>\n",
       "    <tr>\n",
       "      <th>4</th>\n",
       "      <td>10005</td>\n",
       "      <td>1989-09-12</td>\n",
       "      <td>94692</td>\n",
       "      <td>12077</td>\n",
       "    </tr>\n",
       "  </tbody>\n",
       "</table>\n",
       "</div>"
      ],
      "text/plain": [
       "   emp_no   hire_date  salary  days_since_hired\n",
       "0   10001  1986-06-26   88958             13251\n",
       "1   10002  1985-11-21   72527             13468\n",
       "2   10003  1986-08-28   43311             13188\n",
       "3   10004  1986-12-01   74057             13093\n",
       "4   10005  1989-09-12   94692             12077"
      ]
     },
     "execution_count": 183,
     "metadata": {},
     "output_type": "execute_result"
    }
   ],
   "source": [
    "employee_salary_df.head()"
   ]
  },
  {
   "cell_type": "code",
   "execution_count": 182,
   "id": "0cd4972e",
   "metadata": {},
   "outputs": [],
   "source": [
    "employee_salary_df['days_since_hired'] = (datetime.date.today() - employee_salary_df['hire_date']).dt.days"
   ]
  },
  {
   "cell_type": "code",
   "execution_count": 184,
   "id": "8e188737",
   "metadata": {},
   "outputs": [
    {
     "data": {
      "text/plain": [
       "(0.3064625613186078, 0.0)"
      ]
     },
     "execution_count": 184,
     "metadata": {},
     "output_type": "execute_result"
    }
   ],
   "source": [
    "r, p = stats.pearsonr(employee_salary_df.days_since_hired, employee_salary_df.salary)\n",
    "r, p"
   ]
  },
  {
   "cell_type": "code",
   "execution_count": 186,
   "id": "0c338bec",
   "metadata": {
    "scrolled": false
   },
   "outputs": [
    {
     "data": {
      "image/png": "[encoded data removed]",
      "text/plain": [
       "<Figure size 432x288 with 1 Axes>"
      ]
     },
     "metadata": {
      "needs_background": "light"
     },
     "output_type": "display_data"
    }
   ],
   "source": [
    "plt.scatter(x=employee_salary_df.days_since_hired, y= employee_salary_df.salary);"
   ]
  },
  {
   "cell_type": "markdown",
   "id": "b6fc8b02",
   "metadata": {},
   "source": [
    "- 0: No relationship\n",
    "- 0 - 0.2: Weak positive relationship\n",
    "- **0.2 - 0.4: Moderate positive relationship**\n",
    "- 0.4 - 1: Strong positive relationship\n",
    "\n",
    "_________________________________________\n",
    "- 0 - -0.2: Weak negative relationship\n",
    "- -0.2 - -0.4: Moderate negative relationship\n",
    "- -0.4 - -1: Strong negative relationship"
   ]
  },
  {
   "cell_type": "markdown",
   "id": "b0fd3cd6",
   "metadata": {},
   "source": [
    "- Is there a relationship between how long an employee has been with the company and the number of titles they have had?"
   ]
  },
  {
   "cell_type": "code",
   "execution_count": 4,
   "id": "5834c7ab",
   "metadata": {},
   "outputs": [],
   "source": [
    "employee_title_df =  pd.read_sql('''\n",
    "SELECT e.emp_no, hire_date, COUNT(title) as title_count\n",
    "FROM employees e\n",
    "JOIN titles t USING(emp_no)\n",
    "GROUP BY e.emp_no, hire_date;\n",
    "''', get_db_url('employees'))"
   ]
  },
  {
   "cell_type": "code",
   "execution_count": 5,
   "id": "8d677728",
   "metadata": {
    "scrolled": true
   },
   "outputs": [
    {
     "data": {
      "text/html": [
       "<div>\n",
       "<style scoped>\n",
       "    .dataframe tbody tr th:only-of-type {\n",
       "        vertical-align: middle;\n",
       "    }\n",
       "\n",
       "    .dataframe tbody tr th {\n",
       "        vertical-align: top;\n",
       "    }\n",
       "\n",
       "    .dataframe thead th {\n",
       "        text-align: right;\n",
       "    }\n",
       "</style>\n",
       "<table border=\"1\" class=\"dataframe\">\n",
       "  <thead>\n",
       "    <tr style=\"text-align: right;\">\n",
       "      <th></th>\n",
       "      <th>emp_no</th>\n",
       "      <th>hire_date</th>\n",
       "      <th>title_count</th>\n",
       "    </tr>\n",
       "  </thead>\n",
       "  <tbody>\n",
       "    <tr>\n",
       "      <th>0</th>\n",
       "      <td>10001</td>\n",
       "      <td>1986-06-26</td>\n",
       "      <td>1</td>\n",
       "    </tr>\n",
       "    <tr>\n",
       "      <th>1</th>\n",
       "      <td>10002</td>\n",
       "      <td>1985-11-21</td>\n",
       "      <td>1</td>\n",
       "    </tr>\n",
       "    <tr>\n",
       "      <th>2</th>\n",
       "      <td>10003</td>\n",
       "      <td>1986-08-28</td>\n",
       "      <td>1</td>\n",
       "    </tr>\n",
       "    <tr>\n",
       "      <th>3</th>\n",
       "      <td>10004</td>\n",
       "      <td>1986-12-01</td>\n",
       "      <td>2</td>\n",
       "    </tr>\n",
       "    <tr>\n",
       "      <th>4</th>\n",
       "      <td>10005</td>\n",
       "      <td>1989-09-12</td>\n",
       "      <td>2</td>\n",
       "    </tr>\n",
       "  </tbody>\n",
       "</table>\n",
       "</div>"
      ],
      "text/plain": [
       "   emp_no   hire_date  title_count\n",
       "0   10001  1986-06-26            1\n",
       "1   10002  1985-11-21            1\n",
       "2   10003  1986-08-28            1\n",
       "3   10004  1986-12-01            2\n",
       "4   10005  1989-09-12            2"
      ]
     },
     "execution_count": 5,
     "metadata": {},
     "output_type": "execute_result"
    }
   ],
   "source": [
    "employee_title_df.head()"
   ]
  },
  {
   "cell_type": "code",
   "execution_count": 200,
   "id": "65c25651",
   "metadata": {},
   "outputs": [
    {
     "name": "stdout",
     "output_type": "stream",
     "text": [
      "<class 'pandas.core.frame.DataFrame'>\n",
      "RangeIndex: 300024 entries, 0 to 300023\n",
      "Data columns (total 3 columns):\n",
      " #   Column       Non-Null Count   Dtype \n",
      "---  ------       --------------   ----- \n",
      " 0   emp_no       300024 non-null  int64 \n",
      " 1   hire_date    300024 non-null  object\n",
      " 2   title_count  300024 non-null  int64 \n",
      "dtypes: int64(2), object(1)\n",
      "memory usage: 6.9+ MB\n"
     ]
    }
   ],
   "source": [
    "employee_title_df.info()"
   ]
  },
  {
   "cell_type": "code",
   "execution_count": 71,
   "id": "4d92c4a7",
   "metadata": {},
   "outputs": [],
   "source": [
    "employee_title_df['days_since_hired'] = (datetime.date.today() - employee_title_df['hire_date']).dt.days"
   ]
  },
  {
   "cell_type": "code",
   "execution_count": 7,
   "id": "df98ad6f",
   "metadata": {
    "scrolled": true
   },
   "outputs": [
    {
     "data": {
      "text/html": [
       "<div>\n",
       "<style scoped>\n",
       "    .dataframe tbody tr th:only-of-type {\n",
       "        vertical-align: middle;\n",
       "    }\n",
       "\n",
       "    .dataframe tbody tr th {\n",
       "        vertical-align: top;\n",
       "    }\n",
       "\n",
       "    .dataframe thead th {\n",
       "        text-align: right;\n",
       "    }\n",
       "</style>\n",
       "<table border=\"1\" class=\"dataframe\">\n",
       "  <thead>\n",
       "    <tr style=\"text-align: right;\">\n",
       "      <th></th>\n",
       "      <th>emp_no</th>\n",
       "      <th>hire_date</th>\n",
       "      <th>title_count</th>\n",
       "      <th>days_since_hired</th>\n",
       "    </tr>\n",
       "  </thead>\n",
       "  <tbody>\n",
       "    <tr>\n",
       "      <th>0</th>\n",
       "      <td>10001</td>\n",
       "      <td>1986-06-26</td>\n",
       "      <td>1</td>\n",
       "      <td>13252</td>\n",
       "    </tr>\n",
       "    <tr>\n",
       "      <th>1</th>\n",
       "      <td>10002</td>\n",
       "      <td>1985-11-21</td>\n",
       "      <td>1</td>\n",
       "      <td>13469</td>\n",
       "    </tr>\n",
       "    <tr>\n",
       "      <th>2</th>\n",
       "      <td>10003</td>\n",
       "      <td>1986-08-28</td>\n",
       "      <td>1</td>\n",
       "      <td>13189</td>\n",
       "    </tr>\n",
       "    <tr>\n",
       "      <th>3</th>\n",
       "      <td>10004</td>\n",
       "      <td>1986-12-01</td>\n",
       "      <td>2</td>\n",
       "      <td>13094</td>\n",
       "    </tr>\n",
       "    <tr>\n",
       "      <th>4</th>\n",
       "      <td>10005</td>\n",
       "      <td>1989-09-12</td>\n",
       "      <td>2</td>\n",
       "      <td>12078</td>\n",
       "    </tr>\n",
       "  </tbody>\n",
       "</table>\n",
       "</div>"
      ],
      "text/plain": [
       "   emp_no   hire_date  title_count  days_since_hired\n",
       "0   10001  1986-06-26            1             13252\n",
       "1   10002  1985-11-21            1             13469\n",
       "2   10003  1986-08-28            1             13189\n",
       "3   10004  1986-12-01            2             13094\n",
       "4   10005  1989-09-12            2             12078"
      ]
     },
     "execution_count": 7,
     "metadata": {},
     "output_type": "execute_result"
    }
   ],
   "source": [
    "employee_title_df.head()"
   ]
  },
  {
   "cell_type": "code",
   "execution_count": 21,
   "id": "eb75f0ad",
   "metadata": {
    "scrolled": false
   },
   "outputs": [
    {
     "data": {
      "image/png": "[encoded data removed]",
      "text/plain": [
       "<Figure size 360x360 with 1 Axes>"
      ]
     },
     "metadata": {
      "needs_background": "light"
     },
     "output_type": "display_data"
    }
   ],
   "source": [
    "sns.catplot(data=employee_title_df, x='title_count', y='days_since_hired');"
   ]
  },
  {
   "cell_type": "code",
   "execution_count": 204,
   "id": "95cdd9bc",
   "metadata": {},
   "outputs": [
    {
     "data": {
      "text/plain": [
       "(0.2665989299136619, 0.0)"
      ]
     },
     "execution_count": 204,
     "metadata": {},
     "output_type": "execute_result"
    }
   ],
   "source": [
    "r, p = stats.pearsonr(employee_title_df.title_count, employee_title_df.days_since_hired)\n",
    "r, p"
   ]
  },
  {
   "cell_type": "markdown",
   "id": "6d300f5a",
   "metadata": {},
   "source": [
    "- 0: No relationship\n",
    "- 0 - 0.2: Weak positive relationship\n",
    "- **0.2 - 0.4: Moderate positive relationship**\n",
    "- 0.4 - 1: Strong positive relationship\n",
    "\n",
    "_________________________________________\n",
    "- 0 - -0.2: Weak negative relationship\n",
    "- -0.2 - -0.4: Moderate negative relationship\n",
    "- -0.4 - -1: Strong negative relationship"
   ]
  },
  {
   "cell_type": "markdown",
   "id": "e8c56bab",
   "metadata": {},
   "source": [
    "### 4. Use the sleepstudy data.\n",
    "- Is there a relationship between days and reaction time?"
   ]
  },
  {
   "cell_type": "code",
   "execution_count": 80,
   "id": "fd548f6a",
   "metadata": {},
   "outputs": [
    {
     "data": {
      "text/html": [
       "<div>\n",
       "<style scoped>\n",
       "    .dataframe tbody tr th:only-of-type {\n",
       "        vertical-align: middle;\n",
       "    }\n",
       "\n",
       "    .dataframe tbody tr th {\n",
       "        vertical-align: top;\n",
       "    }\n",
       "\n",
       "    .dataframe thead th {\n",
       "        text-align: right;\n",
       "    }\n",
       "</style>\n",
       "<table border=\"1\" class=\"dataframe\">\n",
       "  <thead>\n",
       "    <tr style=\"text-align: right;\">\n",
       "      <th></th>\n",
       "      <th>Reaction</th>\n",
       "      <th>Days</th>\n",
       "      <th>Subject</th>\n",
       "    </tr>\n",
       "  </thead>\n",
       "  <tbody>\n",
       "    <tr>\n",
       "      <th>1</th>\n",
       "      <td>249.5600</td>\n",
       "      <td>0</td>\n",
       "      <td>308</td>\n",
       "    </tr>\n",
       "    <tr>\n",
       "      <th>2</th>\n",
       "      <td>258.7047</td>\n",
       "      <td>1</td>\n",
       "      <td>308</td>\n",
       "    </tr>\n",
       "    <tr>\n",
       "      <th>3</th>\n",
       "      <td>250.8006</td>\n",
       "      <td>2</td>\n",
       "      <td>308</td>\n",
       "    </tr>\n",
       "    <tr>\n",
       "      <th>4</th>\n",
       "      <td>321.4398</td>\n",
       "      <td>3</td>\n",
       "      <td>308</td>\n",
       "    </tr>\n",
       "    <tr>\n",
       "      <th>5</th>\n",
       "      <td>356.8519</td>\n",
       "      <td>4</td>\n",
       "      <td>308</td>\n",
       "    </tr>\n",
       "  </tbody>\n",
       "</table>\n",
       "</div>"
      ],
      "text/plain": [
       "   Reaction  Days  Subject\n",
       "1  249.5600     0      308\n",
       "2  258.7047     1      308\n",
       "3  250.8006     2      308\n",
       "4  321.4398     3      308\n",
       "5  356.8519     4      308"
      ]
     },
     "execution_count": 80,
     "metadata": {},
     "output_type": "execute_result"
    }
   ],
   "source": [
    "sleepstudy = data('sleepstudy')\n",
    "sleepstudy.head()"
   ]
  },
  {
   "cell_type": "code",
   "execution_count": 81,
   "id": "f077eb33",
   "metadata": {
    "scrolled": false
   },
   "outputs": [
    {
     "data": {
      "image/png": "[encoded data removed]",
      "text/plain": [
       "<Figure size 432x288 with 1 Axes>"
      ]
     },
     "metadata": {
      "needs_background": "light"
     },
     "output_type": "display_data"
    }
   ],
   "source": [
    "plt.scatter(x=sleepstudy.Reaction, y=sleepstudy.Days);"
   ]
  },
  {
   "cell_type": "code",
   "execution_count": 82,
   "id": "2a2a1d92",
   "metadata": {},
   "outputs": [
    {
     "data": {
      "image/png": "[encoded data removed]",
      "text/plain": [
       "<Figure size 360x360 with 1 Axes>"
      ]
     },
     "metadata": {
      "needs_background": "light"
     },
     "output_type": "display_data"
    }
   ],
   "source": [
    "sns.lmplot(data=sleepstudy, x=\"Reaction\", y=\"Days\");"
   ]
  },
  {
   "cell_type": "code",
   "execution_count": 211,
   "id": "149a4362",
   "metadata": {},
   "outputs": [
    {
     "data": {
      "text/plain": [
       "(0.5352302262650253, 9.894096322214812e-15)"
      ]
     },
     "execution_count": 211,
     "metadata": {},
     "output_type": "execute_result"
    }
   ],
   "source": [
    "r, p = stats.pearsonr(sleepstudy.Reaction, sleepstudy.Days)\n",
    "r, p"
   ]
  },
  {
   "cell_type": "markdown",
   "id": "541f043b",
   "metadata": {},
   "source": [
    "- 0: No relationship\n",
    "- 0 - 0.2: Weak positive relationship\n",
    "- 0.2 - 0.4: Moderate positive relationship\n",
    "- **0.4 - 1: Strong positive relationship**\n",
    "\n",
    "_________________________________________\n",
    "- 0 - -0.2: Weak negative relationship\n",
    "- -0.2 - -0.4: Moderate negative relationship\n",
    "- -0.4 - -1: Strong negative relationship"
   ]
  },
  {
   "cell_type": "markdown",
   "id": "9eb26937",
   "metadata": {},
   "source": [
    "# Chi Square"
   ]
  },
  {
   "cell_type": "markdown",
   "id": "88bd49a7",
   "metadata": {},
   "source": [
    "### 1. Answer with the type of stats test you would use (assume normal distribution):\n",
    "- Do students get better test grades if they have a rubber duck on their desk?**one sample one-tailed ttest**\n",
    "- Does smoking affect whether or not someone has lung cancer?**$\\chi^2$**\n",
    "- Is gender independent of a person’s blood type?**$\\chi^2$**\n",
    "- A farming company wants to know if a new fertilizer has improved crop yield or not **two sample one-tailed ttest**\n",
    "- Does the length of time of the lecture correlate with a students grade?**$\\chi^2$**\n",
    "- Do people with dogs live in apartments more than people with cats?**$\\chi^2$**"
   ]
  },
  {
   "cell_type": "markdown",
   "id": "4bdbae00",
   "metadata": {},
   "source": [
    "### 2. Use the following contingency table to help answer the question of whether using a macbook and being a codeup student are independent of each other."
   ]
  },
  {
   "cell_type": "code",
   "execution_count": 49,
   "id": "7ab40f2b",
   "metadata": {},
   "outputs": [
    {
     "data": {
      "text/html": [
       "<div>\n",
       "<style scoped>\n",
       "    .dataframe tbody tr th:only-of-type {\n",
       "        vertical-align: middle;\n",
       "    }\n",
       "\n",
       "    .dataframe tbody tr th {\n",
       "        vertical-align: top;\n",
       "    }\n",
       "\n",
       "    .dataframe thead th {\n",
       "        text-align: right;\n",
       "    }\n",
       "</style>\n",
       "<table border=\"1\" class=\"dataframe\">\n",
       "  <thead>\n",
       "    <tr style=\"text-align: right;\">\n",
       "      <th></th>\n",
       "      <th>codeup</th>\n",
       "      <th>not_codeup</th>\n",
       "    </tr>\n",
       "  </thead>\n",
       "  <tbody>\n",
       "    <tr>\n",
       "      <th>use_mac</th>\n",
       "      <td>49</td>\n",
       "      <td>20</td>\n",
       "    </tr>\n",
       "    <tr>\n",
       "      <th>no_use_mac</th>\n",
       "      <td>1</td>\n",
       "      <td>30</td>\n",
       "    </tr>\n",
       "  </tbody>\n",
       "</table>\n",
       "</div>"
      ],
      "text/plain": [
       "            codeup  not_codeup\n",
       "use_mac         49          20\n",
       "no_use_mac       1          30"
      ]
     },
     "execution_count": 49,
     "metadata": {},
     "output_type": "execute_result"
    }
   ],
   "source": [
    "cool_df = pd.DataFrame(np.array([[49, 20],[1,30]]),columns=['codeup','not_codeup'], index=['use_mac','no_use_mac'])\n",
    "cool_df"
   ]
  },
  {
   "cell_type": "code",
   "execution_count": 86,
   "id": "7d485dbd",
   "metadata": {},
   "outputs": [],
   "source": [
    "chi2, p, degf, expected = stats.chi2_contingency(cool_df)"
   ]
  },
  {
   "cell_type": "code",
   "execution_count": 90,
   "id": "2357f537",
   "metadata": {},
   "outputs": [
    {
     "name": "stdout",
     "output_type": "stream",
     "text": [
      "Observed\n",
      "\n",
      "[[49 20]\n",
      " [ 1 30]]\n",
      "---\n",
      "Expected\n",
      "\n",
      "[[34.5 34.5]\n",
      " [15.5 15.5]]\n",
      "---\n",
      "\n",
      "chi^2 = 36.6526\n",
      "p     = 0.0000\n"
     ]
    }
   ],
   "source": [
    "print('Observed\\n')\n",
    "print(cool_df.values)\n",
    "print('---\\nExpected\\n')\n",
    "print(expected)\n",
    "print('---\\n')\n",
    "print(f'chi^2 = {chi2:.4f}')\n",
    "print(f'p     = {p:.4f}')"
   ]
  },
  {
   "cell_type": "markdown",
   "id": "5a453762",
   "metadata": {},
   "source": [
    "### 3. Choose another 2 categorical variables from the mpg dataset and perform a $\\chi^2$ contingency table test with them. Be sure to state your null and alternative hypotheses."
   ]
  },
  {
   "cell_type": "code",
   "execution_count": 60,
   "id": "7f8acc11",
   "metadata": {
    "scrolled": true
   },
   "outputs": [
    {
     "data": {
      "text/plain": [
       "Index(['manufacturer', 'model', 'displ', 'year', 'cyl', 'trans', 'drv', 'city',\n",
       "       'highway', 'fl', 'class', 'average_mileage', 'is_automatic'],\n",
       "      dtype='object')"
      ]
     },
     "execution_count": 60,
     "metadata": {},
     "output_type": "execute_result"
    }
   ],
   "source": [
    "#research data for other categorical variables\n",
    "mpg.keys()"
   ]
  },
  {
   "cell_type": "code",
   "execution_count": 59,
   "id": "d464f53c",
   "metadata": {},
   "outputs": [
    {
     "data": {
      "text/plain": [
       "array(['f', '4', 'r'], dtype=object)"
      ]
     },
     "execution_count": 59,
     "metadata": {},
     "output_type": "execute_result"
    }
   ],
   "source": [
    "mpg.drv.unique()"
   ]
  },
  {
   "cell_type": "code",
   "execution_count": 61,
   "id": "33403059",
   "metadata": {},
   "outputs": [
    {
     "data": {
      "text/plain": [
       "array([4, 6, 8, 5])"
      ]
     },
     "execution_count": 61,
     "metadata": {},
     "output_type": "execute_result"
    }
   ],
   "source": [
    "mpg.cyl.unique()"
   ]
  },
  {
   "cell_type": "markdown",
   "id": "7a922a67",
   "metadata": {},
   "source": [
    "**B. Set Hypothesis**\n",
    "\n",
    "$H_{0}$: Drive is independent of number of cylinders\n",
    "\n",
    "$H_{a}$: Drive is dependent of number of cylinders"
   ]
  },
  {
   "cell_type": "code",
   "execution_count": 95,
   "id": "ca20e76c",
   "metadata": {},
   "outputs": [
    {
     "data": {
      "text/html": [
       "<div>\n",
       "<style scoped>\n",
       "    .dataframe tbody tr th:only-of-type {\n",
       "        vertical-align: middle;\n",
       "    }\n",
       "\n",
       "    .dataframe tbody tr th {\n",
       "        vertical-align: top;\n",
       "    }\n",
       "\n",
       "    .dataframe thead th {\n",
       "        text-align: right;\n",
       "    }\n",
       "</style>\n",
       "<table border=\"1\" class=\"dataframe\">\n",
       "  <thead>\n",
       "    <tr style=\"text-align: right;\">\n",
       "      <th>cyl</th>\n",
       "      <th>4</th>\n",
       "      <th>5</th>\n",
       "      <th>6</th>\n",
       "      <th>8</th>\n",
       "    </tr>\n",
       "    <tr>\n",
       "      <th>drv</th>\n",
       "      <th></th>\n",
       "      <th></th>\n",
       "      <th></th>\n",
       "      <th></th>\n",
       "    </tr>\n",
       "  </thead>\n",
       "  <tbody>\n",
       "    <tr>\n",
       "      <th>4</th>\n",
       "      <td>23</td>\n",
       "      <td>0</td>\n",
       "      <td>32</td>\n",
       "      <td>48</td>\n",
       "    </tr>\n",
       "    <tr>\n",
       "      <th>f</th>\n",
       "      <td>58</td>\n",
       "      <td>4</td>\n",
       "      <td>43</td>\n",
       "      <td>1</td>\n",
       "    </tr>\n",
       "    <tr>\n",
       "      <th>r</th>\n",
       "      <td>0</td>\n",
       "      <td>0</td>\n",
       "      <td>4</td>\n",
       "      <td>21</td>\n",
       "    </tr>\n",
       "  </tbody>\n",
       "</table>\n",
       "</div>"
      ],
      "text/plain": [
       "cyl   4  5   6   8\n",
       "drv               \n",
       "4    23  0  32  48\n",
       "f    58  4  43   1\n",
       "r     0  0   4  21"
      ]
     },
     "execution_count": 95,
     "metadata": {},
     "output_type": "execute_result"
    }
   ],
   "source": [
    "drv_cyl = pd.crosstab(mpg.drv, mpg.cyl)\n",
    "drv_cyl"
   ]
  },
  {
   "cell_type": "code",
   "execution_count": 96,
   "id": "5c282c7a",
   "metadata": {},
   "outputs": [],
   "source": [
    "chi2, p, degf, expected = stats.chi2_contingency(drv_cyl)"
   ]
  },
  {
   "cell_type": "code",
   "execution_count": 97,
   "id": "df0e1db3",
   "metadata": {},
   "outputs": [
    {
     "name": "stdout",
     "output_type": "stream",
     "text": [
      "Observed\n",
      "\n",
      "[[23  0 32 48]\n",
      " [58  4 43  1]\n",
      " [ 0  0  4 21]]\n",
      "---\n",
      "Expected\n",
      "\n",
      "[[35.65384615  1.76068376 34.77350427 30.81196581]\n",
      " [36.69230769  1.81196581 35.78632479 31.70940171]\n",
      " [ 8.65384615  0.42735043  8.44017094  7.47863248]]\n",
      "---\n",
      "\n",
      "chi^2 = 98.1355\n",
      "p     = 0.0000\n"
     ]
    }
   ],
   "source": [
    "print('Observed\\n')\n",
    "print(drv_cyl.values)\n",
    "print('---\\nExpected\\n')\n",
    "print(expected)\n",
    "print('---\\n')\n",
    "print(f'chi^2 = {chi2:.4f}')\n",
    "print(f'p     = {p:.4f}')"
   ]
  },
  {
   "cell_type": "markdown",
   "id": "b73eafb4",
   "metadata": {},
   "source": [
    "### 4. Use the data from the employees database to answer these questions:"
   ]
  },
  {
   "cell_type": "markdown",
   "id": "aaed8372",
   "metadata": {},
   "source": [
    "- Is an employee's gender independent of whether an employee works in sales or marketing? (only look at current employees)"
   ]
  },
  {
   "cell_type": "markdown",
   "id": "c816e4a0",
   "metadata": {},
   "source": [
    "**Set Hypothesis**\n",
    "\n",
    "$H_{0}$: Gender is independent of whether the employee works in sales or marketing\n",
    "\n",
    "$H_{a}$: Gender is dependent of whether the employee works in sales or marketing"
   ]
  },
  {
   "cell_type": "code",
   "execution_count": 68,
   "id": "02b3d17b",
   "metadata": {},
   "outputs": [],
   "source": [
    "#get the data\n",
    "employee_gender_dept_df =  pd.read_sql('''\n",
    "SELECT e.emp_no, gender, dept_name\n",
    "FROM employees e\n",
    "JOIN dept_emp de USING(emp_no)\n",
    "JOIN departments d USING (dept_no)\n",
    "WHERE de.to_date > CURDATE();\n",
    "''', get_db_url('employees'))"
   ]
  },
  {
   "cell_type": "code",
   "execution_count": 69,
   "id": "4a278eea",
   "metadata": {},
   "outputs": [
    {
     "data": {
      "text/html": [
       "<div>\n",
       "<style scoped>\n",
       "    .dataframe tbody tr th:only-of-type {\n",
       "        vertical-align: middle;\n",
       "    }\n",
       "\n",
       "    .dataframe tbody tr th {\n",
       "        vertical-align: top;\n",
       "    }\n",
       "\n",
       "    .dataframe thead th {\n",
       "        text-align: right;\n",
       "    }\n",
       "</style>\n",
       "<table border=\"1\" class=\"dataframe\">\n",
       "  <thead>\n",
       "    <tr style=\"text-align: right;\">\n",
       "      <th></th>\n",
       "      <th>emp_no</th>\n",
       "      <th>gender</th>\n",
       "      <th>dept_name</th>\n",
       "    </tr>\n",
       "  </thead>\n",
       "  <tbody>\n",
       "    <tr>\n",
       "      <th>0</th>\n",
       "      <td>10038</td>\n",
       "      <td>M</td>\n",
       "      <td>Customer Service</td>\n",
       "    </tr>\n",
       "    <tr>\n",
       "      <th>1</th>\n",
       "      <td>10049</td>\n",
       "      <td>F</td>\n",
       "      <td>Customer Service</td>\n",
       "    </tr>\n",
       "    <tr>\n",
       "      <th>2</th>\n",
       "      <td>10060</td>\n",
       "      <td>M</td>\n",
       "      <td>Customer Service</td>\n",
       "    </tr>\n",
       "    <tr>\n",
       "      <th>3</th>\n",
       "      <td>10088</td>\n",
       "      <td>F</td>\n",
       "      <td>Customer Service</td>\n",
       "    </tr>\n",
       "    <tr>\n",
       "      <th>4</th>\n",
       "      <td>10112</td>\n",
       "      <td>F</td>\n",
       "      <td>Customer Service</td>\n",
       "    </tr>\n",
       "  </tbody>\n",
       "</table>\n",
       "</div>"
      ],
      "text/plain": [
       "   emp_no gender         dept_name\n",
       "0   10038      M  Customer Service\n",
       "1   10049      F  Customer Service\n",
       "2   10060      M  Customer Service\n",
       "3   10088      F  Customer Service\n",
       "4   10112      F  Customer Service"
      ]
     },
     "execution_count": 69,
     "metadata": {},
     "output_type": "execute_result"
    }
   ],
   "source": [
    "employee_gender_dept_df.head()"
   ]
  },
  {
   "cell_type": "code",
   "execution_count": 114,
   "id": "19121367",
   "metadata": {
    "scrolled": true
   },
   "outputs": [],
   "source": [
    "sales_market = employee_gender_dept_df\\\n",
    "[(employee_gender_dept_df.dept_name == 'Sales')\\\n",
    " | (employee_gender_dept_df.dept_name == 'Marketing')]"
   ]
  },
  {
   "cell_type": "code",
   "execution_count": 115,
   "id": "17129573",
   "metadata": {},
   "outputs": [],
   "source": [
    "gender_dept = pd.crosstab(sales_market.gender, sales_market.dept_name)"
   ]
  },
  {
   "cell_type": "code",
   "execution_count": 116,
   "id": "6f564822",
   "metadata": {},
   "outputs": [
    {
     "data": {
      "text/html": [
       "<div>\n",
       "<style scoped>\n",
       "    .dataframe tbody tr th:only-of-type {\n",
       "        vertical-align: middle;\n",
       "    }\n",
       "\n",
       "    .dataframe tbody tr th {\n",
       "        vertical-align: top;\n",
       "    }\n",
       "\n",
       "    .dataframe thead th {\n",
       "        text-align: right;\n",
       "    }\n",
       "</style>\n",
       "<table border=\"1\" class=\"dataframe\">\n",
       "  <thead>\n",
       "    <tr style=\"text-align: right;\">\n",
       "      <th>dept_name</th>\n",
       "      <th>Marketing</th>\n",
       "      <th>Sales</th>\n",
       "    </tr>\n",
       "    <tr>\n",
       "      <th>gender</th>\n",
       "      <th></th>\n",
       "      <th></th>\n",
       "    </tr>\n",
       "  </thead>\n",
       "  <tbody>\n",
       "    <tr>\n",
       "      <th>F</th>\n",
       "      <td>5864</td>\n",
       "      <td>14999</td>\n",
       "    </tr>\n",
       "    <tr>\n",
       "      <th>M</th>\n",
       "      <td>8978</td>\n",
       "      <td>22702</td>\n",
       "    </tr>\n",
       "  </tbody>\n",
       "</table>\n",
       "</div>"
      ],
      "text/plain": [
       "dept_name  Marketing  Sales\n",
       "gender                     \n",
       "F               5864  14999\n",
       "M               8978  22702"
      ]
     },
     "execution_count": 116,
     "metadata": {},
     "output_type": "execute_result"
    }
   ],
   "source": [
    "gender_dept"
   ]
  },
  {
   "cell_type": "code",
   "execution_count": 117,
   "id": "9b1ec896",
   "metadata": {},
   "outputs": [],
   "source": [
    "chi2, p, degf, expected = stats.chi2_contingency(gender_dept)"
   ]
  },
  {
   "cell_type": "code",
   "execution_count": 118,
   "id": "16e6e61c",
   "metadata": {},
   "outputs": [
    {
     "name": "stdout",
     "output_type": "stream",
     "text": [
      "Observed\n",
      "\n",
      "[[ 7007 24533  5014  5147  5864 21393  5872  6181 14999]\n",
      " [10562 36853  7423  7751  8978 31911  8674  9260 22702]]\n",
      "---\n",
      "Expected\n",
      "\n",
      "[[ 5893.2426013 14969.7573987]\n",
      " [ 8948.7573987 22731.2426013]]\n",
      "---\n",
      "\n",
      "chi^2 = 0.3240\n",
      "p     = 0.5692\n"
     ]
    }
   ],
   "source": [
    "print('Observed\\n')\n",
    "print(drv_cyl.values)\n",
    "print('---\\nExpected\\n')\n",
    "print(expected)\n",
    "print('---\\n')\n",
    "print(f'chi^2 = {chi2:.4f}')\n",
    "print(f'p     = {p:.4f}')"
   ]
  },
  {
   "cell_type": "markdown",
   "id": "1f3d95e5",
   "metadata": {},
   "source": [
    "**Decide**\n",
    "\n",
    "Is $p < \\alpha$ ?\n",
    "\n",
    "$\\alpha$ = 0.05\n",
    "\n",
    "From our $\\chi^2$ test we see $p > \\alpha$\n",
    "\n",
    "**So we fail to reject the null hypothesis**\n",
    "\n",
    "**Gender is independent of whether the person is in sales or marketing**"
   ]
  },
  {
   "cell_type": "markdown",
   "id": "6e6b8623",
   "metadata": {},
   "source": [
    "- Is an employee's gender independent of whether or not they are or have been a manager?"
   ]
  },
  {
   "cell_type": "markdown",
   "id": "d81aab92",
   "metadata": {},
   "source": [
    "**Set Hypothesis**\n",
    "\n",
    "$H_{0}$: Gender is independent of whether or not they are or have been a manager\n",
    "\n",
    "$H_{a}$: Gender is dependent of whether or not they are or have been a manager"
   ]
  },
  {
   "cell_type": "code",
   "execution_count": 125,
   "id": "3bbb0167",
   "metadata": {},
   "outputs": [],
   "source": [
    "df = pd.read_sql('''\n",
    "SELECT e.emp_no, gender, title\n",
    "FROM employees e\n",
    "JOIN titles t USING(emp_no);\n",
    "''', get_db_url('employees'))"
   ]
  },
  {
   "cell_type": "code",
   "execution_count": 134,
   "id": "f57bc382",
   "metadata": {},
   "outputs": [
    {
     "data": {
      "text/html": [
       "<div>\n",
       "<style scoped>\n",
       "    .dataframe tbody tr th:only-of-type {\n",
       "        vertical-align: middle;\n",
       "    }\n",
       "\n",
       "    .dataframe tbody tr th {\n",
       "        vertical-align: top;\n",
       "    }\n",
       "\n",
       "    .dataframe thead th {\n",
       "        text-align: right;\n",
       "    }\n",
       "</style>\n",
       "<table border=\"1\" class=\"dataframe\">\n",
       "  <thead>\n",
       "    <tr style=\"text-align: right;\">\n",
       "      <th></th>\n",
       "      <th>emp_no</th>\n",
       "      <th>gender</th>\n",
       "      <th>title</th>\n",
       "      <th>is_manager</th>\n",
       "    </tr>\n",
       "  </thead>\n",
       "  <tbody>\n",
       "    <tr>\n",
       "      <th>0</th>\n",
       "      <td>10001</td>\n",
       "      <td>M</td>\n",
       "      <td>Senior Engineer</td>\n",
       "      <td>False</td>\n",
       "    </tr>\n",
       "    <tr>\n",
       "      <th>1</th>\n",
       "      <td>10002</td>\n",
       "      <td>F</td>\n",
       "      <td>Staff</td>\n",
       "      <td>False</td>\n",
       "    </tr>\n",
       "    <tr>\n",
       "      <th>2</th>\n",
       "      <td>10003</td>\n",
       "      <td>M</td>\n",
       "      <td>Senior Engineer</td>\n",
       "      <td>False</td>\n",
       "    </tr>\n",
       "    <tr>\n",
       "      <th>3</th>\n",
       "      <td>10004</td>\n",
       "      <td>M</td>\n",
       "      <td>Engineer</td>\n",
       "      <td>False</td>\n",
       "    </tr>\n",
       "    <tr>\n",
       "      <th>4</th>\n",
       "      <td>10004</td>\n",
       "      <td>M</td>\n",
       "      <td>Senior Engineer</td>\n",
       "      <td>False</td>\n",
       "    </tr>\n",
       "    <tr>\n",
       "      <th>...</th>\n",
       "      <td>...</td>\n",
       "      <td>...</td>\n",
       "      <td>...</td>\n",
       "      <td>...</td>\n",
       "    </tr>\n",
       "    <tr>\n",
       "      <th>443303</th>\n",
       "      <td>499997</td>\n",
       "      <td>M</td>\n",
       "      <td>Engineer</td>\n",
       "      <td>False</td>\n",
       "    </tr>\n",
       "    <tr>\n",
       "      <th>443304</th>\n",
       "      <td>499997</td>\n",
       "      <td>M</td>\n",
       "      <td>Senior Engineer</td>\n",
       "      <td>False</td>\n",
       "    </tr>\n",
       "    <tr>\n",
       "      <th>443305</th>\n",
       "      <td>499998</td>\n",
       "      <td>M</td>\n",
       "      <td>Senior Staff</td>\n",
       "      <td>False</td>\n",
       "    </tr>\n",
       "    <tr>\n",
       "      <th>443306</th>\n",
       "      <td>499998</td>\n",
       "      <td>M</td>\n",
       "      <td>Staff</td>\n",
       "      <td>False</td>\n",
       "    </tr>\n",
       "    <tr>\n",
       "      <th>443307</th>\n",
       "      <td>499999</td>\n",
       "      <td>M</td>\n",
       "      <td>Engineer</td>\n",
       "      <td>False</td>\n",
       "    </tr>\n",
       "  </tbody>\n",
       "</table>\n",
       "<p>443308 rows × 4 columns</p>\n",
       "</div>"
      ],
      "text/plain": [
       "        emp_no gender            title  is_manager\n",
       "0        10001      M  Senior Engineer       False\n",
       "1        10002      F            Staff       False\n",
       "2        10003      M  Senior Engineer       False\n",
       "3        10004      M         Engineer       False\n",
       "4        10004      M  Senior Engineer       False\n",
       "...        ...    ...              ...         ...\n",
       "443303  499997      M         Engineer       False\n",
       "443304  499997      M  Senior Engineer       False\n",
       "443305  499998      M     Senior Staff       False\n",
       "443306  499998      M            Staff       False\n",
       "443307  499999      M         Engineer       False\n",
       "\n",
       "[443308 rows x 4 columns]"
      ]
     },
     "execution_count": 134,
     "metadata": {},
     "output_type": "execute_result"
    }
   ],
   "source": [
    "df['is_manager'] = df.title.str.contains('Manager')\n",
    "df"
   ]
  },
  {
   "cell_type": "code",
   "execution_count": 135,
   "id": "e8538921",
   "metadata": {},
   "outputs": [],
   "source": [
    "gender_title = pd.crosstab(df.gender, df.is_manager)"
   ]
  },
  {
   "cell_type": "code",
   "execution_count": 136,
   "id": "60c07fbf",
   "metadata": {},
   "outputs": [
    {
     "data": {
      "text/html": [
       "<div>\n",
       "<style scoped>\n",
       "    .dataframe tbody tr th:only-of-type {\n",
       "        vertical-align: middle;\n",
       "    }\n",
       "\n",
       "    .dataframe tbody tr th {\n",
       "        vertical-align: top;\n",
       "    }\n",
       "\n",
       "    .dataframe thead th {\n",
       "        text-align: right;\n",
       "    }\n",
       "</style>\n",
       "<table border=\"1\" class=\"dataframe\">\n",
       "  <thead>\n",
       "    <tr style=\"text-align: right;\">\n",
       "      <th>is_manager</th>\n",
       "      <th>False</th>\n",
       "      <th>True</th>\n",
       "    </tr>\n",
       "    <tr>\n",
       "      <th>gender</th>\n",
       "      <th></th>\n",
       "      <th></th>\n",
       "    </tr>\n",
       "  </thead>\n",
       "  <tbody>\n",
       "    <tr>\n",
       "      <th>F</th>\n",
       "      <td>177211</td>\n",
       "      <td>13</td>\n",
       "    </tr>\n",
       "    <tr>\n",
       "      <th>M</th>\n",
       "      <td>266073</td>\n",
       "      <td>11</td>\n",
       "    </tr>\n",
       "  </tbody>\n",
       "</table>\n",
       "</div>"
      ],
      "text/plain": [
       "is_manager   False  True\n",
       "gender                  \n",
       "F           177211    13\n",
       "M           266073    11"
      ]
     },
     "execution_count": 136,
     "metadata": {},
     "output_type": "execute_result"
    }
   ],
   "source": [
    "gender_title"
   ]
  },
  {
   "cell_type": "code",
   "execution_count": 137,
   "id": "6841c5fe",
   "metadata": {},
   "outputs": [],
   "source": [
    "chi2, p, degf, expected = stats.chi2_contingency(gender_title)"
   ]
  },
  {
   "cell_type": "code",
   "execution_count": 138,
   "id": "84f770e8",
   "metadata": {},
   "outputs": [
    {
     "name": "stdout",
     "output_type": "stream",
     "text": [
      "Observed\n",
      "\n",
      "[[177211     13]\n",
      " [266073     11]]\n",
      "---\n",
      "Expected\n",
      "\n",
      "[[1.77214405e+05 9.59462947e+00]\n",
      " [2.66069595e+05 1.44053705e+01]]\n",
      "---\n",
      "\n",
      "chi^2 = 1.4658\n",
      "p     = 0.2260\n"
     ]
    }
   ],
   "source": [
    "print('Observed\\n')\n",
    "print(gender_title.values)\n",
    "print('---\\nExpected\\n')\n",
    "print(expected)\n",
    "print('---\\n')\n",
    "print(f'chi^2 = {chi2:.4f}')\n",
    "print(f'p     = {p:.4f}')"
   ]
  },
  {
   "cell_type": "markdown",
   "id": "b066dfae",
   "metadata": {},
   "source": [
    "**Decide**\n",
    "\n",
    "Is $p < \\alpha$ ?\n",
    "\n",
    "$\\alpha$ = 0.05\n",
    "\n",
    "From our $\\chi^2$ test we see $p > \\alpha$\n",
    "\n",
    "**So we fail to reject the null hypothesis**"
   ]
  },
  {
   "cell_type": "markdown",
   "id": "52ad46b1",
   "metadata": {},
   "source": [
    "**We assume gender is independent of being a manager**"
   ]
  },
  {
   "cell_type": "code",
   "execution_count": null,
   "id": "e1fda55c",
   "metadata": {},
   "outputs": [],
   "source": []
  }
 ],
 "metadata": {
  "kernelspec": {
   "display_name": "Python 3 (ipykernel)",
   "language": "python",
   "name": "python3"
  },
  "language_info": {
   "codemirror_mode": {
    "name": "ipython",
    "version": 3
   },
   "file_extension": ".py",
   "mimetype": "text/x-python",
   "name": "python",
   "nbconvert_exporter": "python",
   "pygments_lexer": "ipython3",
   "version": "3.9.12"
  }
 },
 "nbformat": 4,
 "nbformat_minor": 5
}
