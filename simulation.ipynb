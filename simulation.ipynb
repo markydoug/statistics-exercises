{
 "cells": [
  {
   "cell_type": "code",
   "execution_count": 85,
   "id": "76b3c21b",
   "metadata": {},
   "outputs": [],
   "source": [
    "import numpy as np\n",
    "import pandas as pd\n",
    "import matplotlib.pyplot as plt\n",
    "%config InlineBackend.figure_format = 'retina'\n",
    "import viz # curriculum example visualizations\n",
    "\n",
    "np.random.seed(29)\n",
    "\n",
    "n_trials = 100_000"
   ]
  },
  {
   "cell_type": "markdown",
   "id": "c07e8b73",
   "metadata": {},
   "source": [
    "### 1. How likely is it that you roll doubles when rolling two dice?"
   ]
  },
  {
   "cell_type": "code",
   "execution_count": 86,
   "id": "fece36c4",
   "metadata": {},
   "outputs": [
    {
     "data": {
      "text/plain": [
       "array([[6, 4],\n",
       "       [5, 6],\n",
       "       [3, 1],\n",
       "       ...,\n",
       "       [5, 6],\n",
       "       [5, 5],\n",
       "       [6, 5]])"
      ]
     },
     "execution_count": 86,
     "metadata": {},
     "output_type": "execute_result"
    }
   ],
   "source": [
    "n_dice = 2\n",
    "\n",
    "rolls = np.random.choice([1, 2, 3, 4, 5, 6], size = (n_trials, n_dice))\n",
    "rolls"
   ]
  },
  {
   "cell_type": "code",
   "execution_count": 87,
   "id": "deb2d92d",
   "metadata": {},
   "outputs": [
    {
     "data": {
      "text/html": [
       "<div>\n",
       "<style scoped>\n",
       "    .dataframe tbody tr th:only-of-type {\n",
       "        vertical-align: middle;\n",
       "    }\n",
       "\n",
       "    .dataframe tbody tr th {\n",
       "        vertical-align: top;\n",
       "    }\n",
       "\n",
       "    .dataframe thead th {\n",
       "        text-align: right;\n",
       "    }\n",
       "</style>\n",
       "<table border=\"1\" class=\"dataframe\">\n",
       "  <thead>\n",
       "    <tr style=\"text-align: right;\">\n",
       "      <th></th>\n",
       "      <th>roll_1</th>\n",
       "      <th>roll_2</th>\n",
       "    </tr>\n",
       "  </thead>\n",
       "  <tbody>\n",
       "    <tr>\n",
       "      <th>0</th>\n",
       "      <td>6</td>\n",
       "      <td>4</td>\n",
       "    </tr>\n",
       "    <tr>\n",
       "      <th>1</th>\n",
       "      <td>5</td>\n",
       "      <td>6</td>\n",
       "    </tr>\n",
       "    <tr>\n",
       "      <th>2</th>\n",
       "      <td>3</td>\n",
       "      <td>1</td>\n",
       "    </tr>\n",
       "    <tr>\n",
       "      <th>3</th>\n",
       "      <td>1</td>\n",
       "      <td>2</td>\n",
       "    </tr>\n",
       "    <tr>\n",
       "      <th>4</th>\n",
       "      <td>2</td>\n",
       "      <td>1</td>\n",
       "    </tr>\n",
       "  </tbody>\n",
       "</table>\n",
       "</div>"
      ],
      "text/plain": [
       "   roll_1  roll_2\n",
       "0       6       4\n",
       "1       5       6\n",
       "2       3       1\n",
       "3       1       2\n",
       "4       2       1"
      ]
     },
     "execution_count": 87,
     "metadata": {},
     "output_type": "execute_result"
    }
   ],
   "source": [
    "rolls_df = pd.DataFrame(rolls, columns=['roll_1', 'roll_2'])\n",
    "rolls_df.head()"
   ]
  },
  {
   "cell_type": "code",
   "execution_count": 88,
   "id": "fa2e7a83",
   "metadata": {
    "scrolled": true
   },
   "outputs": [],
   "source": [
    "rolls_df[\"doubles\"] = rolls_df['roll_1'] == rolls_df[\"roll_2\"]\n",
    "\n"
   ]
  },
  {
   "cell_type": "code",
   "execution_count": 89,
   "id": "3fa4b5b7",
   "metadata": {},
   "outputs": [
    {
     "data": {
      "text/plain": [
       "0.16645"
      ]
     },
     "execution_count": 89,
     "metadata": {},
     "output_type": "execute_result"
    }
   ],
   "source": [
    "rolls_df.doubles.mean()"
   ]
  },
  {
   "cell_type": "markdown",
   "id": "beaab3eb",
   "metadata": {},
   "source": [
    "### 2. If you flip 8 coins, what is the probability of getting exactly 3 heads? What is the probability of getting more than 3 heads?"
   ]
  },
  {
   "cell_type": "code",
   "execution_count": 90,
   "id": "81f9c0d4",
   "metadata": {},
   "outputs": [],
   "source": [
    "#Get trial prepared, 10,000 flips of 8 coins\n",
    "\n",
    "n_coin = ncols = 8\n",
    "\n",
    "#True is heads and False is tails\n",
    "flips = np.random.choice([True, False], size = (n_trials, n_coin))"
   ]
  },
  {
   "cell_type": "code",
   "execution_count": 91,
   "id": "4675642b",
   "metadata": {},
   "outputs": [
    {
     "data": {
      "text/plain": [
       "array([[False,  True,  True, ..., False,  True,  True],\n",
       "       [ True,  True, False, ...,  True, False, False],\n",
       "       [ True,  True, False, ...,  True,  True,  True],\n",
       "       ...,\n",
       "       [False,  True,  True, ..., False,  True,  True],\n",
       "       [False,  True,  True, ..., False,  True, False],\n",
       "       [ True,  True,  True, ...,  True, False,  True]])"
      ]
     },
     "execution_count": 91,
     "metadata": {},
     "output_type": "execute_result"
    }
   ],
   "source": [
    "#simulated flip data\n",
    "flips"
   ]
  },
  {
   "cell_type": "code",
   "execution_count": 92,
   "id": "9fe7a5e1",
   "metadata": {},
   "outputs": [],
   "source": [
    "#Convert to a DataFrame\n",
    "flips_df = pd.DataFrame(flips, columns=['coin_1', \\\n",
    "    'coin_2','coin_3', 'coin_4', 'coin_5', 'coin_6','coin_7', 'coin_8'])"
   ]
  },
  {
   "cell_type": "code",
   "execution_count": 93,
   "id": "75b22c78",
   "metadata": {},
   "outputs": [
    {
     "data": {
      "text/html": [
       "<div>\n",
       "<style scoped>\n",
       "    .dataframe tbody tr th:only-of-type {\n",
       "        vertical-align: middle;\n",
       "    }\n",
       "\n",
       "    .dataframe tbody tr th {\n",
       "        vertical-align: top;\n",
       "    }\n",
       "\n",
       "    .dataframe thead th {\n",
       "        text-align: right;\n",
       "    }\n",
       "</style>\n",
       "<table border=\"1\" class=\"dataframe\">\n",
       "  <thead>\n",
       "    <tr style=\"text-align: right;\">\n",
       "      <th></th>\n",
       "      <th>coin_1</th>\n",
       "      <th>coin_2</th>\n",
       "      <th>coin_3</th>\n",
       "      <th>coin_4</th>\n",
       "      <th>coin_5</th>\n",
       "      <th>coin_6</th>\n",
       "      <th>coin_7</th>\n",
       "      <th>coin_8</th>\n",
       "    </tr>\n",
       "  </thead>\n",
       "  <tbody>\n",
       "    <tr>\n",
       "      <th>0</th>\n",
       "      <td>False</td>\n",
       "      <td>True</td>\n",
       "      <td>True</td>\n",
       "      <td>False</td>\n",
       "      <td>False</td>\n",
       "      <td>False</td>\n",
       "      <td>True</td>\n",
       "      <td>True</td>\n",
       "    </tr>\n",
       "    <tr>\n",
       "      <th>1</th>\n",
       "      <td>True</td>\n",
       "      <td>True</td>\n",
       "      <td>False</td>\n",
       "      <td>False</td>\n",
       "      <td>False</td>\n",
       "      <td>True</td>\n",
       "      <td>False</td>\n",
       "      <td>False</td>\n",
       "    </tr>\n",
       "    <tr>\n",
       "      <th>2</th>\n",
       "      <td>True</td>\n",
       "      <td>True</td>\n",
       "      <td>False</td>\n",
       "      <td>True</td>\n",
       "      <td>False</td>\n",
       "      <td>True</td>\n",
       "      <td>True</td>\n",
       "      <td>True</td>\n",
       "    </tr>\n",
       "    <tr>\n",
       "      <th>3</th>\n",
       "      <td>True</td>\n",
       "      <td>True</td>\n",
       "      <td>False</td>\n",
       "      <td>False</td>\n",
       "      <td>False</td>\n",
       "      <td>False</td>\n",
       "      <td>True</td>\n",
       "      <td>True</td>\n",
       "    </tr>\n",
       "    <tr>\n",
       "      <th>4</th>\n",
       "      <td>False</td>\n",
       "      <td>False</td>\n",
       "      <td>False</td>\n",
       "      <td>True</td>\n",
       "      <td>True</td>\n",
       "      <td>True</td>\n",
       "      <td>False</td>\n",
       "      <td>False</td>\n",
       "    </tr>\n",
       "    <tr>\n",
       "      <th>...</th>\n",
       "      <td>...</td>\n",
       "      <td>...</td>\n",
       "      <td>...</td>\n",
       "      <td>...</td>\n",
       "      <td>...</td>\n",
       "      <td>...</td>\n",
       "      <td>...</td>\n",
       "      <td>...</td>\n",
       "    </tr>\n",
       "    <tr>\n",
       "      <th>99995</th>\n",
       "      <td>False</td>\n",
       "      <td>True</td>\n",
       "      <td>False</td>\n",
       "      <td>False</td>\n",
       "      <td>True</td>\n",
       "      <td>True</td>\n",
       "      <td>False</td>\n",
       "      <td>False</td>\n",
       "    </tr>\n",
       "    <tr>\n",
       "      <th>99996</th>\n",
       "      <td>False</td>\n",
       "      <td>True</td>\n",
       "      <td>True</td>\n",
       "      <td>False</td>\n",
       "      <td>True</td>\n",
       "      <td>False</td>\n",
       "      <td>True</td>\n",
       "      <td>False</td>\n",
       "    </tr>\n",
       "    <tr>\n",
       "      <th>99997</th>\n",
       "      <td>False</td>\n",
       "      <td>True</td>\n",
       "      <td>True</td>\n",
       "      <td>True</td>\n",
       "      <td>False</td>\n",
       "      <td>False</td>\n",
       "      <td>True</td>\n",
       "      <td>True</td>\n",
       "    </tr>\n",
       "    <tr>\n",
       "      <th>99998</th>\n",
       "      <td>False</td>\n",
       "      <td>True</td>\n",
       "      <td>True</td>\n",
       "      <td>True</td>\n",
       "      <td>True</td>\n",
       "      <td>False</td>\n",
       "      <td>True</td>\n",
       "      <td>False</td>\n",
       "    </tr>\n",
       "    <tr>\n",
       "      <th>99999</th>\n",
       "      <td>True</td>\n",
       "      <td>True</td>\n",
       "      <td>True</td>\n",
       "      <td>False</td>\n",
       "      <td>False</td>\n",
       "      <td>True</td>\n",
       "      <td>False</td>\n",
       "      <td>True</td>\n",
       "    </tr>\n",
       "  </tbody>\n",
       "</table>\n",
       "<p>100000 rows × 8 columns</p>\n",
       "</div>"
      ],
      "text/plain": [
       "       coin_1  coin_2  coin_3  coin_4  coin_5  coin_6  coin_7  coin_8\n",
       "0       False    True    True   False   False   False    True    True\n",
       "1        True    True   False   False   False    True   False   False\n",
       "2        True    True   False    True   False    True    True    True\n",
       "3        True    True   False   False   False   False    True    True\n",
       "4       False   False   False    True    True    True   False   False\n",
       "...       ...     ...     ...     ...     ...     ...     ...     ...\n",
       "99995   False    True   False   False    True    True   False   False\n",
       "99996   False    True    True   False    True   False    True   False\n",
       "99997   False    True    True    True   False   False    True    True\n",
       "99998   False    True    True    True    True   False    True   False\n",
       "99999    True    True    True   False   False    True   False    True\n",
       "\n",
       "[100000 rows x 8 columns]"
      ]
     },
     "execution_count": 93,
     "metadata": {},
     "output_type": "execute_result"
    }
   ],
   "source": [
    "flips_df"
   ]
  },
  {
   "cell_type": "code",
   "execution_count": 94,
   "id": "143e586c",
   "metadata": {},
   "outputs": [],
   "source": [
    "#add a column that shows if there are exactly three heads in the row\n",
    "flips_df['exact_3'] = flips.sum(axis=1)==3\n",
    "\n",
    "#add a column that shows if there are more than three heads in the row\n",
    "flips_df['more_than_3'] = flips.sum(axis=1)>3"
   ]
  },
  {
   "cell_type": "code",
   "execution_count": 95,
   "id": "a9e88ec7",
   "metadata": {},
   "outputs": [
    {
     "data": {
      "text/html": [
       "<div>\n",
       "<style scoped>\n",
       "    .dataframe tbody tr th:only-of-type {\n",
       "        vertical-align: middle;\n",
       "    }\n",
       "\n",
       "    .dataframe tbody tr th {\n",
       "        vertical-align: top;\n",
       "    }\n",
       "\n",
       "    .dataframe thead th {\n",
       "        text-align: right;\n",
       "    }\n",
       "</style>\n",
       "<table border=\"1\" class=\"dataframe\">\n",
       "  <thead>\n",
       "    <tr style=\"text-align: right;\">\n",
       "      <th></th>\n",
       "      <th>coin_1</th>\n",
       "      <th>coin_2</th>\n",
       "      <th>coin_3</th>\n",
       "      <th>coin_4</th>\n",
       "      <th>coin_5</th>\n",
       "      <th>coin_6</th>\n",
       "      <th>coin_7</th>\n",
       "      <th>coin_8</th>\n",
       "      <th>exact_3</th>\n",
       "      <th>more_than_3</th>\n",
       "    </tr>\n",
       "  </thead>\n",
       "  <tbody>\n",
       "    <tr>\n",
       "      <th>0</th>\n",
       "      <td>False</td>\n",
       "      <td>True</td>\n",
       "      <td>True</td>\n",
       "      <td>False</td>\n",
       "      <td>False</td>\n",
       "      <td>False</td>\n",
       "      <td>True</td>\n",
       "      <td>True</td>\n",
       "      <td>False</td>\n",
       "      <td>True</td>\n",
       "    </tr>\n",
       "    <tr>\n",
       "      <th>1</th>\n",
       "      <td>True</td>\n",
       "      <td>True</td>\n",
       "      <td>False</td>\n",
       "      <td>False</td>\n",
       "      <td>False</td>\n",
       "      <td>True</td>\n",
       "      <td>False</td>\n",
       "      <td>False</td>\n",
       "      <td>True</td>\n",
       "      <td>False</td>\n",
       "    </tr>\n",
       "    <tr>\n",
       "      <th>2</th>\n",
       "      <td>True</td>\n",
       "      <td>True</td>\n",
       "      <td>False</td>\n",
       "      <td>True</td>\n",
       "      <td>False</td>\n",
       "      <td>True</td>\n",
       "      <td>True</td>\n",
       "      <td>True</td>\n",
       "      <td>False</td>\n",
       "      <td>True</td>\n",
       "    </tr>\n",
       "    <tr>\n",
       "      <th>3</th>\n",
       "      <td>True</td>\n",
       "      <td>True</td>\n",
       "      <td>False</td>\n",
       "      <td>False</td>\n",
       "      <td>False</td>\n",
       "      <td>False</td>\n",
       "      <td>True</td>\n",
       "      <td>True</td>\n",
       "      <td>False</td>\n",
       "      <td>True</td>\n",
       "    </tr>\n",
       "    <tr>\n",
       "      <th>4</th>\n",
       "      <td>False</td>\n",
       "      <td>False</td>\n",
       "      <td>False</td>\n",
       "      <td>True</td>\n",
       "      <td>True</td>\n",
       "      <td>True</td>\n",
       "      <td>False</td>\n",
       "      <td>False</td>\n",
       "      <td>True</td>\n",
       "      <td>False</td>\n",
       "    </tr>\n",
       "    <tr>\n",
       "      <th>...</th>\n",
       "      <td>...</td>\n",
       "      <td>...</td>\n",
       "      <td>...</td>\n",
       "      <td>...</td>\n",
       "      <td>...</td>\n",
       "      <td>...</td>\n",
       "      <td>...</td>\n",
       "      <td>...</td>\n",
       "      <td>...</td>\n",
       "      <td>...</td>\n",
       "    </tr>\n",
       "    <tr>\n",
       "      <th>99995</th>\n",
       "      <td>False</td>\n",
       "      <td>True</td>\n",
       "      <td>False</td>\n",
       "      <td>False</td>\n",
       "      <td>True</td>\n",
       "      <td>True</td>\n",
       "      <td>False</td>\n",
       "      <td>False</td>\n",
       "      <td>True</td>\n",
       "      <td>False</td>\n",
       "    </tr>\n",
       "    <tr>\n",
       "      <th>99996</th>\n",
       "      <td>False</td>\n",
       "      <td>True</td>\n",
       "      <td>True</td>\n",
       "      <td>False</td>\n",
       "      <td>True</td>\n",
       "      <td>False</td>\n",
       "      <td>True</td>\n",
       "      <td>False</td>\n",
       "      <td>False</td>\n",
       "      <td>True</td>\n",
       "    </tr>\n",
       "    <tr>\n",
       "      <th>99997</th>\n",
       "      <td>False</td>\n",
       "      <td>True</td>\n",
       "      <td>True</td>\n",
       "      <td>True</td>\n",
       "      <td>False</td>\n",
       "      <td>False</td>\n",
       "      <td>True</td>\n",
       "      <td>True</td>\n",
       "      <td>False</td>\n",
       "      <td>True</td>\n",
       "    </tr>\n",
       "    <tr>\n",
       "      <th>99998</th>\n",
       "      <td>False</td>\n",
       "      <td>True</td>\n",
       "      <td>True</td>\n",
       "      <td>True</td>\n",
       "      <td>True</td>\n",
       "      <td>False</td>\n",
       "      <td>True</td>\n",
       "      <td>False</td>\n",
       "      <td>False</td>\n",
       "      <td>True</td>\n",
       "    </tr>\n",
       "    <tr>\n",
       "      <th>99999</th>\n",
       "      <td>True</td>\n",
       "      <td>True</td>\n",
       "      <td>True</td>\n",
       "      <td>False</td>\n",
       "      <td>False</td>\n",
       "      <td>True</td>\n",
       "      <td>False</td>\n",
       "      <td>True</td>\n",
       "      <td>False</td>\n",
       "      <td>True</td>\n",
       "    </tr>\n",
       "  </tbody>\n",
       "</table>\n",
       "<p>100000 rows × 10 columns</p>\n",
       "</div>"
      ],
      "text/plain": [
       "       coin_1  coin_2  coin_3  coin_4  coin_5  coin_6  coin_7  coin_8  \\\n",
       "0       False    True    True   False   False   False    True    True   \n",
       "1        True    True   False   False   False    True   False   False   \n",
       "2        True    True   False    True   False    True    True    True   \n",
       "3        True    True   False   False   False   False    True    True   \n",
       "4       False   False   False    True    True    True   False   False   \n",
       "...       ...     ...     ...     ...     ...     ...     ...     ...   \n",
       "99995   False    True   False   False    True    True   False   False   \n",
       "99996   False    True    True   False    True   False    True   False   \n",
       "99997   False    True    True    True   False   False    True    True   \n",
       "99998   False    True    True    True    True   False    True   False   \n",
       "99999    True    True    True   False   False    True   False    True   \n",
       "\n",
       "       exact_3  more_than_3  \n",
       "0        False         True  \n",
       "1         True        False  \n",
       "2        False         True  \n",
       "3        False         True  \n",
       "4         True        False  \n",
       "...        ...          ...  \n",
       "99995     True        False  \n",
       "99996    False         True  \n",
       "99997    False         True  \n",
       "99998    False         True  \n",
       "99999    False         True  \n",
       "\n",
       "[100000 rows x 10 columns]"
      ]
     },
     "execution_count": 95,
     "metadata": {},
     "output_type": "execute_result"
    }
   ],
   "source": [
    "flips_df"
   ]
  },
  {
   "cell_type": "code",
   "execution_count": 96,
   "id": "dcab6356",
   "metadata": {
    "scrolled": true
   },
   "outputs": [
    {
     "data": {
      "text/plain": [
       "0.21889"
      ]
     },
     "execution_count": 96,
     "metadata": {},
     "output_type": "execute_result"
    }
   ],
   "source": [
    "#probability there are exactly 3 heads\n",
    "flips_df.exact_3.mean()"
   ]
  },
  {
   "cell_type": "code",
   "execution_count": 97,
   "id": "c868a18f",
   "metadata": {},
   "outputs": [
    {
     "data": {
      "text/plain": [
       "0.63692"
      ]
     },
     "execution_count": 97,
     "metadata": {},
     "output_type": "execute_result"
    }
   ],
   "source": [
    "#probability there are more than 3 heads\n",
    "flips_df.more_than_3.mean()"
   ]
  },
  {
   "cell_type": "markdown",
   "id": "8808ebe0",
   "metadata": {},
   "source": [
    "### 3. There are approximitely 3 web development cohorts for every 1 data science cohort at Codeup. Assuming that Codeup randomly selects an alumni to put on a billboard, what are the odds that the two billboards I drive past both have data science students on them?"
   ]
  },
  {
   "cell_type": "code",
   "execution_count": 104,
   "id": "34ca4cd1",
   "metadata": {},
   "outputs": [
    {
     "data": {
      "text/plain": [
       "array([['web', 'data'],\n",
       "       ['data', 'web'],\n",
       "       ['web', 'web'],\n",
       "       ...,\n",
       "       ['web', 'web'],\n",
       "       ['web', 'data'],\n",
       "       ['web', 'web']], dtype='<U4')"
      ]
     },
     "execution_count": 104,
     "metadata": {},
     "output_type": "execute_result"
    }
   ],
   "source": [
    "n_billboards = 2 #number of billboards\n",
    "\n",
    "#simmulate choosing web dev or data s between two billboards\n",
    "billboards = np.random.choice(['web', 'web', 'web','data'], size = (n_trials, n_billboards))\n",
    "\n",
    "billboards"
   ]
  },
  {
   "cell_type": "code",
   "execution_count": 109,
   "id": "32e36527",
   "metadata": {},
   "outputs": [
    {
     "data": {
      "text/plain": [
       "array([1, 1, 0, ..., 0, 1, 0])"
      ]
     },
     "execution_count": 109,
     "metadata": {},
     "output_type": "execute_result"
    }
   ],
   "source": [
    "#check to see if data appears in each row and sum them (True = 1, False=0)\n",
    "(billboards == 'data').sum(axis=1)\n",
    "\n",
    "#if both 'data' then the row = 2 (both billboards are data science)"
   ]
  },
  {
   "cell_type": "code",
   "execution_count": 110,
   "id": "12ce9a09",
   "metadata": {},
   "outputs": [
    {
     "data": {
      "text/plain": [
       "0.06294"
      ]
     },
     "execution_count": 110,
     "metadata": {},
     "output_type": "execute_result"
    }
   ],
   "source": [
    "#take the average of those that are both data science over all billboard combinations\n",
    "((billboards == 'data').sum(axis=1)==2).mean()"
   ]
  },
  {
   "cell_type": "markdown",
   "id": "11d41d41",
   "metadata": {},
   "source": [
    "### 4. Codeup students buy, on average, 3 poptart packages with a standard deviation of 1.5 a day from the snack vending machine. If on monday the machine is restocked with 17 poptart packages, how likely is it that I will be able to buy some poptarts on Friday afternoon? (Remember, if you have mean and standard deviation, use the np.random.normal) You'll need to make a judgement call on how to handle some of your values"
   ]
  },
  {
   "cell_type": "code",
   "execution_count": 115,
   "id": "23a85d83",
   "metadata": {},
   "outputs": [],
   "source": [
    "#loc=mean=3, scale=std=1.5, size=(number of trials, days(Monday-Friday))\n",
    "poptarts_bought_daily = np.random.normal(loc=3, scale=1.5, \\\n",
    "                                         size=(n_trials, 5))"
   ]
  },
  {
   "cell_type": "code",
   "execution_count": 116,
   "id": "14e411c4",
   "metadata": {},
   "outputs": [
    {
     "data": {
      "text/plain": [
       "array([[ 2.35802341,  5.10277719,  1.65117942,  5.59885666,  2.98282646],\n",
       "       [ 3.32063288,  1.85430668,  4.84356079,  0.14693289,  2.87095589],\n",
       "       [ 2.92182357, -0.09357477,  2.22993603,  1.72368649,  2.93083573],\n",
       "       ...,\n",
       "       [ 3.41596524,  3.68143533,  7.35479291, -1.0426757 ,  3.36993366],\n",
       "       [ 4.25267175,  3.58465065,  5.24480855,  1.78202882,  2.56256109],\n",
       "       [ 1.25580861,  3.60496047,  3.68757253,  5.713113  ,  5.82922153]])"
      ]
     },
     "execution_count": 116,
     "metadata": {},
     "output_type": "execute_result"
    }
   ],
   "source": [
    "poptarts_bought_daily"
   ]
  },
  {
   "cell_type": "code",
   "execution_count": 118,
   "id": "23aa42a0",
   "metadata": {},
   "outputs": [],
   "source": [
    "#sum daily poptart purchases to get weekly purchases\n",
    "poptarts_bought_weekly = poptarts_bought_daily.sum(axis=1)"
   ]
  },
  {
   "cell_type": "code",
   "execution_count": 119,
   "id": "4743be57",
   "metadata": {},
   "outputs": [
    {
     "data": {
      "text/plain": [
       "array([17.69366313, 13.03638913,  9.71270704, ..., 16.77945144,\n",
       "       17.42672087, 20.09067615])"
      ]
     },
     "execution_count": 119,
     "metadata": {},
     "output_type": "execute_result"
    }
   ],
   "source": [
    "poptarts_bought_weekly"
   ]
  },
  {
   "cell_type": "code",
   "execution_count": 121,
   "id": "22ec9f41",
   "metadata": {},
   "outputs": [
    {
     "data": {
      "text/plain": [
       "0.72563"
      ]
     },
     "execution_count": 121,
     "metadata": {},
     "output_type": "execute_result"
    }
   ],
   "source": [
    "#Started with 17 poptarts\n",
    "#probability that there will still be a poptart left on Friday\n",
    "(poptarts_bought_weekly < 17).mean()"
   ]
  },
  {
   "cell_type": "markdown",
   "id": "d06794d7",
   "metadata": {},
   "source": [
    "### 5. Compare Heights\n",
    "- Men have an average height of 178 cm and standard deviation of 8cm.\n",
    "- Women have a mean of 170, sd = 6cm.\n",
    "- Since you have means and standard deviations, you can use np.random.normal to generate observations.\n",
    "- If a man and woman are chosen at random, what is the likelihood the woman is taller than the man?"
   ]
  },
  {
   "cell_type": "code",
   "execution_count": 122,
   "id": "5b0893af",
   "metadata": {},
   "outputs": [],
   "source": [
    "men_avg = 178\n",
    "men_std = 8\n",
    "\n",
    "women_avg = 170\n",
    "women_std = 6"
   ]
  },
  {
   "cell_type": "code",
   "execution_count": 124,
   "id": "a16fe60b",
   "metadata": {},
   "outputs": [
    {
     "data": {
      "text/plain": [
       "array([183.55257073, 173.24718378, 188.34016077, ..., 162.10914107,\n",
       "       188.40049683, 170.81662586])"
      ]
     },
     "execution_count": 124,
     "metadata": {},
     "output_type": "execute_result"
    }
   ],
   "source": [
    "#get 100,000 men's height\n",
    "men_random = np.random.normal(loc=men_avg, scale=men_std, size=n_trials)\n",
    "men_random"
   ]
  },
  {
   "cell_type": "code",
   "execution_count": 125,
   "id": "7bd15838",
   "metadata": {},
   "outputs": [
    {
     "data": {
      "text/plain": [
       "array([165.16899926, 173.62129859, 162.72391652, ..., 165.25679018,\n",
       "       164.31845689, 163.67792402])"
      ]
     },
     "execution_count": 125,
     "metadata": {},
     "output_type": "execute_result"
    }
   ],
   "source": [
    "##get 100,000 women's height\n",
    "women_random = np.random.normal(loc=women_avg, scale=women_std, size=n_trials)\n",
    "women_random"
   ]
  },
  {
   "cell_type": "code",
   "execution_count": 128,
   "id": "41a753a2",
   "metadata": {},
   "outputs": [
    {
     "data": {
      "text/plain": [
       "0.21143"
      ]
     },
     "execution_count": 128,
     "metadata": {},
     "output_type": "execute_result"
    }
   ],
   "source": [
    "#compare women's and men's heights and see where women are taller than men\n",
    "#find the probability that women are taller\n",
    "(women_random > men_random).mean()"
   ]
  },
  {
   "cell_type": "markdown",
   "id": "18d11165",
   "metadata": {},
   "source": [
    "### 6. When installing anaconda on a student's computer, there's a 1 in 250 chance that the download is corrupted and the installation fails. What are the odds that after having 50 students download anaconda, no one has an installation issue? "
   ]
  },
  {
   "cell_type": "code",
   "execution_count": 132,
   "id": "938e09d5",
   "metadata": {},
   "outputs": [],
   "source": [
    "random_50 = np.random.choice(['ok','fail'], size = (n_trials, 50), p = [249/250,1/250])"
   ]
  },
  {
   "cell_type": "code",
   "execution_count": 141,
   "id": "e9089b64",
   "metadata": {},
   "outputs": [
    {
     "data": {
      "text/plain": [
       "0.81723"
      ]
     },
     "execution_count": 141,
     "metadata": {},
     "output_type": "execute_result"
    }
   ],
   "source": [
    "((random_50=='ok').sum(axis=1)==50).mean()"
   ]
  },
  {
   "cell_type": "markdown",
   "id": "f0accb11",
   "metadata": {},
   "source": [
    "#### 100 students?"
   ]
  },
  {
   "cell_type": "code",
   "execution_count": 142,
   "id": "2d93417e",
   "metadata": {},
   "outputs": [],
   "source": [
    "random_100 = np.random.choice(['ok','fail'], size = (n_trials, 100), p = [249/250,1/250])"
   ]
  },
  {
   "cell_type": "code",
   "execution_count": 143,
   "id": "803dda16",
   "metadata": {},
   "outputs": [
    {
     "data": {
      "text/plain": [
       "0.67195"
      ]
     },
     "execution_count": 143,
     "metadata": {},
     "output_type": "execute_result"
    }
   ],
   "source": [
    "((random_100=='ok').sum(axis=1)==100).mean()"
   ]
  },
  {
   "cell_type": "markdown",
   "id": "15b4fa59",
   "metadata": {},
   "source": [
    "#### What is the probability that we observe an installation issue within the first 150 students that download anaconda?"
   ]
  },
  {
   "cell_type": "code",
   "execution_count": 146,
   "id": "bbbf68bd",
   "metadata": {},
   "outputs": [
    {
     "data": {
      "text/plain": [
       "0.45179"
      ]
     },
     "execution_count": 146,
     "metadata": {},
     "output_type": "execute_result"
    }
   ],
   "source": [
    "random_150 = np.random.choice(['ok','fail'], size = (n_trials, 150), p = [249/250,1/250])\n",
    "((random_150=='ok').sum(axis=1)!=150).mean()"
   ]
  },
  {
   "cell_type": "markdown",
   "id": "30483130",
   "metadata": {},
   "source": [
    "#### How likely is it that 450 students all download anaconda without an issue?"
   ]
  },
  {
   "cell_type": "code",
   "execution_count": 147,
   "id": "16db0db2",
   "metadata": {},
   "outputs": [
    {
     "data": {
      "text/plain": [
       "0.16286"
      ]
     },
     "execution_count": 147,
     "metadata": {},
     "output_type": "execute_result"
    }
   ],
   "source": [
    "random_450 = np.random.choice(['ok','fail'], size = (n_trials, 450), p = [249/250,1/250])\n",
    "((random_450=='ok').sum(axis=1)==450).mean()"
   ]
  },
  {
   "cell_type": "markdown",
   "id": "e2441da5",
   "metadata": {},
   "source": [
    "### 7. There's a 70% chance on any given day that there will be at least one food truck at Travis Park. However, you haven't seen a food truck there in 3 days. How unlikely is this?"
   ]
  },
  {
   "cell_type": "code",
   "execution_count": 154,
   "id": "6e40f8ba",
   "metadata": {},
   "outputs": [],
   "source": [
    "truck_here = .7\n",
    "n_days = 3\n",
    "\n",
    "food_truck = np.random.random(size =(n_trials, n_days))"
   ]
  },
  {
   "cell_type": "code",
   "execution_count": 155,
   "id": "310c8c1d",
   "metadata": {},
   "outputs": [
    {
     "data": {
      "text/plain": [
       "array([[0.63230523, 0.91709914, 0.95723105],\n",
       "       [0.18551665, 0.21986828, 0.7434407 ],\n",
       "       [0.89757914, 0.28154564, 0.17339973],\n",
       "       ...,\n",
       "       [0.93856119, 0.72387532, 0.53797053],\n",
       "       [0.53797141, 0.5246701 , 0.54811731],\n",
       "       [0.49192336, 0.99964633, 0.24335078]])"
      ]
     },
     "execution_count": 155,
     "metadata": {},
     "output_type": "execute_result"
    }
   ],
   "source": [
    "food_truck"
   ]
  },
  {
   "cell_type": "code",
   "execution_count": 157,
   "id": "ce3b5e84",
   "metadata": {},
   "outputs": [],
   "source": [
    "food_truck_here = food_truck < truck_here"
   ]
  },
  {
   "cell_type": "code",
   "execution_count": 159,
   "id": "c04142d1",
   "metadata": {},
   "outputs": [
    {
     "data": {
      "text/plain": [
       "array([1, 2, 2, ..., 1, 3, 2])"
      ]
     },
     "execution_count": 159,
     "metadata": {},
     "output_type": "execute_result"
    }
   ],
   "source": [
    "food_truck_here.sum(axis=1)"
   ]
  },
  {
   "cell_type": "code",
   "execution_count": 161,
   "id": "04a90fea",
   "metadata": {},
   "outputs": [
    {
     "data": {
      "text/plain": [
       "0.0272"
      ]
     },
     "execution_count": 161,
     "metadata": {},
     "output_type": "execute_result"
    }
   ],
   "source": [
    "(food_truck_here.sum(axis=1)==0).mean()"
   ]
  },
  {
   "cell_type": "markdown",
   "id": "40eda7bf",
   "metadata": {},
   "source": [
    "#### How likely is it that a food truck will show up sometime this week?"
   ]
  },
  {
   "cell_type": "code",
   "execution_count": 163,
   "id": "2bb23be2",
   "metadata": {},
   "outputs": [],
   "source": [
    "n_days = 5\n",
    "\n",
    "food_truck_week = np.random.random(size =(n_trials, n_days))"
   ]
  },
  {
   "cell_type": "code",
   "execution_count": 164,
   "id": "1ae1b175",
   "metadata": {
    "scrolled": true
   },
   "outputs": [
    {
     "data": {
      "text/plain": [
       "array([[0.82306654, 0.56839773, 0.53597365, 0.62288077, 0.6177578 ],\n",
       "       [0.39405345, 0.74564138, 0.72905409, 0.07505068, 0.07901994],\n",
       "       [0.48669953, 0.66421494, 0.36204147, 0.44529886, 0.94655374],\n",
       "       ...,\n",
       "       [0.91205846, 0.32869463, 0.2892903 , 0.53458956, 0.92207472],\n",
       "       [0.71467901, 0.81790789, 0.33622127, 0.28066415, 0.32420122],\n",
       "       [0.51061393, 0.41173855, 0.7884821 , 0.34657996, 0.54014294]])"
      ]
     },
     "execution_count": 164,
     "metadata": {},
     "output_type": "execute_result"
    }
   ],
   "source": [
    "food_truck_week"
   ]
  },
  {
   "cell_type": "code",
   "execution_count": 165,
   "id": "0613f0c4",
   "metadata": {},
   "outputs": [],
   "source": [
    "food_truck_here_wk = food_truck_week < truck_here"
   ]
  },
  {
   "cell_type": "code",
   "execution_count": 166,
   "id": "8d92c48e",
   "metadata": {},
   "outputs": [
    {
     "data": {
      "text/plain": [
       "0.99755"
      ]
     },
     "execution_count": 166,
     "metadata": {},
     "output_type": "execute_result"
    }
   ],
   "source": [
    "(food_truck_here_wk.sum(axis=1) > 0).mean()"
   ]
  },
  {
   "cell_type": "markdown",
   "id": "176c6ebf",
   "metadata": {},
   "source": [
    "### 8. If 23 people are in the same room, what are the odds that two of them share a birthday? "
   ]
  },
  {
   "cell_type": "code",
   "execution_count": 167,
   "id": "3c6c5f8d",
   "metadata": {},
   "outputs": [
    {
     "data": {
      "text/plain": [
       "array([[288, 167, 278, ..., 157, 349, 293],\n",
       "       [345,  99, 187, ...,   4,  98,  10],\n",
       "       [169, 350, 297, ..., 334, 334, 231],\n",
       "       ...,\n",
       "       [212, 132, 169, ..., 242, 251, 105],\n",
       "       [110,  27, 190, ..., 180,  89,  12],\n",
       "       [352, 133, 170, ...,   0, 135,  23]])"
      ]
     },
     "execution_count": 167,
     "metadata": {},
     "output_type": "execute_result"
    }
   ],
   "source": [
    "birthdays = np.random.choice(range(366), size=(n_trials, 23))\n",
    "birthdays"
   ]
  },
  {
   "cell_type": "code",
   "execution_count": 170,
   "id": "1f25808e",
   "metadata": {},
   "outputs": [
    {
     "data": {
      "text/html": [
       "<div>\n",
       "<style scoped>\n",
       "    .dataframe tbody tr th:only-of-type {\n",
       "        vertical-align: middle;\n",
       "    }\n",
       "\n",
       "    .dataframe tbody tr th {\n",
       "        vertical-align: top;\n",
       "    }\n",
       "\n",
       "    .dataframe thead th {\n",
       "        text-align: right;\n",
       "    }\n",
       "</style>\n",
       "<table border=\"1\" class=\"dataframe\">\n",
       "  <thead>\n",
       "    <tr style=\"text-align: right;\">\n",
       "      <th></th>\n",
       "      <th>0</th>\n",
       "      <th>1</th>\n",
       "      <th>2</th>\n",
       "      <th>3</th>\n",
       "      <th>4</th>\n",
       "      <th>5</th>\n",
       "      <th>6</th>\n",
       "      <th>7</th>\n",
       "      <th>8</th>\n",
       "      <th>9</th>\n",
       "      <th>...</th>\n",
       "      <th>13</th>\n",
       "      <th>14</th>\n",
       "      <th>15</th>\n",
       "      <th>16</th>\n",
       "      <th>17</th>\n",
       "      <th>18</th>\n",
       "      <th>19</th>\n",
       "      <th>20</th>\n",
       "      <th>21</th>\n",
       "      <th>22</th>\n",
       "    </tr>\n",
       "  </thead>\n",
       "  <tbody>\n",
       "    <tr>\n",
       "      <th>0</th>\n",
       "      <td>288</td>\n",
       "      <td>167</td>\n",
       "      <td>278</td>\n",
       "      <td>145</td>\n",
       "      <td>195</td>\n",
       "      <td>135</td>\n",
       "      <td>46</td>\n",
       "      <td>305</td>\n",
       "      <td>310</td>\n",
       "      <td>20</td>\n",
       "      <td>...</td>\n",
       "      <td>57</td>\n",
       "      <td>234</td>\n",
       "      <td>281</td>\n",
       "      <td>95</td>\n",
       "      <td>177</td>\n",
       "      <td>92</td>\n",
       "      <td>1</td>\n",
       "      <td>157</td>\n",
       "      <td>349</td>\n",
       "      <td>293</td>\n",
       "    </tr>\n",
       "    <tr>\n",
       "      <th>1</th>\n",
       "      <td>345</td>\n",
       "      <td>99</td>\n",
       "      <td>187</td>\n",
       "      <td>281</td>\n",
       "      <td>53</td>\n",
       "      <td>146</td>\n",
       "      <td>163</td>\n",
       "      <td>255</td>\n",
       "      <td>8</td>\n",
       "      <td>41</td>\n",
       "      <td>...</td>\n",
       "      <td>165</td>\n",
       "      <td>96</td>\n",
       "      <td>219</td>\n",
       "      <td>212</td>\n",
       "      <td>272</td>\n",
       "      <td>302</td>\n",
       "      <td>30</td>\n",
       "      <td>4</td>\n",
       "      <td>98</td>\n",
       "      <td>10</td>\n",
       "    </tr>\n",
       "    <tr>\n",
       "      <th>2</th>\n",
       "      <td>169</td>\n",
       "      <td>350</td>\n",
       "      <td>297</td>\n",
       "      <td>193</td>\n",
       "      <td>112</td>\n",
       "      <td>168</td>\n",
       "      <td>346</td>\n",
       "      <td>49</td>\n",
       "      <td>148</td>\n",
       "      <td>31</td>\n",
       "      <td>...</td>\n",
       "      <td>365</td>\n",
       "      <td>188</td>\n",
       "      <td>344</td>\n",
       "      <td>137</td>\n",
       "      <td>152</td>\n",
       "      <td>8</td>\n",
       "      <td>339</td>\n",
       "      <td>334</td>\n",
       "      <td>334</td>\n",
       "      <td>231</td>\n",
       "    </tr>\n",
       "    <tr>\n",
       "      <th>3</th>\n",
       "      <td>163</td>\n",
       "      <td>38</td>\n",
       "      <td>319</td>\n",
       "      <td>172</td>\n",
       "      <td>64</td>\n",
       "      <td>325</td>\n",
       "      <td>133</td>\n",
       "      <td>84</td>\n",
       "      <td>224</td>\n",
       "      <td>357</td>\n",
       "      <td>...</td>\n",
       "      <td>87</td>\n",
       "      <td>149</td>\n",
       "      <td>42</td>\n",
       "      <td>1</td>\n",
       "      <td>83</td>\n",
       "      <td>215</td>\n",
       "      <td>26</td>\n",
       "      <td>44</td>\n",
       "      <td>97</td>\n",
       "      <td>149</td>\n",
       "    </tr>\n",
       "    <tr>\n",
       "      <th>4</th>\n",
       "      <td>23</td>\n",
       "      <td>38</td>\n",
       "      <td>95</td>\n",
       "      <td>310</td>\n",
       "      <td>139</td>\n",
       "      <td>4</td>\n",
       "      <td>91</td>\n",
       "      <td>91</td>\n",
       "      <td>172</td>\n",
       "      <td>38</td>\n",
       "      <td>...</td>\n",
       "      <td>67</td>\n",
       "      <td>40</td>\n",
       "      <td>199</td>\n",
       "      <td>80</td>\n",
       "      <td>196</td>\n",
       "      <td>211</td>\n",
       "      <td>249</td>\n",
       "      <td>333</td>\n",
       "      <td>299</td>\n",
       "      <td>52</td>\n",
       "    </tr>\n",
       "    <tr>\n",
       "      <th>...</th>\n",
       "      <td>...</td>\n",
       "      <td>...</td>\n",
       "      <td>...</td>\n",
       "      <td>...</td>\n",
       "      <td>...</td>\n",
       "      <td>...</td>\n",
       "      <td>...</td>\n",
       "      <td>...</td>\n",
       "      <td>...</td>\n",
       "      <td>...</td>\n",
       "      <td>...</td>\n",
       "      <td>...</td>\n",
       "      <td>...</td>\n",
       "      <td>...</td>\n",
       "      <td>...</td>\n",
       "      <td>...</td>\n",
       "      <td>...</td>\n",
       "      <td>...</td>\n",
       "      <td>...</td>\n",
       "      <td>...</td>\n",
       "      <td>...</td>\n",
       "    </tr>\n",
       "    <tr>\n",
       "      <th>99995</th>\n",
       "      <td>69</td>\n",
       "      <td>50</td>\n",
       "      <td>180</td>\n",
       "      <td>312</td>\n",
       "      <td>117</td>\n",
       "      <td>182</td>\n",
       "      <td>185</td>\n",
       "      <td>149</td>\n",
       "      <td>45</td>\n",
       "      <td>63</td>\n",
       "      <td>...</td>\n",
       "      <td>63</td>\n",
       "      <td>362</td>\n",
       "      <td>118</td>\n",
       "      <td>16</td>\n",
       "      <td>335</td>\n",
       "      <td>56</td>\n",
       "      <td>203</td>\n",
       "      <td>263</td>\n",
       "      <td>219</td>\n",
       "      <td>112</td>\n",
       "    </tr>\n",
       "    <tr>\n",
       "      <th>99996</th>\n",
       "      <td>206</td>\n",
       "      <td>185</td>\n",
       "      <td>260</td>\n",
       "      <td>335</td>\n",
       "      <td>76</td>\n",
       "      <td>31</td>\n",
       "      <td>92</td>\n",
       "      <td>71</td>\n",
       "      <td>328</td>\n",
       "      <td>140</td>\n",
       "      <td>...</td>\n",
       "      <td>1</td>\n",
       "      <td>127</td>\n",
       "      <td>121</td>\n",
       "      <td>87</td>\n",
       "      <td>54</td>\n",
       "      <td>152</td>\n",
       "      <td>83</td>\n",
       "      <td>18</td>\n",
       "      <td>80</td>\n",
       "      <td>314</td>\n",
       "    </tr>\n",
       "    <tr>\n",
       "      <th>99997</th>\n",
       "      <td>212</td>\n",
       "      <td>132</td>\n",
       "      <td>169</td>\n",
       "      <td>289</td>\n",
       "      <td>13</td>\n",
       "      <td>130</td>\n",
       "      <td>138</td>\n",
       "      <td>293</td>\n",
       "      <td>346</td>\n",
       "      <td>196</td>\n",
       "      <td>...</td>\n",
       "      <td>77</td>\n",
       "      <td>89</td>\n",
       "      <td>92</td>\n",
       "      <td>326</td>\n",
       "      <td>97</td>\n",
       "      <td>15</td>\n",
       "      <td>238</td>\n",
       "      <td>242</td>\n",
       "      <td>251</td>\n",
       "      <td>105</td>\n",
       "    </tr>\n",
       "    <tr>\n",
       "      <th>99998</th>\n",
       "      <td>110</td>\n",
       "      <td>27</td>\n",
       "      <td>190</td>\n",
       "      <td>295</td>\n",
       "      <td>258</td>\n",
       "      <td>65</td>\n",
       "      <td>283</td>\n",
       "      <td>214</td>\n",
       "      <td>177</td>\n",
       "      <td>231</td>\n",
       "      <td>...</td>\n",
       "      <td>205</td>\n",
       "      <td>260</td>\n",
       "      <td>250</td>\n",
       "      <td>79</td>\n",
       "      <td>239</td>\n",
       "      <td>359</td>\n",
       "      <td>70</td>\n",
       "      <td>180</td>\n",
       "      <td>89</td>\n",
       "      <td>12</td>\n",
       "    </tr>\n",
       "    <tr>\n",
       "      <th>99999</th>\n",
       "      <td>352</td>\n",
       "      <td>133</td>\n",
       "      <td>170</td>\n",
       "      <td>203</td>\n",
       "      <td>234</td>\n",
       "      <td>91</td>\n",
       "      <td>116</td>\n",
       "      <td>234</td>\n",
       "      <td>51</td>\n",
       "      <td>350</td>\n",
       "      <td>...</td>\n",
       "      <td>346</td>\n",
       "      <td>95</td>\n",
       "      <td>333</td>\n",
       "      <td>110</td>\n",
       "      <td>111</td>\n",
       "      <td>346</td>\n",
       "      <td>83</td>\n",
       "      <td>0</td>\n",
       "      <td>135</td>\n",
       "      <td>23</td>\n",
       "    </tr>\n",
       "  </tbody>\n",
       "</table>\n",
       "<p>100000 rows × 23 columns</p>\n",
       "</div>"
      ],
      "text/plain": [
       "        0    1    2    3    4    5    6    7    8    9   ...   13   14   15  \\\n",
       "0      288  167  278  145  195  135   46  305  310   20  ...   57  234  281   \n",
       "1      345   99  187  281   53  146  163  255    8   41  ...  165   96  219   \n",
       "2      169  350  297  193  112  168  346   49  148   31  ...  365  188  344   \n",
       "3      163   38  319  172   64  325  133   84  224  357  ...   87  149   42   \n",
       "4       23   38   95  310  139    4   91   91  172   38  ...   67   40  199   \n",
       "...    ...  ...  ...  ...  ...  ...  ...  ...  ...  ...  ...  ...  ...  ...   \n",
       "99995   69   50  180  312  117  182  185  149   45   63  ...   63  362  118   \n",
       "99996  206  185  260  335   76   31   92   71  328  140  ...    1  127  121   \n",
       "99997  212  132  169  289   13  130  138  293  346  196  ...   77   89   92   \n",
       "99998  110   27  190  295  258   65  283  214  177  231  ...  205  260  250   \n",
       "99999  352  133  170  203  234   91  116  234   51  350  ...  346   95  333   \n",
       "\n",
       "        16   17   18   19   20   21   22  \n",
       "0       95  177   92    1  157  349  293  \n",
       "1      212  272  302   30    4   98   10  \n",
       "2      137  152    8  339  334  334  231  \n",
       "3        1   83  215   26   44   97  149  \n",
       "4       80  196  211  249  333  299   52  \n",
       "...    ...  ...  ...  ...  ...  ...  ...  \n",
       "99995   16  335   56  203  263  219  112  \n",
       "99996   87   54  152   83   18   80  314  \n",
       "99997  326   97   15  238  242  251  105  \n",
       "99998   79  239  359   70  180   89   12  \n",
       "99999  110  111  346   83    0  135   23  \n",
       "\n",
       "[100000 rows x 23 columns]"
      ]
     },
     "execution_count": 170,
     "metadata": {},
     "output_type": "execute_result"
    }
   ],
   "source": [
    "birthdays_df = pd.DataFrame(birthdays)\n",
    "birthdays_df"
   ]
  },
  {
   "cell_type": "code",
   "execution_count": 174,
   "id": "ab9d505b",
   "metadata": {
    "scrolled": true
   },
   "outputs": [
    {
     "data": {
      "text/plain": [
       "0.50488"
      ]
     },
     "execution_count": 174,
     "metadata": {},
     "output_type": "execute_result"
    }
   ],
   "source": [
    "(birthdays_df.nunique(axis=1) < 23).mean()"
   ]
  },
  {
   "cell_type": "code",
   "execution_count": 177,
   "id": "62e3226a",
   "metadata": {},
   "outputs": [
    {
     "data": {
      "text/plain": [
       "0.36056"
      ]
     },
     "execution_count": 177,
     "metadata": {},
     "output_type": "execute_result"
    }
   ],
   "source": [
    "#exactly 2 people have the same birthday\n",
    "(birthdays_df.nunique(axis=1) == 22).mean()"
   ]
  },
  {
   "cell_type": "markdown",
   "id": "2b025cfb",
   "metadata": {},
   "source": [
    "#### What if it's 20 people? "
   ]
  },
  {
   "cell_type": "code",
   "execution_count": 175,
   "id": "814a26cb",
   "metadata": {},
   "outputs": [],
   "source": [
    "birthdays_20 = np.random.choice(range(366), size=(n_trials, 20))\n",
    "birthdays_20_df = pd.DataFrame(birthdays_20)"
   ]
  },
  {
   "cell_type": "code",
   "execution_count": 176,
   "id": "235158a5",
   "metadata": {},
   "outputs": [
    {
     "data": {
      "text/plain": [
       "0.41296"
      ]
     },
     "execution_count": 176,
     "metadata": {},
     "output_type": "execute_result"
    }
   ],
   "source": [
    "(birthdays_20_df.nunique(axis=1) < 20).mean()"
   ]
  },
  {
   "cell_type": "markdown",
   "id": "040dde5c",
   "metadata": {},
   "source": [
    "#### 40?"
   ]
  },
  {
   "cell_type": "code",
   "execution_count": 178,
   "id": "99bdca2c",
   "metadata": {},
   "outputs": [],
   "source": [
    "birthdays_40 = np.random.choice(range(366), size=(n_trials, 40))\n",
    "birthdays_40_df = pd.DataFrame(birthdays_40)"
   ]
  },
  {
   "cell_type": "code",
   "execution_count": 179,
   "id": "4017e174",
   "metadata": {},
   "outputs": [
    {
     "data": {
      "text/plain": [
       "0.88994"
      ]
     },
     "execution_count": 179,
     "metadata": {},
     "output_type": "execute_result"
    }
   ],
   "source": []
  },
  {
   "cell_type": "code",
   "execution_count": 180,
   "id": "ce2cd441",
   "metadata": {},
   "outputs": [
    {
     "data": {
      "text/plain": [
       "0.26063"
      ]
     },
     "execution_count": 180,
     "metadata": {},
     "output_type": "execute_result"
    }
   ],
   "source": [
    "#only two people have the same bday\n",
    "(birthdays_40_df.nunique(axis=1) == 39).mean()"
   ]
  },
  {
   "cell_type": "markdown",
   "id": "77583dad",
   "metadata": {},
   "source": [
    "### 17? (Number of students in our class)"
   ]
  },
  {
   "cell_type": "code",
   "execution_count": 181,
   "id": "5137b380",
   "metadata": {},
   "outputs": [
    {
     "data": {
      "text/plain": [
       "0.31472"
      ]
     },
     "execution_count": 181,
     "metadata": {},
     "output_type": "execute_result"
    }
   ],
   "source": [
    "birthdays_17 = np.random.choice(range(366), size=(n_trials, 17))\n",
    "birthdays_17_df = pd.DataFrame(birthdays_17)\n",
    "\n",
    "(birthdays_17_df.nunique(axis=1) < 17).mean()"
   ]
  },
  {
   "cell_type": "code",
   "execution_count": null,
   "id": "85187a5a",
   "metadata": {},
   "outputs": [],
   "source": []
  }
 ],
 "metadata": {
  "kernelspec": {
   "display_name": "Python 3 (ipykernel)",
   "language": "python",
   "name": "python3"
  },
  "language_info": {
   "codemirror_mode": {
    "name": "ipython",
    "version": 3
   },
   "file_extension": ".py",
   "mimetype": "text/x-python",
   "name": "python",
   "nbconvert_exporter": "python",
   "pygments_lexer": "ipython3",
   "version": "3.9.12"
  }
 },
 "nbformat": 4,
 "nbformat_minor": 5
}
