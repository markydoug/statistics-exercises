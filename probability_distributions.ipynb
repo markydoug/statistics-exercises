{
 "cells": [
  {
   "cell_type": "markdown",
   "id": "d46e9c1f",
   "metadata": {},
   "source": [
    "## For the following problems, use python to simulate the problem and calculate an experimental probability, then compare that to the theoretical probability."
   ]
  },
  {
   "cell_type": "code",
   "execution_count": 45,
   "id": "b6888fd7",
   "metadata": {},
   "outputs": [],
   "source": [
    "import pandas as pd\n",
    "import numpy as np\n",
    "from scipy import stats\n",
    "import matplotlib.pyplot as plt\n",
    "from env import get_db_url\n",
    "\n",
    "np.random.seed(27)"
   ]
  },
  {
   "cell_type": "markdown",
   "id": "63564cd3",
   "metadata": {},
   "source": [
    "### 1. A bank found that the average number of cars waiting during the noon hour at a drive-up window follows a Poisson distribution with a mean of 2 cars. Make a chart of this distribution and answer these questions concerning the probability of cars waiting at the drive-up window."
   ]
  },
  {
   "cell_type": "code",
   "execution_count": 102,
   "id": "5af361f6",
   "metadata": {},
   "outputs": [],
   "source": [
    "λ = 2\n",
    "cars = stats.poisson(λ)"
   ]
  },
  {
   "cell_type": "markdown",
   "id": "885f9d89",
   "metadata": {},
   "source": [
    "#### What is the probability that no cars drive up in the noon hour?"
   ]
  },
  {
   "cell_type": "code",
   "execution_count": 7,
   "id": "aca4d4f4",
   "metadata": {},
   "outputs": [
    {
     "data": {
      "text/plain": [
       "0.1353352832366127"
      ]
     },
     "execution_count": 7,
     "metadata": {},
     "output_type": "execute_result"
    }
   ],
   "source": [
    "cars.pmf(0)"
   ]
  },
  {
   "cell_type": "markdown",
   "id": "ee46f98f",
   "metadata": {},
   "source": [
    "#### What is the probability that 3 or more cars come through the drive through?"
   ]
  },
  {
   "cell_type": "code",
   "execution_count": 25,
   "id": "82734f2e",
   "metadata": {},
   "outputs": [
    {
     "data": {
      "text/plain": [
       "0.32332358381693654"
      ]
     },
     "execution_count": 25,
     "metadata": {},
     "output_type": "execute_result"
    }
   ],
   "source": [
    "cars.sf(2)"
   ]
  },
  {
   "cell_type": "markdown",
   "id": "5b5bb06e",
   "metadata": {},
   "source": [
    "#### How likely is it that the drive through gets at least 1 car?"
   ]
  },
  {
   "cell_type": "code",
   "execution_count": 26,
   "id": "d24bd87d",
   "metadata": {},
   "outputs": [
    {
     "data": {
      "text/plain": [
       "0.8646647167633873"
      ]
     },
     "execution_count": 26,
     "metadata": {},
     "output_type": "execute_result"
    }
   ],
   "source": [
    "cars.sf(0)"
   ]
  },
  {
   "cell_type": "markdown",
   "id": "6751b417",
   "metadata": {},
   "source": [
    "### 2. Grades of State University graduates are normally distributed with a mean of 3.0 and a standard deviation of .3. Calculate the following:"
   ]
  },
  {
   "cell_type": "code",
   "execution_count": 93,
   "id": "54503a64",
   "metadata": {},
   "outputs": [],
   "source": [
    "μ = 3.0\n",
    "σ = 0.3\n",
    "\n",
    "grades = stats.norm(μ, σ)"
   ]
  },
  {
   "cell_type": "code",
   "execution_count": 94,
   "id": "ce57ba12",
   "metadata": {},
   "outputs": [
    {
     "data": {
      "text/plain": [
       "(array([1.1000e+01, 1.9800e+02, 2.1450e+03, 1.0431e+04, 2.6126e+04,\n",
       "        3.3063e+04, 2.0513e+04, 6.4120e+03, 1.0170e+03, 8.4000e+01]),\n",
       " array([1.62748218, 1.88525994, 2.1430377 , 2.40081546, 2.65859322,\n",
       "        2.91637098, 3.17414874, 3.43192649, 3.68970425, 3.94748201,\n",
       "        4.20525977]),\n",
       " <BarContainer object of 10 artists>)"
      ]
     },
     "execution_count": 94,
     "metadata": {},
     "output_type": "execute_result"
    },
    {
     "data": {
      "image/png": "[encoded data removed]",
      "text/plain": [
       "<Figure size 432x288 with 1 Axes>"
      ]
     },
     "metadata": {
      "needs_background": "light"
     },
     "output_type": "display_data"
    }
   ],
   "source": [
    "plt.hist(grades.rvs(100_000))"
   ]
  },
  {
   "cell_type": "markdown",
   "id": "6183574b",
   "metadata": {},
   "source": [
    "#### What grade point average is required to be in the top 5% of the graduating class?"
   ]
  },
  {
   "cell_type": "code",
   "execution_count": 95,
   "id": "9ac5e716",
   "metadata": {},
   "outputs": [
    {
     "data": {
      "text/plain": [
       "3.4934560880854417"
      ]
     },
     "execution_count": 95,
     "metadata": {},
     "output_type": "execute_result"
    }
   ],
   "source": [
    "grades.isf(0.05)"
   ]
  },
  {
   "cell_type": "markdown",
   "id": "2eb67634",
   "metadata": {},
   "source": [
    "#### What GPA constitutes the bottom 15% of the class?"
   ]
  },
  {
   "cell_type": "code",
   "execution_count": 96,
   "id": "55686330",
   "metadata": {},
   "outputs": [
    {
     "data": {
      "text/plain": [
       "2.689069983151863"
      ]
     },
     "execution_count": 96,
     "metadata": {},
     "output_type": "execute_result"
    }
   ],
   "source": [
    "grades.ppf(0.15)"
   ]
  },
  {
   "cell_type": "markdown",
   "id": "a4ba764b",
   "metadata": {},
   "source": [
    "#### An eccentric alumnus left scholarship money for students in the third decile from the bottom of their class. Determine the range of the third decile. Would a student with a 2.8 grade point average qualify for this scholarship?"
   ]
  },
  {
   "cell_type": "code",
   "execution_count": 100,
   "id": "1d6e074b",
   "metadata": {},
   "outputs": [
    {
     "data": {
      "text/plain": [
       "[2.7475136299281258, 2.842679846187588]"
      ]
     },
     "execution_count": 100,
     "metadata": {},
     "output_type": "execute_result"
    }
   ],
   "source": [
    "lower_range = grades.ppf(0.2)\n",
    "higher_range = grades.ppf(0.3)\n",
    "\n",
    "[lower_range,higher_range]\n"
   ]
  },
  {
   "cell_type": "markdown",
   "id": "4349cb74",
   "metadata": {},
   "source": [
    "A student with a 2.8 GPA would qualify b/c their GPA falls in this range."
   ]
  },
  {
   "cell_type": "markdown",
   "id": "675b4cf7",
   "metadata": {},
   "source": [
    "#### If I have a GPA of 3.5, what percentile am I in?"
   ]
  },
  {
   "cell_type": "code",
   "execution_count": 91,
   "id": "2aed2500",
   "metadata": {},
   "outputs": [
    {
     "data": {
      "text/plain": [
       "0.9522096477271853"
      ]
     },
     "execution_count": 91,
     "metadata": {},
     "output_type": "execute_result"
    }
   ],
   "source": [
    "grades.cdf(3.5)"
   ]
  },
  {
   "cell_type": "markdown",
   "id": "20d9194d",
   "metadata": {},
   "source": [
    "### 3. A marketing website has an average click-through rate of 2%. One day they observe 4326 visitors and 97 click-throughs. How likely is it that this many people or more click through?"
   ]
  },
  {
   "cell_type": "code",
   "execution_count": 84,
   "id": "683f5006",
   "metadata": {},
   "outputs": [
    {
     "data": {
      "text/plain": [
       "<scipy.stats._distn_infrastructure.rv_frozen at 0x7fe2aae3edc0>"
      ]
     },
     "execution_count": 84,
     "metadata": {},
     "output_type": "execute_result"
    }
   ],
   "source": [
    "n_trials = 4326\n",
    "p = 0.02\n",
    "\n",
    "click_through = stats.binom(n_trials, p)\n",
    "click_through"
   ]
  },
  {
   "cell_type": "code",
   "execution_count": 86,
   "id": "0c248440",
   "metadata": {},
   "outputs": [
    {
     "data": {
      "text/plain": [
       "0.13975823631416445"
      ]
     },
     "execution_count": 86,
     "metadata": {},
     "output_type": "execute_result"
    }
   ],
   "source": [
    "click_through.sf(96)"
   ]
  },
  {
   "cell_type": "markdown",
   "id": "f02b812d",
   "metadata": {},
   "source": [
    "### 4. You are working on some statistics homework consisting of 100 questions where all of the answers are a probability rounded to the hundreths place. Looking to save time, you put down random probabilities as the answer to each question.\n",
    "\n",
    "#### What is the probability that at least one of your first 60 answers is correct?"
   ]
  },
  {
   "cell_type": "code",
   "execution_count": 31,
   "id": "7c45ade8",
   "metadata": {},
   "outputs": [],
   "source": [
    "n_trials = 60\n",
    "p = 0.01\n",
    "\n",
    "correct_answer = stats.binom(n_trials, p)"
   ]
  },
  {
   "cell_type": "code",
   "execution_count": 103,
   "id": "d5736f6d",
   "metadata": {},
   "outputs": [
    {
     "data": {
      "text/plain": [
       "0.45284335760923855"
      ]
     },
     "execution_count": 103,
     "metadata": {},
     "output_type": "execute_result"
    }
   ],
   "source": [
    "correct_answer.sf(0)"
   ]
  },
  {
   "cell_type": "markdown",
   "id": "df03b25d",
   "metadata": {},
   "source": [
    "### 5. The codeup staff tends to get upset when the student break area is not cleaned up. Suppose that there's a 3% chance that any one student cleans the break area when they visit it, and, on any given day, about 90% of the 3 active cohorts of 22 students visit the break area. "
   ]
  },
  {
   "cell_type": "code",
   "execution_count": 34,
   "id": "0c53a88e",
   "metadata": {},
   "outputs": [],
   "source": [
    "n_trials = number_of_students = (22 * 3) * 0.9\n",
    "p = 0.03\n",
    "\n",
    "cleaned = stats.binom(n_trials, p)"
   ]
  },
  {
   "cell_type": "markdown",
   "id": "b31d543b",
   "metadata": {},
   "source": [
    "#### How likely is it that the break area gets cleaned up each day? "
   ]
  },
  {
   "cell_type": "code",
   "execution_count": 35,
   "id": "95cd1e46",
   "metadata": {},
   "outputs": [
    {
     "data": {
      "text/plain": [
       "0.8362274861228872"
      ]
     },
     "execution_count": 35,
     "metadata": {},
     "output_type": "execute_result"
    }
   ],
   "source": [
    "cleaned.sf(0)"
   ]
  },
  {
   "cell_type": "markdown",
   "id": "7d26db11",
   "metadata": {},
   "source": [
    "#### How likely is it that it goes two days without getting cleaned up? "
   ]
  },
  {
   "cell_type": "code",
   "execution_count": 36,
   "id": "b19cabb9",
   "metadata": {},
   "outputs": [
    {
     "data": {
      "text/plain": [
       "0.026821436301628997"
      ]
     },
     "execution_count": 36,
     "metadata": {},
     "output_type": "execute_result"
    }
   ],
   "source": [
    "stats.binom(n_trials*2, p).pmf(0)"
   ]
  },
  {
   "cell_type": "markdown",
   "id": "d7ad12dc",
   "metadata": {},
   "source": [
    "#### All week?"
   ]
  },
  {
   "cell_type": "code",
   "execution_count": 37,
   "id": "ded40e49",
   "metadata": {},
   "outputs": [
    {
     "data": {
      "text/plain": [
       "0.00011781621791055051"
      ]
     },
     "execution_count": 37,
     "metadata": {},
     "output_type": "execute_result"
    }
   ],
   "source": [
    "stats.binom(n_trials*5, p).pmf(0)"
   ]
  },
  {
   "cell_type": "markdown",
   "id": "6dbd1473",
   "metadata": {},
   "source": [
    "### 6. You want to get lunch at La Panaderia, but notice that the line is usually very long at lunchtime. After several weeks of careful observation, you notice that the average number of people in line when your lunch break starts is normally distributed with a mean of 15 and standard deviation of 3. If it takes 2 minutes for each person to order, and 10 minutes from ordering to getting your food, what is the likelihood that you have at least 15 minutes left to eat your food before you have to go back to class? Assume you have one hour for lunch, and ignore travel time to and from La Panaderia."
   ]
  },
  {
   "cell_type": "code",
   "execution_count": 68,
   "id": "09b36988",
   "metadata": {},
   "outputs": [],
   "source": [
    "μ = 15\n",
    "σ = 3\n",
    "\n",
    "people_dist = stats.norm(μ, σ)"
   ]
  },
  {
   "cell_type": "code",
   "execution_count": 69,
   "id": "ca355e11",
   "metadata": {},
   "outputs": [],
   "source": [
    "panaderia_time = people_dist.rvs(100_000)"
   ]
  },
  {
   "cell_type": "code",
   "execution_count": 70,
   "id": "77151cba",
   "metadata": {},
   "outputs": [
    {
     "data": {
      "text/plain": [
       "0.69049"
      ]
     },
     "execution_count": 70,
     "metadata": {},
     "output_type": "execute_result"
    }
   ],
   "source": [
    "((panaderia_time * 2 ) < 33).mean()"
   ]
  },
  {
   "cell_type": "code",
   "execution_count": 71,
   "id": "8728c574",
   "metadata": {},
   "outputs": [],
   "source": [
    "cristina = stats.norm(μ*2, σ*2)"
   ]
  },
  {
   "cell_type": "code",
   "execution_count": 72,
   "id": "4eba1031",
   "metadata": {},
   "outputs": [
    {
     "data": {
      "text/plain": [
       "0.6914624612740131"
      ]
     },
     "execution_count": 72,
     "metadata": {},
     "output_type": "execute_result"
    }
   ],
   "source": [
    "cristina.cdf(33)"
   ]
  },
  {
   "cell_type": "markdown",
   "id": "b2085fa3",
   "metadata": {},
   "source": [
    "### 7. Connect to the employees database and find the average salary of current employees, along with the standard deviation. For the following questions, calculate the answer based on modeling the employees salaries with a normal distribution defined by the calculated mean and standard deviation then compare this answer to the actual values present in the salaries dataset."
   ]
  },
  {
   "cell_type": "code",
   "execution_count": 49,
   "id": "a2217057",
   "metadata": {},
   "outputs": [],
   "source": [
    "employees_db_url = get_db_url('employees')\n",
    "employees_df = pd.read_sql('''\n",
    "SELECT * \n",
    "FROM salaries\n",
    "WHERE salaries.to_date > CURDATE()\n",
    "''', employees_db_url)"
   ]
  },
  {
   "cell_type": "code",
   "execution_count": 74,
   "id": "f960066f",
   "metadata": {},
   "outputs": [],
   "source": [
    "μ = employees_df.salary.mean()\n",
    "σ = employees_df.salary.std()"
   ]
  },
  {
   "cell_type": "code",
   "execution_count": 75,
   "id": "1e848975",
   "metadata": {},
   "outputs": [],
   "source": [
    "employees_salary_dist = stats.norm(μ,σ)"
   ]
  },
  {
   "cell_type": "markdown",
   "id": "4df3b969",
   "metadata": {},
   "source": [
    "#### What percent of employees earn less than 60,000?"
   ]
  },
  {
   "cell_type": "code",
   "execution_count": 76,
   "id": "d67b0295",
   "metadata": {},
   "outputs": [
    {
     "data": {
      "text/plain": [
       "0.2438393099761686"
      ]
     },
     "execution_count": 76,
     "metadata": {},
     "output_type": "execute_result"
    }
   ],
   "source": [
    "employees_salary_dist.cdf(59_999)"
   ]
  },
  {
   "cell_type": "markdown",
   "id": "817a947f",
   "metadata": {},
   "source": [
    "#### What percent of employees earn more than 95,000?"
   ]
  },
  {
   "cell_type": "code",
   "execution_count": 77,
   "id": "72e394a7",
   "metadata": {},
   "outputs": [
    {
     "data": {
      "text/plain": [
       "0.09208819199804053"
      ]
     },
     "execution_count": 77,
     "metadata": {},
     "output_type": "execute_result"
    }
   ],
   "source": [
    "employees_salary_dist.sf(95_000)"
   ]
  },
  {
   "cell_type": "markdown",
   "id": "d1644f6c",
   "metadata": {},
   "source": [
    "#### What percent of employees earn between 65,000 and 80,000?"
   ]
  },
  {
   "cell_type": "code",
   "execution_count": 79,
   "id": "f977673c",
   "metadata": {},
   "outputs": [
    {
     "data": {
      "text/plain": [
       "array([0.33506057])"
      ]
     },
     "execution_count": 79,
     "metadata": {},
     "output_type": "execute_result"
    }
   ],
   "source": [
    "np.diff(employees_salary_dist.cdf([65_000,80_000]))"
   ]
  },
  {
   "cell_type": "markdown",
   "id": "aa399396",
   "metadata": {},
   "source": [
    "#### What do the top 5% of employees make?"
   ]
  },
  {
   "cell_type": "code",
   "execution_count": 80,
   "id": "cb02984f",
   "metadata": {},
   "outputs": [
    {
     "data": {
      "text/plain": [
       "100484.64454102777"
      ]
     },
     "execution_count": 80,
     "metadata": {},
     "output_type": "execute_result"
    }
   ],
   "source": [
    "employees_salary_dist.isf(0.05)"
   ]
  },
  {
   "cell_type": "code",
   "execution_count": null,
   "id": "2c9f0b1e",
   "metadata": {},
   "outputs": [],
   "source": []
  }
 ],
 "metadata": {
  "kernelspec": {
   "display_name": "Python 3 (ipykernel)",
   "language": "python",
   "name": "python3"
  },
  "language_info": {
   "codemirror_mode": {
    "name": "ipython",
    "version": 3
   },
   "file_extension": ".py",
   "mimetype": "text/x-python",
   "name": "python",
   "nbconvert_exporter": "python",
   "pygments_lexer": "ipython3",
   "version": "3.9.12"
  }
 },
 "nbformat": 4,
 "nbformat_minor": 5
}
